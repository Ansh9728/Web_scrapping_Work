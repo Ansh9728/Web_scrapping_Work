{
 "cells": [
  {
   "cell_type": "code",
   "execution_count": 1,
   "id": "5f2922cc",
   "metadata": {},
   "outputs": [],
   "source": [
    "import pandas as pd\n",
    "import numpy as np\n"
   ]
  },
  {
   "cell_type": "code",
   "execution_count": 2,
   "id": "f0c8a93a",
   "metadata": {},
   "outputs": [],
   "source": [
    "df  = pd.read_excel('Indian Exporter and Importer Data.xlsx')"
   ]
  },
  {
   "cell_type": "code",
   "execution_count": 3,
   "id": "20f66b05",
   "metadata": {},
   "outputs": [
    {
     "data": {
      "text/html": [
       "<div>\n",
       "<style scoped>\n",
       "    .dataframe tbody tr th:only-of-type {\n",
       "        vertical-align: middle;\n",
       "    }\n",
       "\n",
       "    .dataframe tbody tr th {\n",
       "        vertical-align: top;\n",
       "    }\n",
       "\n",
       "    .dataframe thead th {\n",
       "        text-align: right;\n",
       "    }\n",
       "</style>\n",
       "<table border=\"1\" class=\"dataframe\">\n",
       "  <thead>\n",
       "    <tr style=\"text-align: right;\">\n",
       "      <th></th>\n",
       "      <th>S.No</th>\n",
       "      <th>COMPANY NAME</th>\n",
       "      <th>ADD.</th>\n",
       "      <th>CITY</th>\n",
       "      <th>PIN</th>\n",
       "      <th>STATE</th>\n",
       "      <th>CONTACT NO.</th>\n",
       "      <th>MOBILE NO.</th>\n",
       "      <th>MOBILE NO..1</th>\n",
       "      <th>EMAIL ID</th>\n",
       "      <th>WEBSITE</th>\n",
       "      <th>BUSINESS DETAILS</th>\n",
       "    </tr>\n",
       "  </thead>\n",
       "  <tbody>\n",
       "    <tr>\n",
       "      <th>518933</th>\n",
       "      <td>NaN</td>\n",
       "      <td>NaN</td>\n",
       "      <td>NaN</td>\n",
       "      <td>NaN</td>\n",
       "      <td>NaN</td>\n",
       "      <td>NaN</td>\n",
       "      <td>NaN</td>\n",
       "      <td>NaN</td>\n",
       "      <td>NaN</td>\n",
       "      <td>NaN</td>\n",
       "      <td>NaN</td>\n",
       "      <td>NaN</td>\n",
       "    </tr>\n",
       "    <tr>\n",
       "      <th>666965</th>\n",
       "      <td>NaN</td>\n",
       "      <td>NaN</td>\n",
       "      <td>NaN</td>\n",
       "      <td>NaN</td>\n",
       "      <td>NaN</td>\n",
       "      <td>NaN</td>\n",
       "      <td>NaN</td>\n",
       "      <td>NaN</td>\n",
       "      <td>NaN</td>\n",
       "      <td>NaN</td>\n",
       "      <td>NaN</td>\n",
       "      <td>NaN</td>\n",
       "    </tr>\n",
       "    <tr>\n",
       "      <th>331981</th>\n",
       "      <td>NaN</td>\n",
       "      <td>NaN</td>\n",
       "      <td>NaN</td>\n",
       "      <td>NaN</td>\n",
       "      <td>NaN</td>\n",
       "      <td>NaN</td>\n",
       "      <td>NaN</td>\n",
       "      <td>NaN</td>\n",
       "      <td>NaN</td>\n",
       "      <td>NaN</td>\n",
       "      <td>NaN</td>\n",
       "      <td>NaN</td>\n",
       "    </tr>\n",
       "  </tbody>\n",
       "</table>\n",
       "</div>"
      ],
      "text/plain": [
       "        S.No COMPANY NAME ADD. CITY  PIN STATE CONTACT NO. MOBILE NO.   \n",
       "518933   NaN          NaN  NaN  NaN  NaN   NaN         NaN        NaN  \\\n",
       "666965   NaN          NaN  NaN  NaN  NaN   NaN         NaN        NaN   \n",
       "331981   NaN          NaN  NaN  NaN  NaN   NaN         NaN        NaN   \n",
       "\n",
       "       MOBILE NO..1 EMAIL ID WEBSITE BUSINESS DETAILS  \n",
       "518933          NaN      NaN     NaN              NaN  \n",
       "666965          NaN      NaN     NaN              NaN  \n",
       "331981          NaN      NaN     NaN              NaN  "
      ]
     },
     "execution_count": 3,
     "metadata": {},
     "output_type": "execute_result"
    }
   ],
   "source": [
    "df.sample(3)"
   ]
  },
  {
   "cell_type": "code",
   "execution_count": 4,
   "id": "c09f34e8",
   "metadata": {},
   "outputs": [
    {
     "data": {
      "text/plain": [
       "(1048575, 12)"
      ]
     },
     "execution_count": 4,
     "metadata": {},
     "output_type": "execute_result"
    }
   ],
   "source": [
    "df.shape"
   ]
  },
  {
   "cell_type": "code",
   "execution_count": 5,
   "id": "764003b3",
   "metadata": {},
   "outputs": [],
   "source": [
    "import seaborn as sns"
   ]
  },
  {
   "cell_type": "code",
   "execution_count": 6,
   "id": "6cb56ab1",
   "metadata": {},
   "outputs": [
    {
     "data": {
      "text/html": [
       "<div>\n",
       "<style scoped>\n",
       "    .dataframe tbody tr th:only-of-type {\n",
       "        vertical-align: middle;\n",
       "    }\n",
       "\n",
       "    .dataframe tbody tr th {\n",
       "        vertical-align: top;\n",
       "    }\n",
       "\n",
       "    .dataframe thead th {\n",
       "        text-align: right;\n",
       "    }\n",
       "</style>\n",
       "<table border=\"1\" class=\"dataframe\">\n",
       "  <thead>\n",
       "    <tr style=\"text-align: right;\">\n",
       "      <th></th>\n",
       "      <th>S.No</th>\n",
       "      <th>COMPANY NAME</th>\n",
       "      <th>ADD.</th>\n",
       "      <th>CITY</th>\n",
       "      <th>PIN</th>\n",
       "      <th>STATE</th>\n",
       "      <th>CONTACT NO.</th>\n",
       "      <th>MOBILE NO.</th>\n",
       "      <th>MOBILE NO..1</th>\n",
       "      <th>EMAIL ID</th>\n",
       "      <th>WEBSITE</th>\n",
       "      <th>BUSINESS DETAILS</th>\n",
       "    </tr>\n",
       "  </thead>\n",
       "  <tbody>\n",
       "    <tr>\n",
       "      <th>0</th>\n",
       "      <td>1.0</td>\n",
       "      <td>Multiwyn International Pvt. Ltd.</td>\n",
       "      <td>1 A, Jain Kunj, 1st Floor, Gopal Bari</td>\n",
       "      <td>Jaipur</td>\n",
       "      <td>302001</td>\n",
       "      <td>Rajasthan</td>\n",
       "      <td>91-141-4028269</td>\n",
       "      <td>9829052269</td>\n",
       "      <td>9829052269</td>\n",
       "      <td>multiwyn.in@gmail.com</td>\n",
       "      <td>www.multiwyn.info</td>\n",
       "      <td>Multiwyn International are into Natural stones...</td>\n",
       "    </tr>\n",
       "    <tr>\n",
       "      <th>1</th>\n",
       "      <td>2.0</td>\n",
       "      <td>Nice Granites Pvt. Ltd.  (Nice Exports Inc)</td>\n",
       "      <td>H-21A F-4, Kuber Complex, Bhagat Singh Marg, C...</td>\n",
       "      <td>Jaipur</td>\n",
       "      <td>302001</td>\n",
       "      <td>Rajasthan</td>\n",
       "      <td>91-141-2378335</td>\n",
       "      <td>9829015975</td>\n",
       "      <td>9829015975</td>\n",
       "      <td>niceexportsinc2009@gmail.com</td>\n",
       "      <td>www.niceexportsinc.com</td>\n",
       "      <td>20 year old company dealing in manufacturing a...</td>\n",
       "    </tr>\n",
       "    <tr>\n",
       "      <th>2</th>\n",
       "      <td>3.0</td>\n",
       "      <td>Nickunj Eximp Entp Pvt. Ltd.</td>\n",
       "      <td>93, Jeravar Bhavan, Maharshi Karve Road, Marin...</td>\n",
       "      <td>Mumbai</td>\n",
       "      <td>400020</td>\n",
       "      <td>Maharashtra</td>\n",
       "      <td>91-22-22190300</td>\n",
       "      <td>9686452643</td>\n",
       "      <td>9686452643</td>\n",
       "      <td>info@nickunjgroup.com</td>\n",
       "      <td>www.nickunj.com</td>\n",
       "      <td>Nickunj offers various solutions for Diamond T...</td>\n",
       "    </tr>\n",
       "    <tr>\n",
       "      <th>3</th>\n",
       "      <td>4.0</td>\n",
       "      <td>Pegasus Imports-India</td>\n",
       "      <td>43, Road No-9, Nutan Laxmi Society, Juhu Scheme</td>\n",
       "      <td>Mumbai</td>\n",
       "      <td>400049</td>\n",
       "      <td>Maharashtra</td>\n",
       "      <td>22-26705716</td>\n",
       "      <td>9821115189</td>\n",
       "      <td>9821115189</td>\n",
       "      <td>info@indiafnb.com</td>\n",
       "      <td>http://www.indiafnb.com</td>\n",
       "      <td>Olive Oil, Pasta, Olives, Italian Foodstuffs, ...</td>\n",
       "    </tr>\n",
       "    <tr>\n",
       "      <th>4</th>\n",
       "      <td>5.0</td>\n",
       "      <td>Bajeria Industries</td>\n",
       "      <td>103 Dr Mascarenhas Road,Mazgaon</td>\n",
       "      <td>Mumbai</td>\n",
       "      <td>400010</td>\n",
       "      <td>Maharashtra</td>\n",
       "      <td>91-22-23723727</td>\n",
       "      <td>9324242418</td>\n",
       "      <td>9324242418</td>\n",
       "      <td>bajeriassk@gmail.com</td>\n",
       "      <td>www.bajeria.com</td>\n",
       "      <td>Manufacturer and Exporter of Copper &amp; Aluminiu...</td>\n",
       "    </tr>\n",
       "  </tbody>\n",
       "</table>\n",
       "</div>"
      ],
      "text/plain": [
       "   S.No                                 COMPANY NAME   \n",
       "0   1.0             Multiwyn International Pvt. Ltd.  \\\n",
       "1   2.0  Nice Granites Pvt. Ltd.  (Nice Exports Inc)   \n",
       "2   3.0                Nickunj Eximp Entp Pvt. Ltd.    \n",
       "3   4.0                        Pegasus Imports-India   \n",
       "4   5.0                           Bajeria Industries   \n",
       "\n",
       "                                                ADD.     CITY     PIN   \n",
       "0             1 A, Jain Kunj, 1st Floor, Gopal Bari    Jaipur  302001  \\\n",
       "1  H-21A F-4, Kuber Complex, Bhagat Singh Marg, C...  Jaipur   302001   \n",
       "2  93, Jeravar Bhavan, Maharshi Karve Road, Marin...   Mumbai  400020   \n",
       "3    43, Road No-9, Nutan Laxmi Society, Juhu Scheme   Mumbai  400049   \n",
       "4                  103 Dr Mascarenhas Road,Mazgaon     Mumbai  400010   \n",
       "\n",
       "         STATE     CONTACT NO.  MOBILE NO. MOBILE NO..1   \n",
       "0   Rajasthan   91-141-4028269  9829052269   9829052269  \\\n",
       "1    Rajasthan  91-141-2378335  9829015975   9829015975   \n",
       "2  Maharashtra  91-22-22190300  9686452643   9686452643   \n",
       "3  Maharashtra     22-26705716  9821115189   9821115189   \n",
       "4  Maharashtra  91-22-23723727  9324242418   9324242418   \n",
       "\n",
       "                       EMAIL ID                  WEBSITE   \n",
       "0         multiwyn.in@gmail.com        www.multiwyn.info  \\\n",
       "1  niceexportsinc2009@gmail.com   www.niceexportsinc.com   \n",
       "2         info@nickunjgroup.com          www.nickunj.com   \n",
       "3             info@indiafnb.com  http://www.indiafnb.com   \n",
       "4          bajeriassk@gmail.com          www.bajeria.com   \n",
       "\n",
       "                                    BUSINESS DETAILS  \n",
       "0  Multiwyn International are into Natural stones...  \n",
       "1  20 year old company dealing in manufacturing a...  \n",
       "2  Nickunj offers various solutions for Diamond T...  \n",
       "3  Olive Oil, Pasta, Olives, Italian Foodstuffs, ...  \n",
       "4  Manufacturer and Exporter of Copper & Aluminiu...  "
      ]
     },
     "execution_count": 6,
     "metadata": {},
     "output_type": "execute_result"
    }
   ],
   "source": [
    "df.head()"
   ]
  },
  {
   "cell_type": "code",
   "execution_count": 7,
   "id": "d9b15cd3",
   "metadata": {},
   "outputs": [
    {
     "data": {
      "text/plain": [
       "S.No                 958779\n",
       "COMPANY NAME         958779\n",
       "ADD.                 966332\n",
       "CITY                 965819\n",
       "PIN                  997106\n",
       "STATE                987312\n",
       "CONTACT NO.          999325\n",
       "MOBILE NO.          1008414\n",
       "MOBILE NO..1        1047574\n",
       "EMAIL ID             975025\n",
       "WEBSITE             1021779\n",
       "BUSINESS DETAILS     959159\n",
       "dtype: int64"
      ]
     },
     "execution_count": 7,
     "metadata": {},
     "output_type": "execute_result"
    }
   ],
   "source": [
    "df.isnull().sum()"
   ]
  },
  {
   "cell_type": "code",
   "execution_count": 8,
   "id": "201c2ddd",
   "metadata": {},
   "outputs": [
    {
     "data": {
      "text/plain": [
       "Index(['S.No', 'COMPANY NAME', 'ADD.', 'CITY', 'PIN', 'STATE', 'CONTACT NO.',\n",
       "       'MOBILE NO.', 'MOBILE NO..1', 'EMAIL ID', 'WEBSITE',\n",
       "       'BUSINESS DETAILS'],\n",
       "      dtype='object')"
      ]
     },
     "execution_count": 8,
     "metadata": {},
     "output_type": "execute_result"
    }
   ],
   "source": [
    "df.columns"
   ]
  },
  {
   "cell_type": "code",
   "execution_count": 9,
   "id": "aa474abc",
   "metadata": {},
   "outputs": [
    {
     "data": {
      "text/plain": [
       "<AxesSubplot:>"
      ]
     },
     "execution_count": 9,
     "metadata": {},
     "output_type": "execute_result"
    },
    {
     "data": {
      "image/png": "[encoded data removed]",
      "text/plain": [
       "<Figure size 640x480 with 2 Axes>"
      ]
     },
     "metadata": {},
     "output_type": "display_data"
    }
   ],
   "source": [
    "sns.heatmap(df.isnull())"
   ]
  },
  {
   "cell_type": "code",
   "execution_count": 10,
   "id": "7124339f",
   "metadata": {},
   "outputs": [],
   "source": [
    "df_con = df[['CONTACT NO.','MOBILE NO.', 'MOBILE NO..1', 'EMAIL ID']]"
   ]
  },
  {
   "cell_type": "code",
   "execution_count": 11,
   "id": "38cf7100",
   "metadata": {},
   "outputs": [],
   "source": [
    "d = df_con['CONTACT NO.'].dropna()"
   ]
  },
  {
   "cell_type": "code",
   "execution_count": 12,
   "id": "f9a1e89c",
   "metadata": {},
   "outputs": [
    {
     "data": {
      "text/plain": [
       "<AxesSubplot:>"
      ]
     },
     "execution_count": 12,
     "metadata": {},
     "output_type": "execute_result"
    },
    {
     "data": {
      "image/png": "[encoded data removed]",
      "text/plain": [
       "<Figure size 640x480 with 2 Axes>"
      ]
     },
     "metadata": {},
     "output_type": "display_data"
    }
   ],
   "source": [
    "sns.heatmap(df_con.isnull())"
   ]
  },
  {
   "cell_type": "code",
   "execution_count": 13,
   "id": "621182f9",
   "metadata": {},
   "outputs": [],
   "source": [
    "df_con = df[['CONTACT NO.','MOBILE NO.', 'EMAIL ID']]"
   ]
  },
  {
   "cell_type": "code",
   "execution_count": 14,
   "id": "e5b98d4a",
   "metadata": {},
   "outputs": [],
   "source": [
    "#sns.heatmap(df_con.isnull())"
   ]
  },
  {
   "cell_type": "markdown",
   "id": "89b11bea",
   "metadata": {},
   "source": [
    "#### Funs=ction to remove mor than 10 digit number"
   ]
  },
  {
   "cell_type": "code",
   "execution_count": 15,
   "id": "430d5268",
   "metadata": {},
   "outputs": [],
   "source": [
    "def remove_extra_digit(number):\n",
    "    if len(number)>10:\n",
    "        return number[2:]\n",
    "    else:\n",
    "        return number\n",
    "    "
   ]
  },
  {
   "cell_type": "code",
   "execution_count": 16,
   "id": "c005cb62",
   "metadata": {},
   "outputs": [
    {
     "data": {
      "text/plain": [
       "(1048575, 3)"
      ]
     },
     "execution_count": 16,
     "metadata": {},
     "output_type": "execute_result"
    }
   ],
   "source": [
    "df_con.shape"
   ]
  },
  {
   "cell_type": "code",
   "execution_count": 114,
   "id": "9b906d4d",
   "metadata": {},
   "outputs": [
    {
     "data": {
      "text/html": [
       "<div>\n",
       "<style scoped>\n",
       "    .dataframe tbody tr th:only-of-type {\n",
       "        vertical-align: middle;\n",
       "    }\n",
       "\n",
       "    .dataframe tbody tr th {\n",
       "        vertical-align: top;\n",
       "    }\n",
       "\n",
       "    .dataframe thead th {\n",
       "        text-align: right;\n",
       "    }\n",
       "</style>\n",
       "<table border=\"1\" class=\"dataframe\">\n",
       "  <thead>\n",
       "    <tr style=\"text-align: right;\">\n",
       "      <th></th>\n",
       "      <th>CONTACT NO.</th>\n",
       "      <th>MOBILE NO.</th>\n",
       "    </tr>\n",
       "  </thead>\n",
       "  <tbody>\n",
       "    <tr>\n",
       "      <th>0</th>\n",
       "      <td>-141-4028269</td>\n",
       "      <td>9829052269</td>\n",
       "    </tr>\n",
       "    <tr>\n",
       "      <th>1</th>\n",
       "      <td>-141-2378335</td>\n",
       "      <td>9829015975</td>\n",
       "    </tr>\n",
       "    <tr>\n",
       "      <th>2</th>\n",
       "      <td>-22-22190300</td>\n",
       "      <td>9686452643</td>\n",
       "    </tr>\n",
       "    <tr>\n",
       "      <th>3</th>\n",
       "      <td>-26705716</td>\n",
       "      <td>9821115189</td>\n",
       "    </tr>\n",
       "    <tr>\n",
       "      <th>4</th>\n",
       "      <td>-22-23723727</td>\n",
       "      <td>9324242418</td>\n",
       "    </tr>\n",
       "  </tbody>\n",
       "</table>\n",
       "</div>"
      ],
      "text/plain": [
       "    CONTACT NO.  MOBILE NO.\n",
       "0  -141-4028269  9829052269\n",
       "1  -141-2378335  9829015975\n",
       "2  -22-22190300  9686452643\n",
       "3     -26705716  9821115189\n",
       "4  -22-23723727  9324242418"
      ]
     },
     "execution_count": 114,
     "metadata": {},
     "output_type": "execute_result"
    }
   ],
   "source": [
    "df_con.head()"
   ]
  },
  {
   "cell_type": "code",
   "execution_count": 115,
   "id": "529668b4",
   "metadata": {},
   "outputs": [
    {
     "name": "stderr",
     "output_type": "stream",
     "text": [
      "C:\\Users\\Admin\\AppData\\Local\\Temp\\ipykernel_11560\\2602395806.py:1: SettingWithCopyWarning: \n",
      "A value is trying to be set on a copy of a slice from a DataFrame.\n",
      "Try using .loc[row_indexer,col_indexer] = value instead\n",
      "\n",
      "See the caveats in the documentation: https://pandas.pydata.org/pandas-docs/stable/user_guide/indexing.html#returning-a-view-versus-a-copy\n",
      "  df_con['CONTACT NO.']=df_con['CONTACT NO.'].astype(str)\n"
     ]
    }
   ],
   "source": [
    "df_con['CONTACT NO.']=df_con['CONTACT NO.'].astype(str)"
   ]
  },
  {
   "cell_type": "code",
   "execution_count": 17,
   "id": "3a4008ba",
   "metadata": {},
   "outputs": [
    {
     "name": "stderr",
     "output_type": "stream",
     "text": [
      "C:\\Users\\Admin\\AppData\\Local\\Temp\\ipykernel_10144\\4144513222.py:1: SettingWithCopyWarning: \n",
      "A value is trying to be set on a copy of a slice from a DataFrame.\n",
      "Try using .loc[row_indexer,col_indexer] = value instead\n",
      "\n",
      "See the caveats in the documentation: https://pandas.pydata.org/pandas-docs/stable/user_guide/indexing.html#returning-a-view-versus-a-copy\n",
      "  df_con['CONTACT NO.'] = df_con['CONTACT NO.'].str.replace('-','')\n"
     ]
    }
   ],
   "source": [
    "df_con['CONTACT NO.'] = df_con['CONTACT NO.'].str.replace('-','')"
   ]
  },
  {
   "cell_type": "code",
   "execution_count": 18,
   "id": "257c5963",
   "metadata": {},
   "outputs": [],
   "source": [
    "df_fcon = df_con[['CONTACT NO.','MOBILE NO.']]"
   ]
  },
  {
   "cell_type": "code",
   "execution_count": 19,
   "id": "a361c370",
   "metadata": {},
   "outputs": [
    {
     "name": "stderr",
     "output_type": "stream",
     "text": [
      "C:\\Users\\Admin\\AppData\\Local\\Temp\\ipykernel_10144\\2325487421.py:1: SettingWithCopyWarning: \n",
      "A value is trying to be set on a copy of a slice from a DataFrame.\n",
      "Try using .loc[row_indexer,col_indexer] = value instead\n",
      "\n",
      "See the caveats in the documentation: https://pandas.pydata.org/pandas-docs/stable/user_guide/indexing.html#returning-a-view-versus-a-copy\n",
      "  df_fcon[:] = df_fcon[:].astype(str)\n"
     ]
    }
   ],
   "source": [
    "df_fcon[:] = df_fcon[:].astype(str)"
   ]
  },
  {
   "cell_type": "code",
   "execution_count": 20,
   "id": "9d59646d",
   "metadata": {},
   "outputs": [
    {
     "name": "stderr",
     "output_type": "stream",
     "text": [
      "C:\\Users\\Admin\\AppData\\Local\\Temp\\ipykernel_10144\\3488854868.py:1: SettingWithCopyWarning: \n",
      "A value is trying to be set on a copy of a slice from a DataFrame.\n",
      "Try using .loc[row_indexer,col_indexer] = value instead\n",
      "\n",
      "See the caveats in the documentation: https://pandas.pydata.org/pandas-docs/stable/user_guide/indexing.html#returning-a-view-versus-a-copy\n",
      "  df_fcon['CONTACT NO.'] = df_fcon['CONTACT NO.'].apply(remove_extra_digit)\n"
     ]
    }
   ],
   "source": [
    "df_fcon['CONTACT NO.'] = df_fcon['CONTACT NO.'].apply(remove_extra_digit)"
   ]
  },
  {
   "cell_type": "code",
   "execution_count": 21,
   "id": "62ca32c5",
   "metadata": {},
   "outputs": [
    {
     "name": "stderr",
     "output_type": "stream",
     "text": [
      "C:\\Users\\Admin\\AppData\\Local\\Temp\\ipykernel_10144\\1455327361.py:1: SettingWithCopyWarning: \n",
      "A value is trying to be set on a copy of a slice from a DataFrame\n",
      "\n",
      "See the caveats in the documentation: https://pandas.pydata.org/pandas-docs/stable/user_guide/indexing.html#returning-a-view-versus-a-copy\n",
      "  df_fcon.replace('nan',np.nan,inplace=True)\n"
     ]
    }
   ],
   "source": [
    "df_fcon.replace('nan',np.nan,inplace=True)"
   ]
  },
  {
   "cell_type": "code",
   "execution_count": 22,
   "id": "9daf7c26",
   "metadata": {},
   "outputs": [],
   "source": [
    "df_fcon= df_fcon.dropna()"
   ]
  },
  {
   "cell_type": "code",
   "execution_count": 23,
   "id": "317282f2",
   "metadata": {},
   "outputs": [
    {
     "data": {
      "text/plain": [
       "<AxesSubplot:>"
      ]
     },
     "execution_count": 23,
     "metadata": {},
     "output_type": "execute_result"
    },
    {
     "data": {
      "image/png": "[encoded data removed]",
      "text/plain": [
       "<Figure size 640x480 with 2 Axes>"
      ]
     },
     "metadata": {},
     "output_type": "display_data"
    }
   ],
   "source": [
    "sns.heatmap(df_fcon.isnull())"
   ]
  },
  {
   "cell_type": "code",
   "execution_count": 24,
   "id": "5bad5b65",
   "metadata": {},
   "outputs": [
    {
     "data": {
      "text/html": [
       "<div>\n",
       "<style scoped>\n",
       "    .dataframe tbody tr th:only-of-type {\n",
       "        vertical-align: middle;\n",
       "    }\n",
       "\n",
       "    .dataframe tbody tr th {\n",
       "        vertical-align: top;\n",
       "    }\n",
       "\n",
       "    .dataframe thead th {\n",
       "        text-align: right;\n",
       "    }\n",
       "</style>\n",
       "<table border=\"1\" class=\"dataframe\">\n",
       "  <thead>\n",
       "    <tr style=\"text-align: right;\">\n",
       "      <th></th>\n",
       "      <th>CONTACT NO.</th>\n",
       "      <th>MOBILE NO.</th>\n",
       "    </tr>\n",
       "  </thead>\n",
       "  <tbody>\n",
       "    <tr>\n",
       "      <th>0</th>\n",
       "      <td>1414028269</td>\n",
       "      <td>9829052269</td>\n",
       "    </tr>\n",
       "    <tr>\n",
       "      <th>1</th>\n",
       "      <td>1412378335</td>\n",
       "      <td>9829015975</td>\n",
       "    </tr>\n",
       "    <tr>\n",
       "      <th>2</th>\n",
       "      <td>2222190300</td>\n",
       "      <td>9686452643</td>\n",
       "    </tr>\n",
       "    <tr>\n",
       "      <th>3</th>\n",
       "      <td>2226705716</td>\n",
       "      <td>9821115189</td>\n",
       "    </tr>\n",
       "    <tr>\n",
       "      <th>4</th>\n",
       "      <td>2223723727</td>\n",
       "      <td>9324242418</td>\n",
       "    </tr>\n",
       "    <tr>\n",
       "      <th>...</th>\n",
       "      <td>...</td>\n",
       "      <td>...</td>\n",
       "    </tr>\n",
       "    <tr>\n",
       "      <th>88969</th>\n",
       "      <td>2225215048</td>\n",
       "      <td>9320231817/9322231817</td>\n",
       "    </tr>\n",
       "    <tr>\n",
       "      <th>88970</th>\n",
       "      <td>1143010350</td>\n",
       "      <td>9015950123</td>\n",
       "    </tr>\n",
       "    <tr>\n",
       "      <th>88972</th>\n",
       "      <td></td>\n",
       "      <td>9847062633</td>\n",
       "    </tr>\n",
       "    <tr>\n",
       "      <th>88973</th>\n",
       "      <td></td>\n",
       "      <td>9059334034</td>\n",
       "    </tr>\n",
       "    <tr>\n",
       "      <th>88976</th>\n",
       "      <td></td>\n",
       "      <td>9920566244</td>\n",
       "    </tr>\n",
       "  </tbody>\n",
       "</table>\n",
       "<p>8594 rows × 2 columns</p>\n",
       "</div>"
      ],
      "text/plain": [
       "      CONTACT NO.             MOBILE NO.\n",
       "0      1414028269             9829052269\n",
       "1      1412378335             9829015975\n",
       "2      2222190300             9686452643\n",
       "3      2226705716             9821115189\n",
       "4      2223723727             9324242418\n",
       "...           ...                    ...\n",
       "88969  2225215048  9320231817/9322231817\n",
       "88970  1143010350             9015950123\n",
       "88972                         9847062633\n",
       "88973                         9059334034\n",
       "88976                         9920566244\n",
       "\n",
       "[8594 rows x 2 columns]"
      ]
     },
     "execution_count": 24,
     "metadata": {},
     "output_type": "execute_result"
    }
   ],
   "source": [
    "df_fcon"
   ]
  },
  {
   "cell_type": "code",
   "execution_count": 25,
   "id": "ced6efdf",
   "metadata": {},
   "outputs": [
    {
     "data": {
      "text/html": [
       "<div>\n",
       "<style scoped>\n",
       "    .dataframe tbody tr th:only-of-type {\n",
       "        vertical-align: middle;\n",
       "    }\n",
       "\n",
       "    .dataframe tbody tr th {\n",
       "        vertical-align: top;\n",
       "    }\n",
       "\n",
       "    .dataframe thead th {\n",
       "        text-align: right;\n",
       "    }\n",
       "</style>\n",
       "<table border=\"1\" class=\"dataframe\">\n",
       "  <thead>\n",
       "    <tr style=\"text-align: right;\">\n",
       "      <th></th>\n",
       "      <th>CONTACT NO.</th>\n",
       "      <th>MOBILE NO.</th>\n",
       "    </tr>\n",
       "  </thead>\n",
       "  <tbody>\n",
       "    <tr>\n",
       "      <th>0</th>\n",
       "      <td>1414028269</td>\n",
       "      <td>9829052269</td>\n",
       "    </tr>\n",
       "    <tr>\n",
       "      <th>1</th>\n",
       "      <td>1412378335</td>\n",
       "      <td>9829015975</td>\n",
       "    </tr>\n",
       "    <tr>\n",
       "      <th>2</th>\n",
       "      <td>2222190300</td>\n",
       "      <td>9686452643</td>\n",
       "    </tr>\n",
       "    <tr>\n",
       "      <th>3</th>\n",
       "      <td>2226705716</td>\n",
       "      <td>9821115189</td>\n",
       "    </tr>\n",
       "    <tr>\n",
       "      <th>4</th>\n",
       "      <td>2223723727</td>\n",
       "      <td>9324242418</td>\n",
       "    </tr>\n",
       "    <tr>\n",
       "      <th>...</th>\n",
       "      <td>...</td>\n",
       "      <td>...</td>\n",
       "    </tr>\n",
       "    <tr>\n",
       "      <th>88969</th>\n",
       "      <td>2225215048</td>\n",
       "      <td>9320231817/9322231817</td>\n",
       "    </tr>\n",
       "    <tr>\n",
       "      <th>88970</th>\n",
       "      <td>1143010350</td>\n",
       "      <td>9015950123</td>\n",
       "    </tr>\n",
       "    <tr>\n",
       "      <th>88972</th>\n",
       "      <td></td>\n",
       "      <td>9847062633</td>\n",
       "    </tr>\n",
       "    <tr>\n",
       "      <th>88973</th>\n",
       "      <td></td>\n",
       "      <td>9059334034</td>\n",
       "    </tr>\n",
       "    <tr>\n",
       "      <th>88976</th>\n",
       "      <td></td>\n",
       "      <td>9920566244</td>\n",
       "    </tr>\n",
       "  </tbody>\n",
       "</table>\n",
       "<p>8594 rows × 2 columns</p>\n",
       "</div>"
      ],
      "text/plain": [
       "      CONTACT NO.             MOBILE NO.\n",
       "0      1414028269             9829052269\n",
       "1      1412378335             9829015975\n",
       "2      2222190300             9686452643\n",
       "3      2226705716             9821115189\n",
       "4      2223723727             9324242418\n",
       "...           ...                    ...\n",
       "88969  2225215048  9320231817/9322231817\n",
       "88970  1143010350             9015950123\n",
       "88972                         9847062633\n",
       "88973                         9059334034\n",
       "88976                         9920566244\n",
       "\n",
       "[8594 rows x 2 columns]"
      ]
     },
     "execution_count": 25,
     "metadata": {},
     "output_type": "execute_result"
    }
   ],
   "source": [
    "df_fcon"
   ]
  },
  {
   "cell_type": "code",
   "execution_count": 26,
   "id": "3bad6aa5",
   "metadata": {},
   "outputs": [],
   "source": [
    "df_con_email = df_con['EMAIL ID']"
   ]
  },
  {
   "cell_type": "code",
   "execution_count": 27,
   "id": "9592d9a4",
   "metadata": {},
   "outputs": [],
   "source": [
    "df_final = pd.concat([df_fcon,df_con_email],axis=1)"
   ]
  },
  {
   "cell_type": "code",
   "execution_count": 28,
   "id": "365b585c",
   "metadata": {},
   "outputs": [
    {
     "data": {
      "text/html": [
       "<div>\n",
       "<style scoped>\n",
       "    .dataframe tbody tr th:only-of-type {\n",
       "        vertical-align: middle;\n",
       "    }\n",
       "\n",
       "    .dataframe tbody tr th {\n",
       "        vertical-align: top;\n",
       "    }\n",
       "\n",
       "    .dataframe thead th {\n",
       "        text-align: right;\n",
       "    }\n",
       "</style>\n",
       "<table border=\"1\" class=\"dataframe\">\n",
       "  <thead>\n",
       "    <tr style=\"text-align: right;\">\n",
       "      <th></th>\n",
       "      <th>CONTACT NO.</th>\n",
       "      <th>MOBILE NO.</th>\n",
       "      <th>EMAIL ID</th>\n",
       "    </tr>\n",
       "  </thead>\n",
       "  <tbody>\n",
       "    <tr>\n",
       "      <th>0</th>\n",
       "      <td>1414028269</td>\n",
       "      <td>9829052269</td>\n",
       "      <td>multiwyn.in@gmail.com</td>\n",
       "    </tr>\n",
       "    <tr>\n",
       "      <th>1</th>\n",
       "      <td>1412378335</td>\n",
       "      <td>9829015975</td>\n",
       "      <td>niceexportsinc2009@gmail.com</td>\n",
       "    </tr>\n",
       "    <tr>\n",
       "      <th>2</th>\n",
       "      <td>2222190300</td>\n",
       "      <td>9686452643</td>\n",
       "      <td>info@nickunjgroup.com</td>\n",
       "    </tr>\n",
       "    <tr>\n",
       "      <th>3</th>\n",
       "      <td>2226705716</td>\n",
       "      <td>9821115189</td>\n",
       "      <td>info@indiafnb.com</td>\n",
       "    </tr>\n",
       "    <tr>\n",
       "      <th>4</th>\n",
       "      <td>2223723727</td>\n",
       "      <td>9324242418</td>\n",
       "      <td>bajeriassk@gmail.com</td>\n",
       "    </tr>\n",
       "    <tr>\n",
       "      <th>...</th>\n",
       "      <td>...</td>\n",
       "      <td>...</td>\n",
       "      <td>...</td>\n",
       "    </tr>\n",
       "    <tr>\n",
       "      <th>1048570</th>\n",
       "      <td>NaN</td>\n",
       "      <td>NaN</td>\n",
       "      <td>NaN</td>\n",
       "    </tr>\n",
       "    <tr>\n",
       "      <th>1048571</th>\n",
       "      <td>NaN</td>\n",
       "      <td>NaN</td>\n",
       "      <td>NaN</td>\n",
       "    </tr>\n",
       "    <tr>\n",
       "      <th>1048572</th>\n",
       "      <td>NaN</td>\n",
       "      <td>NaN</td>\n",
       "      <td>NaN</td>\n",
       "    </tr>\n",
       "    <tr>\n",
       "      <th>1048573</th>\n",
       "      <td>NaN</td>\n",
       "      <td>NaN</td>\n",
       "      <td>NaN</td>\n",
       "    </tr>\n",
       "    <tr>\n",
       "      <th>1048574</th>\n",
       "      <td>NaN</td>\n",
       "      <td>NaN</td>\n",
       "      <td>NaN</td>\n",
       "    </tr>\n",
       "  </tbody>\n",
       "</table>\n",
       "<p>1048575 rows × 3 columns</p>\n",
       "</div>"
      ],
      "text/plain": [
       "        CONTACT NO.  MOBILE NO.                      EMAIL ID\n",
       "0        1414028269  9829052269         multiwyn.in@gmail.com\n",
       "1        1412378335  9829015975  niceexportsinc2009@gmail.com\n",
       "2        2222190300  9686452643         info@nickunjgroup.com\n",
       "3        2226705716  9821115189             info@indiafnb.com\n",
       "4        2223723727  9324242418          bajeriassk@gmail.com\n",
       "...             ...         ...                           ...\n",
       "1048570         NaN         NaN                           NaN\n",
       "1048571         NaN         NaN                           NaN\n",
       "1048572         NaN         NaN                           NaN\n",
       "1048573         NaN         NaN                           NaN\n",
       "1048574         NaN         NaN                           NaN\n",
       "\n",
       "[1048575 rows x 3 columns]"
      ]
     },
     "execution_count": 28,
     "metadata": {},
     "output_type": "execute_result"
    }
   ],
   "source": [
    "df_final"
   ]
  },
  {
   "cell_type": "code",
   "execution_count": 32,
   "id": "38c087ac",
   "metadata": {},
   "outputs": [],
   "source": [
    "#df_fcon.to_excel('onlyContactImporter.xlsx')"
   ]
  },
  {
   "cell_type": "code",
   "execution_count": 35,
   "id": "64e4457a",
   "metadata": {},
   "outputs": [],
   "source": [
    "df_email = df_con_email.dropna()"
   ]
  },
  {
   "cell_type": "code",
   "execution_count": 37,
   "id": "a0cca732",
   "metadata": {},
   "outputs": [],
   "source": [
    "df_email.to_excel('OnlyEmail.xlsx')"
   ]
  },
  {
   "cell_type": "code",
   "execution_count": null,
   "id": "b040f7c7",
   "metadata": {},
   "outputs": [],
   "source": []
  },
  {
   "cell_type": "markdown",
   "id": "a4c83b58",
   "metadata": {},
   "source": [
    "## cleaning contact read\n"
   ]
  },
  {
   "cell_type": "code",
   "execution_count": 51,
   "id": "68eecc27",
   "metadata": {},
   "outputs": [],
   "source": [
    "df_contact = pd.read_excel('onlyContactImporter.xlsx',index_col=0)"
   ]
  },
  {
   "cell_type": "code",
   "execution_count": 52,
   "id": "cd48fd29",
   "metadata": {},
   "outputs": [
    {
     "data": {
      "text/html": [
       "<div>\n",
       "<style scoped>\n",
       "    .dataframe tbody tr th:only-of-type {\n",
       "        vertical-align: middle;\n",
       "    }\n",
       "\n",
       "    .dataframe tbody tr th {\n",
       "        vertical-align: top;\n",
       "    }\n",
       "\n",
       "    .dataframe thead th {\n",
       "        text-align: right;\n",
       "    }\n",
       "</style>\n",
       "<table border=\"1\" class=\"dataframe\">\n",
       "  <thead>\n",
       "    <tr style=\"text-align: right;\">\n",
       "      <th></th>\n",
       "      <th>CONTACT NO.</th>\n",
       "      <th>MOBILE NO.</th>\n",
       "    </tr>\n",
       "  </thead>\n",
       "  <tbody>\n",
       "    <tr>\n",
       "      <th>0</th>\n",
       "      <td>1414028269</td>\n",
       "      <td>9829052269</td>\n",
       "    </tr>\n",
       "    <tr>\n",
       "      <th>1</th>\n",
       "      <td>1412378335</td>\n",
       "      <td>9829015975</td>\n",
       "    </tr>\n",
       "    <tr>\n",
       "      <th>2</th>\n",
       "      <td>2222190300</td>\n",
       "      <td>9686452643</td>\n",
       "    </tr>\n",
       "  </tbody>\n",
       "</table>\n",
       "</div>"
      ],
      "text/plain": [
       "  CONTACT NO.  MOBILE NO.\n",
       "0  1414028269  9829052269\n",
       "1  1412378335  9829015975\n",
       "2  2222190300  9686452643"
      ]
     },
     "execution_count": 52,
     "metadata": {},
     "output_type": "execute_result"
    }
   ],
   "source": [
    "df_contact.head(3)"
   ]
  },
  {
   "cell_type": "code",
   "execution_count": 66,
   "id": "ec43f546",
   "metadata": {},
   "outputs": [],
   "source": [
    "df_contact_afterSplit = df_contact['MOBILE NO.'].str.split('/',expand=True,n=2)"
   ]
  },
  {
   "cell_type": "code",
   "execution_count": 71,
   "id": "b54cf222",
   "metadata": {},
   "outputs": [],
   "source": [
    "df_contact_afterSplit.rename(columns={0:'Mobile No1',1:'Mobile No2',2:'Mobile No3'},inplace=True)"
   ]
  },
  {
   "cell_type": "code",
   "execution_count": 77,
   "id": "ebe86577",
   "metadata": {},
   "outputs": [],
   "source": [
    "df_ct= df_contact['CONTACT NO.']"
   ]
  },
  {
   "cell_type": "code",
   "execution_count": 82,
   "id": "f1bf6f47",
   "metadata": {},
   "outputs": [],
   "source": [
    "df_contact_final = pd.concat([df_ct,df_contact_afterSplit],axis=1)"
   ]
  },
  {
   "cell_type": "code",
   "execution_count": 83,
   "id": "3dbc9d45",
   "metadata": {},
   "outputs": [
    {
     "data": {
      "text/html": [
       "<div>\n",
       "<style scoped>\n",
       "    .dataframe tbody tr th:only-of-type {\n",
       "        vertical-align: middle;\n",
       "    }\n",
       "\n",
       "    .dataframe tbody tr th {\n",
       "        vertical-align: top;\n",
       "    }\n",
       "\n",
       "    .dataframe thead th {\n",
       "        text-align: right;\n",
       "    }\n",
       "</style>\n",
       "<table border=\"1\" class=\"dataframe\">\n",
       "  <thead>\n",
       "    <tr style=\"text-align: right;\">\n",
       "      <th></th>\n",
       "      <th>CONTACT NO.</th>\n",
       "      <th>Mobile No1</th>\n",
       "      <th>Mobile No2</th>\n",
       "      <th>Mobile No3</th>\n",
       "    </tr>\n",
       "  </thead>\n",
       "  <tbody>\n",
       "    <tr>\n",
       "      <th>0</th>\n",
       "      <td>1414028269</td>\n",
       "      <td>9829052269</td>\n",
       "      <td>None</td>\n",
       "      <td>None</td>\n",
       "    </tr>\n",
       "    <tr>\n",
       "      <th>1</th>\n",
       "      <td>1412378335</td>\n",
       "      <td>9829015975</td>\n",
       "      <td>None</td>\n",
       "      <td>None</td>\n",
       "    </tr>\n",
       "    <tr>\n",
       "      <th>2</th>\n",
       "      <td>2222190300</td>\n",
       "      <td>9686452643</td>\n",
       "      <td>None</td>\n",
       "      <td>None</td>\n",
       "    </tr>\n",
       "    <tr>\n",
       "      <th>3</th>\n",
       "      <td>2226705716</td>\n",
       "      <td>9821115189</td>\n",
       "      <td>None</td>\n",
       "      <td>None</td>\n",
       "    </tr>\n",
       "    <tr>\n",
       "      <th>4</th>\n",
       "      <td>2223723727</td>\n",
       "      <td>9324242418</td>\n",
       "      <td>None</td>\n",
       "      <td>None</td>\n",
       "    </tr>\n",
       "    <tr>\n",
       "      <th>...</th>\n",
       "      <td>...</td>\n",
       "      <td>...</td>\n",
       "      <td>...</td>\n",
       "      <td>...</td>\n",
       "    </tr>\n",
       "    <tr>\n",
       "      <th>88969</th>\n",
       "      <td>2225215048</td>\n",
       "      <td>9320231817</td>\n",
       "      <td>9322231817</td>\n",
       "      <td>None</td>\n",
       "    </tr>\n",
       "    <tr>\n",
       "      <th>88970</th>\n",
       "      <td>1143010350</td>\n",
       "      <td>9015950123</td>\n",
       "      <td>None</td>\n",
       "      <td>None</td>\n",
       "    </tr>\n",
       "    <tr>\n",
       "      <th>88972</th>\n",
       "      <td>NaN</td>\n",
       "      <td>9847062633</td>\n",
       "      <td>None</td>\n",
       "      <td>None</td>\n",
       "    </tr>\n",
       "    <tr>\n",
       "      <th>88973</th>\n",
       "      <td>NaN</td>\n",
       "      <td>9059334034</td>\n",
       "      <td>None</td>\n",
       "      <td>None</td>\n",
       "    </tr>\n",
       "    <tr>\n",
       "      <th>88976</th>\n",
       "      <td>NaN</td>\n",
       "      <td>9920566244</td>\n",
       "      <td>None</td>\n",
       "      <td>None</td>\n",
       "    </tr>\n",
       "  </tbody>\n",
       "</table>\n",
       "<p>8594 rows × 4 columns</p>\n",
       "</div>"
      ],
      "text/plain": [
       "      CONTACT NO.  Mobile No1  Mobile No2 Mobile No3\n",
       "0      1414028269  9829052269        None       None\n",
       "1      1412378335  9829015975        None       None\n",
       "2      2222190300  9686452643        None       None\n",
       "3      2226705716  9821115189        None       None\n",
       "4      2223723727  9324242418        None       None\n",
       "...           ...         ...         ...        ...\n",
       "88969  2225215048  9320231817  9322231817       None\n",
       "88970  1143010350  9015950123        None       None\n",
       "88972         NaN  9847062633        None       None\n",
       "88973         NaN  9059334034        None       None\n",
       "88976         NaN  9920566244        None       None\n",
       "\n",
       "[8594 rows x 4 columns]"
      ]
     },
     "execution_count": 83,
     "metadata": {},
     "output_type": "execute_result"
    }
   ],
   "source": [
    "df_contact_final"
   ]
  },
  {
   "cell_type": "code",
   "execution_count": 84,
   "id": "6b667fe6",
   "metadata": {},
   "outputs": [],
   "source": [
    "df_contact_final.to_excel('importerContactOnly.xlsx')"
   ]
  },
  {
   "cell_type": "code",
   "execution_count": null,
   "id": "d955dae8",
   "metadata": {},
   "outputs": [],
   "source": []
  }
 ],
 "metadata": {
  "kernelspec": {
   "display_name": "web_scapping",
   "language": "python",
   "name": "web_scapping"
  },
  "language_info": {
   "codemirror_mode": {
    "name": "ipython",
    "version": 3
   },
   "file_extension": ".py",
   "mimetype": "text/x-python",
   "name": "python",
   "nbconvert_exporter": "python",
   "pygments_lexer": "ipython3",
   "version": "3.10.10"
  }
 },
 "nbformat": 4,
 "nbformat_minor": 5
}
