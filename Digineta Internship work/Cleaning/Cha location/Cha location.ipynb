{
 "cells": [
  {
   "cell_type": "code",
   "execution_count": 51,
   "id": "ea381246",
   "metadata": {},
   "outputs": [],
   "source": [
    "import pandas as pd"
   ]
  },
  {
   "cell_type": "code",
   "execution_count": 62,
   "id": "14cb24f6",
   "metadata": {},
   "outputs": [],
   "source": [
    "df = pd.read_excel('Cha clean Pin location.xlsx',index_col=0)"
   ]
  },
  {
   "cell_type": "code",
   "execution_count": 63,
   "id": "72c67087",
   "metadata": {},
   "outputs": [
    {
     "data": {
      "text/html": [
       "<div>\n",
       "<style scoped>\n",
       "    .dataframe tbody tr th:only-of-type {\n",
       "        vertical-align: middle;\n",
       "    }\n",
       "\n",
       "    .dataframe tbody tr th {\n",
       "        vertical-align: top;\n",
       "    }\n",
       "\n",
       "    .dataframe thead th {\n",
       "        text-align: right;\n",
       "    }\n",
       "</style>\n",
       "<table border=\"1\" class=\"dataframe\">\n",
       "  <thead>\n",
       "    <tr style=\"text-align: right;\">\n",
       "      <th></th>\n",
       "      <th>SR. NO.</th>\n",
       "      <th>Date</th>\n",
       "      <th>Name</th>\n",
       "      <th>Address</th>\n",
       "      <th>Latitude</th>\n",
       "      <th>Longitude</th>\n",
       "      <th>Pin_code</th>\n",
       "    </tr>\n",
       "  </thead>\n",
       "  <tbody>\n",
       "    <tr>\n",
       "      <th>0</th>\n",
       "      <td>1</td>\n",
       "      <td>2023-04-18</td>\n",
       "      <td>CALIBER C S PRIVATE LIMITED</td>\n",
       "      <td>MAYURESH COSMOS,401 SECTOR 11,CBD BELAPUR,NEAR...</td>\n",
       "      <td>19.016110</td>\n",
       "      <td>73.041430</td>\n",
       "      <td>400614</td>\n",
       "    </tr>\n",
       "    <tr>\n",
       "      <th>1</th>\n",
       "      <td>2</td>\n",
       "      <td>2023-04-18</td>\n",
       "      <td>CARDINAL CUSTOMS BROKER</td>\n",
       "      <td>SHOP NO.10,THE GREAT EASTERN SUMMIT A CO-OPERA...</td>\n",
       "      <td>19.009650</td>\n",
       "      <td>73.033330</td>\n",
       "      <td>400614</td>\n",
       "    </tr>\n",
       "    <tr>\n",
       "      <th>2</th>\n",
       "      <td>3</td>\n",
       "      <td>2023-04-18</td>\n",
       "      <td>CONCORDE LOGISTICS (INDIA)</td>\n",
       "      <td>F-10, NEIGHBOURHOOD SHOPPING COMPLEX,BEHIND SB...</td>\n",
       "      <td>19.033107</td>\n",
       "      <td>73.011932</td>\n",
       "      <td>400706</td>\n",
       "    </tr>\n",
       "    <tr>\n",
       "      <th>3</th>\n",
       "      <td>4</td>\n",
       "      <td>2023-04-18</td>\n",
       "      <td>DAVE SHIPPING AGENCY</td>\n",
       "      <td>RAWAL CHAMBER, 2ND FLOOR,339/41,SAMUEL STREET,...</td>\n",
       "      <td>18.950640</td>\n",
       "      <td>72.835900</td>\n",
       "      <td>400-003</td>\n",
       "    </tr>\n",
       "    <tr>\n",
       "      <th>4</th>\n",
       "      <td>5</td>\n",
       "      <td>2023-04-18</td>\n",
       "      <td>DOCKSTAR</td>\n",
       "      <td>GROUND FLOOR,,RAJGOPAL BHUVAN,,55/57, NANUBHAI...</td>\n",
       "      <td>18.956550</td>\n",
       "      <td>72.825720</td>\n",
       "      <td>400004</td>\n",
       "    </tr>\n",
       "  </tbody>\n",
       "</table>\n",
       "</div>"
      ],
      "text/plain": [
       "   SR. NO.       Date                         Name  \\\n",
       "0        1 2023-04-18  CALIBER C S PRIVATE LIMITED   \n",
       "1        2 2023-04-18      CARDINAL CUSTOMS BROKER   \n",
       "2        3 2023-04-18   CONCORDE LOGISTICS (INDIA)   \n",
       "3        4 2023-04-18         DAVE SHIPPING AGENCY   \n",
       "4        5 2023-04-18                     DOCKSTAR   \n",
       "\n",
       "                                             Address   Latitude  Longitude  \\\n",
       "0  MAYURESH COSMOS,401 SECTOR 11,CBD BELAPUR,NEAR...  19.016110  73.041430   \n",
       "1  SHOP NO.10,THE GREAT EASTERN SUMMIT A CO-OPERA...  19.009650  73.033330   \n",
       "2  F-10, NEIGHBOURHOOD SHOPPING COMPLEX,BEHIND SB...  19.033107  73.011932   \n",
       "3  RAWAL CHAMBER, 2ND FLOOR,339/41,SAMUEL STREET,...  18.950640  72.835900   \n",
       "4  GROUND FLOOR,,RAJGOPAL BHUVAN,,55/57, NANUBHAI...  18.956550  72.825720   \n",
       "\n",
       "  Pin_code  \n",
       "0   400614  \n",
       "1   400614  \n",
       "2   400706  \n",
       "3  400-003  \n",
       "4   400004  "
      ]
     },
     "execution_count": 63,
     "metadata": {},
     "output_type": "execute_result"
    }
   ],
   "source": [
    "df.head()"
   ]
  },
  {
   "cell_type": "code",
   "execution_count": 65,
   "id": "6f17a46e",
   "metadata": {},
   "outputs": [],
   "source": [
    "import re\n",
    "# for add in df['Address']:\n",
    "#     pin_regex = \"^[1-9]{1}[0-9]{2}\\\\s{0, 1}[0-9]{3}$\"\n",
    "#     re.match(add,pin_regex)"
   ]
  },
  {
   "cell_type": "code",
   "execution_count": 66,
   "id": "f6eb0d5f",
   "metadata": {},
   "outputs": [],
   "source": [
    "# pin_regex = r'\\b(\\d{})\\b'\n",
    "# df[\"pin_code\"]=df['Address'].str.extract(pin_regex)"
   ]
  },
  {
   "cell_type": "code",
   "execution_count": 68,
   "id": "d5954426",
   "metadata": {},
   "outputs": [],
   "source": [
    "df['Pin_code']=df['Address'].str.split(',').str[-1].str.strip()\n",
    "\n",
    "#df.to_excel('Cha clean Pin location.xlsx')"
   ]
  },
  {
   "cell_type": "code",
   "execution_count": 59,
   "id": "a02dae81",
   "metadata": {},
   "outputs": [],
   "source": []
  },
  {
   "cell_type": "code",
   "execution_count": 67,
   "id": "6810d10f",
   "metadata": {},
   "outputs": [],
   "source": [
    "# regex = \"^[1-9]{1}[0-9]{2}\\\\s{0,1}[0-9]{3}$\";\n",
    "#      # Compile the ReGex\n",
    "# p = re.compile(regex);\n",
    "\n",
    "# df[\"pin_code\"] = re.match(p, df['Address'][0])"
   ]
  },
  {
   "cell_type": "code",
   "execution_count": 71,
   "id": "68c0b301",
   "metadata": {},
   "outputs": [],
   "source": [
    "# from geopy.geocoders import Nominatim\n",
    "# import pandas as pd\n",
    "\n",
    "# geolocator = Nominatim(user_agent=\"my-applion\")\n",
    "\n",
    "# # create a sample DataFrame with latitude and longitude columns\n",
    "# df = df\n",
    "\n",
    "# # create empty lists for city, state, and zone\n",
    "# city_list = []\n",
    "# state_list = []\n",
    "# zone_list = []\n",
    "\n",
    "# # loop over each row of the DataFrame\n",
    "# for index, row in df.iterrows():\n",
    "#     # use geopy to reverse geocode the coordinates into a location object\n",
    "#     location = geolocator.reverse(f\"{row['latitude']}, {row['longitude']}\")\n",
    "    \n",
    "#     # extract the city, state, and zone information from the location object\n",
    "#     address = location.raw['address']\n",
    "#     city = address.get('city', '')\n",
    "#     state = address.get('state', '')\n",
    "#     zone = address.get('region', '')\n",
    "    \n",
    "#     # add the extracted information to the appropriate list\n",
    "#     city_list.append(city)\n",
    "#     state_list.append(state)\n",
    "#     zone_list.append(zone)\n",
    "\n",
    "# # add the lists as new columns to the original DataFrame\n",
    "# df['city'] = city_list\n",
    "# df['state'] = state_list\n",
    "# df['zone'] = zone_list"
   ]
  },
  {
   "cell_type": "code",
   "execution_count": 72,
   "id": "dc48b4c9",
   "metadata": {},
   "outputs": [
    {
     "name": "stdout",
     "output_type": "stream",
     "text": [
      "Potsdamer Platz, Mitte, Berlin, 10785, Deutschland\n"
     ]
    }
   ],
   "source": [
    "from geopy.geocoders import Nominatim\n",
    "\n",
    "geolocator = Nominatim(user_agent=\"sere\")\n",
    "\n",
    "location = geolocator.reverse(\"52.509669, 13.376294\")\n",
    "\n",
    "print(location.address)"
   ]
  },
  {
   "cell_type": "code",
   "execution_count": null,
   "id": "126593eb",
   "metadata": {},
   "outputs": [],
   "source": []
  }
 ],
 "metadata": {
  "kernelspec": {
   "display_name": "Python 3 (ipykernel)",
   "language": "python",
   "name": "python3"
  },
  "language_info": {
   "codemirror_mode": {
    "name": "ipython",
    "version": 3
   },
   "file_extension": ".py",
   "mimetype": "text/x-python",
   "name": "python",
   "nbconvert_exporter": "python",
   "pygments_lexer": "ipython3",
   "version": "3.10.9"
  }
 },
 "nbformat": 4,
 "nbformat_minor": 5
}
