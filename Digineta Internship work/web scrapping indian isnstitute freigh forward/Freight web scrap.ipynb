{
 "cells": [
  {
   "cell_type": "code",
   "execution_count": 284,
   "id": "85eb5e2a",
   "metadata": {},
   "outputs": [],
   "source": [
    "import pandas as pd\n",
    "import requests\n"
   ]
  },
  {
   "cell_type": "code",
   "execution_count": 285,
   "id": "67df06ab",
   "metadata": {},
   "outputs": [],
   "source": [
    "\n",
    "from selenium.webdriver.common.by import By\n",
    "\n",
    "url='https://www.iiff.in/mem_list.php'\n",
    "\n",
    "driver = webdriver.Chrome()\n",
    "\n",
    "driver.get(url)\n",
    "\n",
    "#driver.quit()\n"
   ]
  },
  {
   "cell_type": "code",
   "execution_count": 286,
   "id": "61ca6740",
   "metadata": {},
   "outputs": [],
   "source": [
    "elements = driver.find_elements(By.CLASS_NAME,'accordion_holder')"
   ]
  },
  {
   "cell_type": "code",
   "execution_count": 287,
   "id": "2686387d",
   "metadata": {},
   "outputs": [
    {
     "data": {
      "text/plain": [
       "3"
      ]
     },
     "execution_count": 287,
     "metadata": {},
     "output_type": "execute_result"
    }
   ],
   "source": [
    "len(elements)"
   ]
  },
  {
   "cell_type": "code",
   "execution_count": 288,
   "id": "ed4e0f4a",
   "metadata": {},
   "outputs": [],
   "source": [
    "Name = []\n",
    "\n",
    "for elem in elements:\n",
    "    \n",
    "    ele = elem.find_elements(By.CLASS_NAME,'acc_head')\n",
    "    \n",
    "    for nam in ele:\n",
    "        nm = nam.text\n",
    "        Name.append(nm)\n",
    "        "
   ]
  },
  {
   "cell_type": "code",
   "execution_count": null,
   "id": "0ef2a7ca",
   "metadata": {},
   "outputs": [],
   "source": []
  },
  {
   "cell_type": "code",
   "execution_count": null,
   "id": "b3263873",
   "metadata": {},
   "outputs": [],
   "source": []
  },
  {
   "cell_type": "code",
   "execution_count": 289,
   "id": "bbec03ed",
   "metadata": {},
   "outputs": [],
   "source": [
    "# from selenium.webdriver.support.ui import WebDriverWait\n",
    "# from selenium.webdriver.support import expected_conditions as EC\n",
    "\n",
    "# element = driver.find_elements(By.XPATH,'./html/body/div/section[3]/div/div')\n",
    "# content=[]\n",
    "# for ele in element:\n",
    "#     #el = WebDriverWait(driver, 5).until(EC.visibility_of_element_located((By.XPATH,'/html/body/div/section[3]/div/div/div[1]/div/div/div/div/div[2]/div[2]')))\n",
    "#     el = ele.find_elements(By.XPATH,'./html/body/div/section[3]/div/div/div[1]/div/div/div/div/div[9]/div[2]')\n",
    "#     driver.execute_script(\"arguments[0].style.display = 'block';\",el)\n",
    "    \n",
    "#     print(el.text)\n",
    "# #     for elen in el:\n",
    "        \n",
    "# #         content.append(elen.text)\n",
    "# #         #print(elem.text)\n",
    "    "
   ]
  },
  {
   "cell_type": "code",
   "execution_count": 290,
   "id": "da5706dc",
   "metadata": {},
   "outputs": [],
   "source": [
    "# from selenium.webdriver.support.ui import WebDriverWait\n",
    "# from selenium.webdriver.support import expected_conditions as EC\n",
    "\n",
    "# element = driver.find_elements(By.XPATH,'./html/body/div/section[3]/div/div')\n",
    "# content=[]\n",
    "# for ele in element:\n",
    "#     #el = ele.find_elements(By.XPATH,'./html/body/div/section[3]/div/div/div[1]/div/div/div/div/div[*]/div[2]')\n",
    "#     el=ele.find_elements(By.CSS_SELECTOR,'.acc_content[style*=\"display: none;\"]')\n",
    "#     for elen in el:\n",
    "#         driver.execute_script(\"arguments[0].style.display = 'block';\", elen)\n",
    "#         data = elen.text\n",
    "#         content.append(data)\n"
   ]
  },
  {
   "cell_type": "code",
   "execution_count": 291,
   "id": "94dd521d",
   "metadata": {},
   "outputs": [],
   "source": [
    "#len(content)"
   ]
  },
  {
   "cell_type": "code",
   "execution_count": 292,
   "id": "9a3bf1e2",
   "metadata": {},
   "outputs": [],
   "source": [
    "from selenium.webdriver.support.ui import WebDriverWait\n",
    "from selenium.webdriver.support import expected_conditions as EC\n",
    "\n",
    "element = driver.find_elements(By.XPATH,'./html/body/div/section[3]/div/div')\n",
    "content = []\n",
    "for ele in element:\n",
    "    el = ele.find_elements(By.CSS_SELECTOR,'.acc_content')\n",
    "    for elen in el:\n",
    "        if elen.value_of_css_property('display') == 'none':\n",
    "            driver.execute_script(\"arguments[0].style.display = 'block';\", elen)\n",
    "        data = elen.text\n",
    "        content.append(data)\n"
   ]
  },
  {
   "cell_type": "code",
   "execution_count": 293,
   "id": "0cd23da9",
   "metadata": {},
   "outputs": [
    {
     "data": {
      "text/plain": [
       "'3A,Garstin Place,Ground Floor,KOLKATA-700001\\nTel No : 03340050790\\nEmail : wbchas@gmail.com'"
      ]
     },
     "execution_count": 293,
     "metadata": {},
     "output_type": "execute_result"
    }
   ],
   "source": [
    "content[26]"
   ]
  },
  {
   "cell_type": "code",
   "execution_count": 294,
   "id": "6290992f",
   "metadata": {},
   "outputs": [
    {
     "data": {
      "text/plain": [
       "['No.71,B Block, Cargo Vallage, BIAL, Devanahalli, Bangalore -560 300',\n",
       " 'Tel No : 08042033036',\n",
       " 'Fax No : 08042033036',\n",
       " 'Email : executiveofficeblr@gmail.com']"
      ]
     },
     "execution_count": 294,
     "metadata": {},
     "output_type": "execute_result"
    }
   ],
   "source": [
    "content[3].split('\\n')"
   ]
  },
  {
   "cell_type": "code",
   "execution_count": 295,
   "id": "ec8e2663",
   "metadata": {},
   "outputs": [],
   "source": [
    "conte=[]\n",
    "for i in range(27):\n",
    "    cont = content[i]\n",
    "    con = cont.split('\\n')\n",
    "    conte.append(con)"
   ]
  },
  {
   "cell_type": "code",
   "execution_count": 296,
   "id": "57e485ee",
   "metadata": {},
   "outputs": [
    {
     "data": {
      "text/plain": [
       "[['201, Anand Mangal - II, 2nd Floor, Behind Omkar House, Opp. C. G. Road, Navrangpura, Ahmedabad -380009',\n",
       "  'Tel No : 07965134013',\n",
       "  'Mob No : 919824090732',\n",
       "  'Fax No : 07926440831',\n",
       "  'Email : achaaahd@yahoo.co.in',\n",
       "  'Web URL : http://off.mahalasa.co.in/fffai/ahmedabad-web.php'],\n",
       " ['Ayilyam, TC 42 / 844 (12) GR, Jnction, Muttatchara Trivendrum- 695 008',\n",
       "  'Tel No : 4712464188',\n",
       "  'Mob No : 000000000000',\n",
       "  'Fax No : 4712469570',\n",
       "  'Email : test@test.com'],\n",
       " ['Aurangabad Custom House Agents Association Horizon House, B-20, MIDC Chikalthana, Aurangabad - 431 210',\n",
       "  'Tel No : 02402480356',\n",
       "  'Mob No : 919325212072',\n",
       "  'Fax No : 02402480357',\n",
       "  'Email : cha.agb@gmail.com'],\n",
       " ['No.71,B Block, Cargo Vallage, BIAL, Devanahalli, Bangalore -560 300',\n",
       "  'Tel No : 08042033036',\n",
       "  'Fax No : 08042033036',\n",
       "  'Email : executiveofficeblr@gmail.com'],\n",
       " ['73/74,C,Wing, 7th Floor, Mittal Tower,Nariman Point,Mumbai -400 021',\n",
       "  'Tel No : 02243119100, 02222833474',\n",
       "  'Mob No : 02243119101',\n",
       "  'Fax No : 02222852561',\n",
       "  'Email : info@bchaa.com',\n",
       "  'Web URL : http://www.bchaa.com'],\n",
       " ['23,Sir.R.N.Mukherjee Road, Kolkata- 700 001',\n",
       "  'Tel No : 03322482951',\n",
       "  'Fax No : 03322487058',\n",
       "  'Email : cchaa@cchaakolkata.org',\n",
       "  'Web URL : http://www.cchaakolkata.org'],\n",
       " ['2nd Floor, New No.83,( Old No.40) Moore Street, Chennai- 600001',\n",
       "  'Tel No : 04425224005, 04425225262',\n",
       "  'Fax No : 04425221657',\n",
       "  'Email : admin@ccbaindia.in',\n",
       "  'Web URL : http://www.chennaichaa.com'],\n",
       " ['Cochin Custom House Agents Association Indira Gandhi Road, Willingdon Island, Cochin-682009',\n",
       "  'Tel No : 04842666687, 04842668936',\n",
       "  'Fax No : 04842666836',\n",
       "  'Email : cchaa.cochin@gmail.com',\n",
       "  'Web URL : http://www.cchaa.org'],\n",
       " ['Coimbatore Custom House & Steamer Agents Asson 2B, 2nd Floor, Yaseen Complex,198,T.V.Samy Road,R.S.Puram,Coimbatore -641002',\n",
       "  'Tel No : 04224369962, 04224370962',\n",
       "  'Fax No : 04222540962',\n",
       "  'Email : gtransglobe@gmail.com',\n",
       "  'Web URL : http://www.chaasaac.org'],\n",
       " ['C/o.Viva Customs Cargo Clearing Agents#10-3-103/104, SLN PLAZA, 2nd Floor, Above Minvera Sweets, Opp. S.D. Eye Hospital, Humayun Nagar, HYDERABAD-500 028',\n",
       "  'Tel No : 04023591944',\n",
       "  'Mob No : 9346528784',\n",
       "  'Fax No : 04023591933',\n",
       "  'Email : hydcba@gmail.com',\n",
       "  'Web URL : http://www.chaah.in'],\n",
       " ['260-261,Anarkali Bazar,D.D.A.Shopping Complex,Jhandewalan Extension,New Delhi -110055',\n",
       "  'Tel No : 01123550611, 01123548952',\n",
       "  'Fax No : 01123550598',\n",
       "  'Email : dccaa@dccaa.in'],\n",
       " ['Goa Custom House Agents Association Room No.110,1st Floor, Custom House Building,Mormugao Harbour, Goa -403803',\n",
       "  'Tel No : 08322520731',\n",
       "  'Fax No : 08322521666',\n",
       "  'Email : gchaa@hotmail.com',\n",
       "  'Web URL : http://off.mahalasa.co.in/fffai/goa-web.php'],\n",
       " ['Indore Custom House Agents Association 405,Alankar Point,Geeta Bhawan Square, Indore - 452001',\n",
       "  'Tel No : 07312566650',\n",
       "  'Fax No : 07312566650',\n",
       "  'Email : carryfastcorp@gmail.com'],\n",
       " ['41-8-25,Cocanada Chamber of Commerce Building, Commercial Road,Kakinada -533007',\n",
       "  'Tel No : 08842376239',\n",
       "  'Fax No : 08842355424',\n",
       "  'Email : kcba414@gmail.com'],\n",
       " ['Room No.7,2nd Floor,Chamber of Commerce and Industries,Plot No.71,Sector No.8, Gandhidham -370201',\n",
       "  'Tel No : 02836227435',\n",
       "  'Email : kchaagim@gmail.com'],\n",
       " ['Overseas Complex, C-205,Phase-V,Focal Point,Ludhiana -141010',\n",
       "  'Tel No : 01612676883, 01612676884',\n",
       "  'Fax No : 01615067050',\n",
       "  'Email : rajeshverma@arship.com'],\n",
       " ['Aspinwall Building,Kulshekar, Maroli, ,Mangalore -575005',\n",
       "  'Tel No : 08242211415, 08242223817',\n",
       "  'Mob No : 919945012979',\n",
       "  'Fax No : 08242211498',\n",
       "  'Email : edward.coelho@aspinwall.in'],\n",
       " ['M-5,M-6,M-7, Ratnakala Arcade, Adani Port Road, Opp. Shubham Petrolium, Mundra ( Kutch) -370421',\n",
       "  'Tel No : 02838223402',\n",
       "  'Fax No : 02838223409',\n",
       "  'Email : mchaa2004@gmail.com',\n",
       "  'Web URL : http://www.mchaa.com'],\n",
       " ['Plot No.18,Kannamwar Nagar, Opp. Sonegaon Police Station, Wardha Road, Nagpur-440025',\n",
       "  'Tel No : 07122288669, 07122288063',\n",
       "  'Fax No : 07122286192',\n",
       "  'Email : nchaa.ngp@gmail.com'],\n",
       " ['Global House,Behind Sneh Sankul,ITI,Nima Ambed Link Road,Nashik - 422007',\n",
       "  'Tel No : 02532390905',\n",
       "  'Fax No : 02532395475',\n",
       "  'Email : nchaa@globalbm.com'],\n",
       " ['D-61,Sector-2,2nd Floor,NOIDA-201301', 'Tel No : 01204724500'],\n",
       " ['Pipavav Custom Brokers Association C/12, B/h, Customs House, Gppl, Tal- Rajula, Pipavav Port (Gujarat) 365560',\n",
       "  'Mob No : 9909954697',\n",
       "  'Email : pcba.pipavav@gmail.com'],\n",
       " ['Office No. 15,A,wing,2nd Floor,Jewel of Pimpri,Opp.PCMC Building,Pimpri,Pune-411018',\n",
       "  'Tel No : 09325004100, 09822023101',\n",
       "  'Mob No : 09823022206',\n",
       "  'Fax No : 02024475385',\n",
       "  'Email : vinod@bestagencypune.com'],\n",
       " ['FF-3, Tirupati Trade Centre,4,Sansar Chandra Road, Jaipur-302004 Tel No : 01412372089',\n",
       "  'Fax No : 01412378339',\n",
       "  'Email : charajasthan@hotmail.com'],\n",
       " ['No.50, Beach Road,Opp. State Bank of India,Tuticorin-628001',\n",
       "  'Tel No : 04612352670, 04612352780',\n",
       "  'Email : tcbatuty@gmail.com',\n",
       "  'Web URL : http://tchaa.org/about.html'],\n",
       " ['K.S.Dutt Memorial Building,Port Area,Visakhapatnam -530035',\n",
       "  'Tel No : 08912508156, 08912569983',\n",
       "  'Email : vchaa2010@yahoo.com'],\n",
       " ['3A,Garstin Place,Ground Floor,KOLKATA-700001',\n",
       "  'Tel No : 03340050790',\n",
       "  'Email : wbchas@gmail.com']]"
      ]
     },
     "execution_count": 296,
     "metadata": {},
     "output_type": "execute_result"
    }
   ],
   "source": [
    "conte"
   ]
  },
  {
   "cell_type": "code",
   "execution_count": 297,
   "id": "84ec53e8",
   "metadata": {},
   "outputs": [],
   "source": [
    "# Address = []\n",
    "# Tel =[]\n",
    "# mob= []\n",
    "# Fax = []\n",
    "# Email= []\n",
    "# web_url= []\n",
    "\n",
    "# for co in conte:\n",
    "#     #print(co)\n",
    "#     Address.append(co[0] if len(co)>0 and co[0] is not None else None)\n",
    "#     Tel.append(co[1] if len(co[0])>1 co[1] is not None else None)\n",
    "#     mob.append(co[2] if len(co[0])>2 co[2] is not None else None)\n",
    "#     Fax.append(co[3] if len(co[0])>3 co[3] is not None else None)\n",
    "#     Email.append(co[4] if len(co[0])>4 co[4] is not None else None)\n",
    "#     web_url.append(co[5] if len(co[0])>5 co[5] is not None else None)\n",
    "        "
   ]
  },
  {
   "cell_type": "code",
   "execution_count": null,
   "id": "512862aa",
   "metadata": {},
   "outputs": [],
   "source": []
  },
  {
   "cell_type": "code",
   "execution_count": 329,
   "id": "7eba7043",
   "metadata": {},
   "outputs": [],
   "source": [
    "import re\n",
    "# Initialize empty lists to append values\n",
    "Address = []\n",
    "Tel = []\n",
    "mob = []\n",
    "Fax = []\n",
    "Email = []\n",
    "web_url = []\n",
    "\n",
    "# Iterate over each list in the list of lists\n",
    "for sublist in conte:\n",
    "    # Check if the value is present at the index position\n",
    "    if len(sublist) > 0:\n",
    "        if sublist[0] is not None:\n",
    "            Address.append(sublist[0])\n",
    "        else:\n",
    "            Address.append(None)\n",
    "        \n",
    "        if len(sublist) > 1 and sublist[1] is not None:\n",
    "            Tel.append(sublist[1])\n",
    "        else:\n",
    "            Tel.append(None)\n",
    "            \n",
    "            \n",
    "        if len(sublist) > 2 and sublist[2] is not None:\n",
    "            mob.append(sublist[2])\n",
    "            match=re.search(r'Mob No',sublist[2])\n",
    "            if match:\n",
    "                mob.append(sublist[2])\n",
    "            else:\n",
    "                mob.append(None)\n",
    "        else:\n",
    "            mob.append(None)\n",
    "        \n",
    "        if len(sublist) > 3 and sublist[3] is not None:\n",
    "            Fax.append(sublist[3])\n",
    "        else:\n",
    "            Fax.append(None)\n",
    "        \n",
    "        if len(sublist) > 4 and sublist[4] is not None:\n",
    "            Email.append(sublist[4])\n",
    "        else:\n",
    "            Email.append(None)\n",
    "        \n",
    "        if len(sublist) > 5 and sublist[5] is not None:\n",
    "            web_url.append(sublist[5])\n",
    "        else:\n",
    "            web_url.append(None)"
   ]
  },
  {
   "cell_type": "code",
   "execution_count": 336,
   "id": "776e9e14",
   "metadata": {},
   "outputs": [
    {
     "data": {
      "text/plain": [
       "27"
      ]
     },
     "execution_count": 336,
     "metadata": {},
     "output_type": "execute_result"
    }
   ],
   "source": [
    "len(web_url)"
   ]
  },
  {
   "cell_type": "code",
   "execution_count": 337,
   "id": "431ae33c",
   "metadata": {},
   "outputs": [],
   "source": [
    "d={'Name':Name,'Address':Address,'TEl':Tel,'Mob':mob,'Fax':Fax,'Email':Email,'Web_url':web_url}"
   ]
  },
  {
   "cell_type": "code",
   "execution_count": 346,
   "id": "6ff10832",
   "metadata": {},
   "outputs": [],
   "source": [
    "df = pd.DataFrame(list(zip(Name,Address,Tel,mob,Fax,Email,web_url)),columns=('Name','Address','TEl','Mob','Fax','Email','Web_url'))"
   ]
  },
  {
   "cell_type": "code",
   "execution_count": 347,
   "id": "08789c44",
   "metadata": {},
   "outputs": [],
   "source": [
    "df.to_excel(\"freightfor.xlsx\")"
   ]
  },
  {
   "cell_type": "code",
   "execution_count": 333,
   "id": "515c0906",
   "metadata": {},
   "outputs": [
    {
     "data": {
      "text/plain": [
       "['Mob No : 919824090732',\n",
       " 'Mob No : 919824090732',\n",
       " 'Mob No : 000000000000',\n",
       " 'Mob No : 000000000000',\n",
       " 'Mob No : 919325212072',\n",
       " 'Mob No : 919325212072',\n",
       " 'Fax No : 08042033036',\n",
       " None,\n",
       " 'Mob No : 02243119101',\n",
       " 'Mob No : 02243119101',\n",
       " 'Fax No : 03322487058',\n",
       " None,\n",
       " 'Fax No : 04425221657',\n",
       " None,\n",
       " 'Fax No : 04842666836',\n",
       " None,\n",
       " 'Fax No : 04222540962',\n",
       " None,\n",
       " 'Mob No : 9346528784',\n",
       " 'Mob No : 9346528784',\n",
       " 'Fax No : 01123550598',\n",
       " None,\n",
       " 'Fax No : 08322521666',\n",
       " None,\n",
       " 'Fax No : 07312566650',\n",
       " None,\n",
       " 'Fax No : 08842355424',\n",
       " None,\n",
       " 'Email : kchaagim@gmail.com',\n",
       " None,\n",
       " 'Fax No : 01615067050',\n",
       " None,\n",
       " 'Mob No : 919945012979',\n",
       " 'Mob No : 919945012979',\n",
       " 'Fax No : 02838223409',\n",
       " None,\n",
       " 'Fax No : 07122286192',\n",
       " None,\n",
       " 'Fax No : 02532395475',\n",
       " None,\n",
       " None,\n",
       " 'Email : pcba.pipavav@gmail.com',\n",
       " None,\n",
       " 'Mob No : 09823022206',\n",
       " 'Mob No : 09823022206',\n",
       " 'Email : charajasthan@hotmail.com',\n",
       " None,\n",
       " 'Email : tcbatuty@gmail.com',\n",
       " None,\n",
       " 'Email : vchaa2010@yahoo.com',\n",
       " None,\n",
       " 'Email : wbchas@gmail.com',\n",
       " None]"
      ]
     },
     "execution_count": 333,
     "metadata": {},
     "output_type": "execute_result"
    }
   ],
   "source": [
    "mob"
   ]
  },
  {
   "cell_type": "code",
   "execution_count": 327,
   "id": "b21cb0ea",
   "metadata": {
    "scrolled": true
   },
   "outputs": [
    {
     "data": {
      "text/plain": [
       "['Mob No : 919824090732',\n",
       " 'Mob No : 000000000000',\n",
       " 'Mob No : 919325212072',\n",
       " 'Fax No : 08042033036',\n",
       " 'Mob No : 02243119101',\n",
       " 'Fax No : 03322487058',\n",
       " 'Fax No : 04425221657',\n",
       " 'Fax No : 04842666836',\n",
       " 'Fax No : 04222540962',\n",
       " 'Mob No : 9346528784',\n",
       " 'Fax No : 01123550598',\n",
       " 'Fax No : 08322521666',\n",
       " 'Fax No : 07312566650',\n",
       " 'Fax No : 08842355424',\n",
       " 'Email : kchaagim@gmail.com',\n",
       " 'Fax No : 01615067050',\n",
       " 'Mob No : 919945012979',\n",
       " 'Fax No : 02838223409',\n",
       " 'Fax No : 07122286192',\n",
       " 'Fax No : 02532395475',\n",
       " None,\n",
       " 'Email : pcba.pipavav@gmail.com',\n",
       " 'Mob No : 09823022206',\n",
       " 'Email : charajasthan@hotmail.com',\n",
       " 'Email : tcbatuty@gmail.com',\n",
       " 'Email : vchaa2010@yahoo.com',\n",
       " 'Email : wbchas@gmail.com']"
      ]
     },
     "execution_count": 327,
     "metadata": {},
     "output_type": "execute_result"
    }
   ],
   "source": [
    "mob"
   ]
  },
  {
   "cell_type": "code",
   "execution_count": 328,
   "id": "68f30006",
   "metadata": {},
   "outputs": [
    {
     "data": {
      "text/plain": [
       "['Fax No : 07926440831',\n",
       " 'Fax No : 4712469570',\n",
       " 'Fax No : 02402480357',\n",
       " 'Email : executiveofficeblr@gmail.com',\n",
       " 'Fax No : 02222852561',\n",
       " 'Email : cchaa@cchaakolkata.org',\n",
       " 'Email : admin@ccbaindia.in',\n",
       " 'Email : cchaa.cochin@gmail.com',\n",
       " 'Email : gtransglobe@gmail.com',\n",
       " 'Fax No : 04023591933',\n",
       " 'Email : dccaa@dccaa.in',\n",
       " 'Email : gchaa@hotmail.com',\n",
       " 'Email : carryfastcorp@gmail.com',\n",
       " 'Email : kcba414@gmail.com',\n",
       " None,\n",
       " 'Email : rajeshverma@arship.com',\n",
       " 'Fax No : 08242211498',\n",
       " 'Email : mchaa2004@gmail.com',\n",
       " 'Email : nchaa.ngp@gmail.com',\n",
       " 'Email : nchaa@globalbm.com',\n",
       " None,\n",
       " None,\n",
       " 'Fax No : 02024475385',\n",
       " None,\n",
       " 'Web URL : http://tchaa.org/about.html',\n",
       " None,\n",
       " None]"
      ]
     },
     "execution_count": 328,
     "metadata": {},
     "output_type": "execute_result"
    }
   ],
   "source": [
    "Fax"
   ]
  },
  {
   "cell_type": "code",
   "execution_count": 303,
   "id": "f441a676",
   "metadata": {},
   "outputs": [
    {
     "data": {
      "text/plain": [
       "['Email : achaaahd@yahoo.co.in',\n",
       " 'Email : test@test.com',\n",
       " 'Email : cha.agb@gmail.com',\n",
       " None,\n",
       " 'Email : info@bchaa.com',\n",
       " 'Web URL : http://www.cchaakolkata.org',\n",
       " 'Web URL : http://www.chennaichaa.com',\n",
       " 'Web URL : http://www.cchaa.org',\n",
       " 'Web URL : http://www.chaasaac.org',\n",
       " 'Email : hydcba@gmail.com',\n",
       " None,\n",
       " 'Web URL : http://off.mahalasa.co.in/fffai/goa-web.php',\n",
       " None,\n",
       " None,\n",
       " None,\n",
       " None,\n",
       " 'Email : edward.coelho@aspinwall.in',\n",
       " 'Web URL : http://www.mchaa.com',\n",
       " None,\n",
       " None,\n",
       " None,\n",
       " None,\n",
       " 'Email : vinod@bestagencypune.com',\n",
       " None,\n",
       " None,\n",
       " None,\n",
       " None]"
      ]
     },
     "execution_count": 303,
     "metadata": {},
     "output_type": "execute_result"
    }
   ],
   "source": [
    "Email"
   ]
  },
  {
   "cell_type": "code",
   "execution_count": 305,
   "id": "f291fbd6",
   "metadata": {},
   "outputs": [
    {
     "data": {
      "text/plain": [
       "['Web URL : http://off.mahalasa.co.in/fffai/ahmedabad-web.php',\n",
       " None,\n",
       " None,\n",
       " None,\n",
       " 'Web URL : http://www.bchaa.com',\n",
       " None,\n",
       " None,\n",
       " None,\n",
       " None,\n",
       " 'Web URL : http://www.chaah.in',\n",
       " None,\n",
       " None,\n",
       " None,\n",
       " None,\n",
       " None,\n",
       " None,\n",
       " None,\n",
       " None,\n",
       " None,\n",
       " None,\n",
       " None,\n",
       " None,\n",
       " None,\n",
       " None,\n",
       " None,\n",
       " None,\n",
       " None]"
      ]
     },
     "execution_count": 305,
     "metadata": {},
     "output_type": "execute_result"
    }
   ],
   "source": [
    "web_url"
   ]
  },
  {
   "cell_type": "code",
   "execution_count": 253,
   "id": "d25c8984",
   "metadata": {},
   "outputs": [
    {
     "data": {
      "text/plain": [
       "['Web URL : http://off.mahalasa.co.in/fffai/ahmedabad-web.php',\n",
       " None,\n",
       " None,\n",
       " None,\n",
       " 'Web URL : http://www.bchaa.com',\n",
       " None,\n",
       " None,\n",
       " None,\n",
       " None,\n",
       " 'Web URL : http://www.chaah.in',\n",
       " None,\n",
       " None,\n",
       " None,\n",
       " None,\n",
       " None,\n",
       " None,\n",
       " None,\n",
       " None,\n",
       " None,\n",
       " None,\n",
       " None,\n",
       " None,\n",
       " None,\n",
       " None,\n",
       " None,\n",
       " None,\n",
       " None]"
      ]
     },
     "execution_count": 253,
     "metadata": {},
     "output_type": "execute_result"
    }
   ],
   "source": [
    "web_url"
   ]
  },
  {
   "cell_type": "code",
   "execution_count": null,
   "id": "928e0ac4",
   "metadata": {},
   "outputs": [],
   "source": []
  },
  {
   "cell_type": "code",
   "execution_count": null,
   "id": "e3ec6a55",
   "metadata": {},
   "outputs": [],
   "source": []
  },
  {
   "cell_type": "code",
   "execution_count": 15,
   "id": "94dd62eb",
   "metadata": {},
   "outputs": [],
   "source": [
    "det=[]\n",
    "for i in range(len(content)):\n",
    "    #cot  = con.split('\\n')\n",
    "    cot = content[i]\n",
    "    det.append(cot)\n",
    "\n",
    "    \n",
    "    #     for cot in cot:\n",
    "#         Address.append(cot[0])\n",
    "#         Tel.append(cot[1])\n",
    "#         mob.append(cot[2])\n",
    "#         Fax.append(cot[3])\n",
    "#         Email.append(cot[4])\n",
    "#         web_url.append(cot[5])"
   ]
  },
  {
   "cell_type": "code",
   "execution_count": 16,
   "id": "204c8657",
   "metadata": {},
   "outputs": [
    {
     "data": {
      "text/plain": [
       "['3A,Garstin Place,Ground Floor,KOLKATA-700001',\n",
       " 'Tel No : 03340050790',\n",
       " 'Email : wbchas@gmail.com']"
      ]
     },
     "execution_count": 16,
     "metadata": {},
     "output_type": "execute_result"
    }
   ],
   "source": [
    "det[26].split('\\n')"
   ]
  },
  {
   "cell_type": "code",
   "execution_count": 17,
   "id": "06180815",
   "metadata": {},
   "outputs": [],
   "source": [
    "res= []\n",
    "for i in range(27):\n",
    "    res.append(det[i].split('\\n'))"
   ]
  },
  {
   "cell_type": "code",
   "execution_count": 18,
   "id": "b397f06a",
   "metadata": {},
   "outputs": [
    {
     "data": {
      "text/plain": [
       "['3A,Garstin Place,Ground Floor,KOLKATA-700001',\n",
       " 'Tel No : 03340050790',\n",
       " 'Email : wbchas@gmail.com']"
      ]
     },
     "execution_count": 18,
     "metadata": {},
     "output_type": "execute_result"
    }
   ],
   "source": [
    "res[26]"
   ]
  },
  {
   "cell_type": "code",
   "execution_count": 19,
   "id": "25b6e2cc",
   "metadata": {},
   "outputs": [
    {
     "data": {
      "text/plain": [
       "27"
      ]
     },
     "execution_count": 19,
     "metadata": {},
     "output_type": "execute_result"
    }
   ],
   "source": [
    "len(det)"
   ]
  },
  {
   "cell_type": "code",
   "execution_count": 20,
   "id": "44617729",
   "metadata": {
    "scrolled": true
   },
   "outputs": [
    {
     "ename": "IndexError",
     "evalue": "list index out of range",
     "output_type": "error",
     "traceback": [
      "\u001b[1;31m---------------------------------------------------------------------------\u001b[0m",
      "\u001b[1;31mIndexError\u001b[0m                                Traceback (most recent call last)",
      "Cell \u001b[1;32mIn[20], line 17\u001b[0m\n\u001b[0;32m     15\u001b[0m Fax\u001b[38;5;241m.\u001b[39mappend(data[i\u001b[38;5;241m+\u001b[39m\u001b[38;5;241m3\u001b[39m])\n\u001b[0;32m     16\u001b[0m Email\u001b[38;5;241m.\u001b[39mappend(data[i\u001b[38;5;241m+\u001b[39m\u001b[38;5;241m4\u001b[39m])\n\u001b[1;32m---> 17\u001b[0m web_url\u001b[38;5;241m.\u001b[39mappend(\u001b[43mdata\u001b[49m\u001b[43m[\u001b[49m\u001b[43mi\u001b[49m\u001b[38;5;241;43m+\u001b[39;49m\u001b[38;5;241;43m5\u001b[39;49m\u001b[43m]\u001b[49m)\n",
      "\u001b[1;31mIndexError\u001b[0m: list index out of range"
     ]
    }
   ],
   "source": [
    "Address = []\n",
    "Tel =[]\n",
    "mob= []\n",
    "Fax = []\n",
    "Email= []\n",
    "web_url= []\n",
    "\n",
    "for cot in det:\n",
    "    data = cot.split('\\n')\n",
    "    \n",
    "    for i in range(len(data)-1):\n",
    "        Address.append(data[0])\n",
    "        Tel.append(data[i])\n",
    "        mob.append(data[i+2])\n",
    "        Fax.append(data[i+3])\n",
    "        Email.append(data[i+4])\n",
    "        web_url.append(data[i+5])"
   ]
  },
  {
   "cell_type": "code",
   "execution_count": 152,
   "id": "1832b57b",
   "metadata": {},
   "outputs": [
    {
     "data": {
      "text/plain": [
       "['2',\n",
       " 'T',\n",
       " 'M',\n",
       " 'F',\n",
       " 'E',\n",
       " 'W',\n",
       " 'A',\n",
       " 'T',\n",
       " 'M',\n",
       " 'F',\n",
       " 'E',\n",
       " 'A',\n",
       " 'T',\n",
       " 'M',\n",
       " 'F',\n",
       " 'E',\n",
       " 'N',\n",
       " 'T',\n",
       " 'F',\n",
       " 'E',\n",
       " '7',\n",
       " 'T',\n",
       " 'M',\n",
       " 'F',\n",
       " 'E',\n",
       " 'W',\n",
       " '2',\n",
       " 'T',\n",
       " 'F',\n",
       " 'E',\n",
       " 'W',\n",
       " '2',\n",
       " 'T',\n",
       " 'F',\n",
       " 'E',\n",
       " 'W',\n",
       " 'C',\n",
       " 'T',\n",
       " 'F',\n",
       " 'E',\n",
       " 'W',\n",
       " 'C',\n",
       " 'T',\n",
       " 'F',\n",
       " 'E',\n",
       " 'W',\n",
       " 'C',\n",
       " 'T',\n",
       " 'M',\n",
       " 'F',\n",
       " 'E',\n",
       " 'W',\n",
       " '2',\n",
       " 'T',\n",
       " 'F',\n",
       " 'E',\n",
       " 'G',\n",
       " 'T',\n",
       " 'F',\n",
       " 'E',\n",
       " 'W',\n",
       " 'I',\n",
       " 'T',\n",
       " 'F',\n",
       " 'E',\n",
       " '4',\n",
       " 'T',\n",
       " 'F',\n",
       " 'E',\n",
       " 'R',\n",
       " 'T',\n",
       " 'E',\n",
       " 'O',\n",
       " 'T',\n",
       " 'F',\n",
       " 'E',\n",
       " 'A',\n",
       " 'T',\n",
       " 'M',\n",
       " 'F',\n",
       " 'E',\n",
       " 'M',\n",
       " 'T',\n",
       " 'F',\n",
       " 'E',\n",
       " 'W',\n",
       " 'P',\n",
       " 'T',\n",
       " 'F',\n",
       " 'E',\n",
       " 'G',\n",
       " 'T',\n",
       " 'F',\n",
       " 'E',\n",
       " 'D',\n",
       " 'T',\n",
       " 'P',\n",
       " 'M',\n",
       " 'E',\n",
       " 'O',\n",
       " 'T',\n",
       " 'M',\n",
       " 'F',\n",
       " 'E',\n",
       " 'F',\n",
       " 'F',\n",
       " 'E',\n",
       " 'N',\n",
       " 'T',\n",
       " 'E',\n",
       " 'W',\n",
       " 'K',\n",
       " 'T',\n",
       " 'E',\n",
       " '3',\n",
       " 'T',\n",
       " 'E']"
      ]
     },
     "execution_count": 152,
     "metadata": {},
     "output_type": "execute_result"
    }
   ],
   "source": [
    "Address"
   ]
  },
  {
   "cell_type": "code",
   "execution_count": null,
   "id": "d6c3c5a0",
   "metadata": {},
   "outputs": [],
   "source": []
  },
  {
   "cell_type": "code",
   "execution_count": 66,
   "id": "8fd68aaa",
   "metadata": {},
   "outputs": [
    {
     "data": {
      "text/plain": [
       "'201, Anand Mangal - II, 2nd Floor, Behind Omkar House, Opp. C. G. Road, Navrangpura, Ahmedabad -380009\\nTel No : 07965134013\\nMob No : 919824090732\\nFax No : 07926440831\\nEmail : achaaahd@yahoo.co.in\\nWeb URL : http://off.mahalasa.co.in/fffai/ahmedabad-web.php'"
      ]
     },
     "execution_count": 66,
     "metadata": {},
     "output_type": "execute_result"
    }
   ],
   "source": [
    "element.text"
   ]
  },
  {
   "cell_type": "code",
   "execution_count": 70,
   "id": "50d367b8",
   "metadata": {},
   "outputs": [
    {
     "data": {
      "text/plain": [
       "['201, Anand Mangal - II, 2nd Floor, Behind Omkar House, Opp. C. G. Road, Navrangpura, Ahmedabad -380009\\nTel No : 07965134013\\nMob No : 919824090732\\nFax No : 07926440831\\nEmail : achaaahd@yahoo.co.in\\nWeb URL : http://off.mahalasa.co.in/fffai/ahmedabad-web.php',\n",
       " 'Ayilyam, TC 42 / 844 (12) GR, Jnction, Muttatchara Trivendrum- 695 008\\nTel No : 4712464188\\nMob No : 000000000000\\nFax No : 4712469570\\nEmail : test@test.com',\n",
       " 'Aurangabad Custom House Agents Association Horizon House, B-20, MIDC Chikalthana, Aurangabad - 431 210\\nTel No : 02402480356\\nMob No : 919325212072\\nFax No : 02402480357\\nEmail : cha.agb@gmail.com',\n",
       " 'No.71,B Block, Cargo Vallage, BIAL, Devanahalli, Bangalore -560 300\\nTel No : 08042033036\\nFax No : 08042033036\\nEmail : executiveofficeblr@gmail.com',\n",
       " '73/74,C,Wing, 7th Floor, Mittal Tower,Nariman Point,Mumbai -400 021\\nTel No : 02243119100, 02222833474\\nMob No : 02243119101\\nFax No : 02222852561\\nEmail : info@bchaa.com\\nWeb URL : http://www.bchaa.com',\n",
       " '23,Sir.R.N.Mukherjee Road, Kolkata- 700 001\\nTel No : 03322482951\\nFax No : 03322487058\\nEmail : cchaa@cchaakolkata.org\\nWeb URL : http://www.cchaakolkata.org',\n",
       " '2nd Floor, New No.83,( Old No.40) Moore Street, Chennai- 600001\\nTel No : 04425224005, 04425225262\\nFax No : 04425221657\\nEmail : admin@ccbaindia.in\\nWeb URL : http://www.chennaichaa.com',\n",
       " 'Cochin Custom House Agents Association Indira Gandhi Road, Willingdon Island, Cochin-682009\\nTel No : 04842666687, 04842668936\\nFax No : 04842666836\\nEmail : cchaa.cochin@gmail.com\\nWeb URL : http://www.cchaa.org',\n",
       " 'Coimbatore Custom House & Steamer Agents Asson 2B, 2nd Floor, Yaseen Complex,198,T.V.Samy Road,R.S.Puram,Coimbatore -641002\\nTel No : 04224369962, 04224370962\\nFax No : 04222540962\\nEmail : gtransglobe@gmail.com\\nWeb URL : http://www.chaasaac.org',\n",
       " 'C/o.Viva Customs Cargo Clearing Agents#10-3-103/104, SLN PLAZA, 2nd Floor, Above Minvera Sweets, Opp. S.D. Eye Hospital, Humayun Nagar, HYDERABAD-500 028\\nTel No : 04023591944\\nMob No : 9346528784\\nFax No : 04023591933\\nEmail : hydcba@gmail.com\\nWeb URL : http://www.chaah.in',\n",
       " '260-261,Anarkali Bazar,D.D.A.Shopping Complex,Jhandewalan Extension,New Delhi -110055\\nTel No : 01123550611, 01123548952\\nFax No : 01123550598\\nEmail : dccaa@dccaa.in',\n",
       " 'Goa Custom House Agents Association Room No.110,1st Floor, Custom House Building,Mormugao Harbour, Goa -403803\\nTel No : 08322520731\\nFax No : 08322521666\\nEmail : gchaa@hotmail.com\\nWeb URL : http://off.mahalasa.co.in/fffai/goa-web.php',\n",
       " 'Indore Custom House Agents Association 405,Alankar Point,Geeta Bhawan Square, Indore - 452001\\nTel No : 07312566650\\nFax No : 07312566650\\nEmail : carryfastcorp@gmail.com',\n",
       " '41-8-25,Cocanada Chamber of Commerce Building, Commercial Road,Kakinada -533007\\nTel No : 08842376239\\nFax No : 08842355424\\nEmail : kcba414@gmail.com',\n",
       " 'Room No.7,2nd Floor,Chamber of Commerce and Industries,Plot No.71,Sector No.8, Gandhidham -370201\\nTel No : 02836227435\\nEmail : kchaagim@gmail.com',\n",
       " 'Overseas Complex, C-205,Phase-V,Focal Point,Ludhiana -141010\\nTel No : 01612676883, 01612676884\\nFax No : 01615067050\\nEmail : rajeshverma@arship.com',\n",
       " 'Aspinwall Building,Kulshekar, Maroli, ,Mangalore -575005\\nTel No : 08242211415, 08242223817\\nMob No : 919945012979\\nFax No : 08242211498\\nEmail : edward.coelho@aspinwall.in',\n",
       " 'M-5,M-6,M-7, Ratnakala Arcade, Adani Port Road, Opp. Shubham Petrolium, Mundra ( Kutch) -370421\\nTel No : 02838223402\\nFax No : 02838223409\\nEmail : mchaa2004@gmail.com\\nWeb URL : http://www.mchaa.com',\n",
       " 'Plot No.18,Kannamwar Nagar, Opp. Sonegaon Police Station, Wardha Road, Nagpur-440025\\nTel No : 07122288669, 07122288063\\nFax No : 07122286192\\nEmail : nchaa.ngp@gmail.com',\n",
       " 'Global House,Behind Sneh Sankul,ITI,Nima Ambed Link Road,Nashik - 422007\\nTel No : 02532390905\\nFax No : 02532395475\\nEmail : nchaa@globalbm.com',\n",
       " 'D-61,Sector-2,2nd Floor,NOIDA-201301\\nTel No : 01204724500',\n",
       " 'Pipavav Custom Brokers Association C/12, B/h, Customs House, Gppl, Tal- Rajula, Pipavav Port (Gujarat) 365560\\nMob No : 9909954697\\nEmail : pcba.pipavav@gmail.com',\n",
       " 'Office No. 15,A,wing,2nd Floor,Jewel of Pimpri,Opp.PCMC Building,Pimpri,Pune-411018\\nTel No : 09325004100, 09822023101\\nMob No : 09823022206\\nFax No : 02024475385\\nEmail : vinod@bestagencypune.com',\n",
       " 'FF-3, Tirupati Trade Centre,4,Sansar Chandra Road, Jaipur-302004 Tel No : 01412372089\\nFax No : 01412378339\\nEmail : charajasthan@hotmail.com',\n",
       " 'No.50, Beach Road,Opp. State Bank of India,Tuticorin-628001\\nTel No : 04612352670, 04612352780\\nEmail : tcbatuty@gmail.com\\nWeb URL : http://tchaa.org/about.html',\n",
       " 'K.S.Dutt Memorial Building,Port Area,Visakhapatnam -530035\\nTel No : 08912508156, 08912569983\\nEmail : vchaa2010@yahoo.com',\n",
       " '3A,Garstin Place,Ground Floor,KOLKATA-700001\\nTel No : 03340050790\\nEmail : wbchas@gmail.com']"
      ]
     },
     "execution_count": 70,
     "metadata": {},
     "output_type": "execute_result"
    }
   ],
   "source": [
    "content"
   ]
  },
  {
   "cell_type": "code",
   "execution_count": null,
   "id": "0c71c623",
   "metadata": {},
   "outputs": [],
   "source": []
  },
  {
   "cell_type": "code",
   "execution_count": null,
   "id": "a8d1e5c4",
   "metadata": {},
   "outputs": [],
   "source": []
  },
  {
   "cell_type": "code",
   "execution_count": null,
   "id": "80462368",
   "metadata": {},
   "outputs": [],
   "source": []
  }
 ],
 "metadata": {
  "kernelspec": {
   "display_name": "Python 3 (ipykernel)",
   "language": "python",
   "name": "python3"
  },
  "language_info": {
   "codemirror_mode": {
    "name": "ipython",
    "version": 3
   },
   "file_extension": ".py",
   "mimetype": "text/x-python",
   "name": "python",
   "nbconvert_exporter": "python",
   "pygments_lexer": "ipython3",
   "version": "3.10.9"
  }
 },
 "nbformat": 4,
 "nbformat_minor": 5
}
