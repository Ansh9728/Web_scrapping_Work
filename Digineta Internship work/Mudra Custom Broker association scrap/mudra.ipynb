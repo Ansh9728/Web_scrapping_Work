{
 "cells": [
  {
   "cell_type": "code",
   "execution_count": 9,
   "id": "2811a53a",
   "metadata": {},
   "outputs": [],
   "source": [
    "import requests\n",
    "import pandas as pd\n",
    "from selenium import webdriver\n",
    "from selenium.webdriver.common.by import By\n"
   ]
  },
  {
   "cell_type": "code",
   "execution_count": 10,
   "id": "4cced1ce",
   "metadata": {},
   "outputs": [],
   "source": [
    "url='https://www.themcba.com/member_search.php#'\n",
    "#response=requests.get(url)\n",
    "\n",
    "driver=webdriver.Chrome()\n",
    "\n",
    "driver.get(url)"
   ]
  },
  {
   "cell_type": "code",
   "execution_count": 11,
   "id": "f4a692c1",
   "metadata": {},
   "outputs": [],
   "source": [
    "elements = driver.find_elements(By.XPATH,'.//*[@id=\"fp_ContentMain\"]')"
   ]
  },
  {
   "cell_type": "code",
   "execution_count": 12,
   "id": "55642e9e",
   "metadata": {},
   "outputs": [],
   "source": [
    "Name=[]\n",
    "Address=[]\n",
    "Phone_No=[]\n",
    "for elem in elements:\n",
    "    row = elem.find_elements(By.CLASS_NAME,'company_searched_box')\n",
    "    for data in row:\n",
    "        nam = data.find_element(By.CLASS_NAME,'inside_page_subhead')\n",
    "        Name.append(nam.text)\n",
    "        add=data.find_element(By.CLASS_NAME,'align_company_search_address')\n",
    "        Address.append(add.text)\n",
    "        phon=data.find_elements(By.TAG_NAME,'div')\n",
    "        Phone_No.append(phon[2].text)\n",
    "        "
   ]
  },
  {
   "cell_type": "code",
   "execution_count": 13,
   "id": "8b83fadf",
   "metadata": {},
   "outputs": [
    {
     "data": {
      "text/plain": [
       "['9825239223',\n",
       " '9727707625',\n",
       " '9428506329',\n",
       " '7777030843',\n",
       " '9825221399',\n",
       " '9825226519',\n",
       " '7208131199',\n",
       " '9825048950',\n",
       " '9322604700',\n",
       " '9136687052']"
      ]
     },
     "execution_count": 13,
     "metadata": {},
     "output_type": "execute_result"
    }
   ],
   "source": [
    "Phone_No"
   ]
  },
  {
   "cell_type": "markdown",
   "id": "dffca7a2",
   "metadata": {},
   "source": [
    "# Finding for all the pages present on the website"
   ]
  },
  {
   "cell_type": "code",
   "execution_count": 7,
   "id": "f9129322",
   "metadata": {},
   "outputs": [],
   "source": [
    "from selenium import webdriver\n",
    "\n",
    "Name=[]\n",
    "Address=[]\n",
    "Phone_No=[]\n",
    "\n",
    "url='https://www.themcba.com/member_search.php'\n",
    "\n",
    "# Set up the webdriver\n",
    "driver = webdriver.Chrome()\n",
    "\n",
    "# Navigate to the website\n",
    "driver.get(url)\n",
    "\n",
    "# Find all elements with class \"gradient\"\n",
    "elements = driver.find_elements(By.CLASS_NAME,\"page gradient\")\n",
    "\n",
    "# Loop through each element and change its class name to \"active\"\n",
    "for element in elements:\n",
    "    driver.execute_script(\"arguments[0].setAttribute('class', 'page active')\", element)\n",
    "    \n",
    "    for elem in elements:\n",
    "        row = elem.find_elements(By.CLASS_NAME,'company_searched_box')\n",
    "        for data in row:\n",
    "            nam = data.find_element(By.CLASS_NAME,'inside_page_subhead')\n",
    "            Name.append(nam.text)\n",
    "            add=data.find_element(By.CLASS_NAME,'align_company_search_address')\n",
    "            Address.append(add.text)\n",
    "            phon=data.find_elements(By.TAG_NAME,'div')\n",
    "            Phone_No.append(phon[2].text)\n",
    "\n",
    "\n",
    "# Close the webdriver\n",
    "#driver.quit()"
   ]
  },
  {
   "cell_type": "code",
   "execution_count": 8,
   "id": "4c1ed191",
   "metadata": {},
   "outputs": [
    {
     "data": {
      "text/plain": [
       "[]"
      ]
     },
     "execution_count": 8,
     "metadata": {},
     "output_type": "execute_result"
    }
   ],
   "source": [
    "Name"
   ]
  },
  {
   "cell_type": "code",
   "execution_count": 78,
   "id": "845249e8",
   "metadata": {},
   "outputs": [],
   "source": [
    "# from selenium import webdriver\n",
    "# from selenium.common.exceptions import NoSuchWindowException\n",
    "# from time import sleep\n",
    "\n",
    "# # Set up Selenium environment\n",
    "# driver = webdriver.Chrome()\n",
    "\n",
    "# # Navigate to the first page\n",
    "# driver.get('https://www.themcba.com/member_search.php')\n",
    "\n",
    "# # Loop through all pages\n",
    "# for i in range(2, 48):\n",
    "#     try:\n",
    "#         # Click on the \"Next\" button\n",
    "#         next_button = driver.find_element(By.XPATH,'//a[@class=\"page gradient\"][text()=\"next \"]')\n",
    "#         next_button.click()\n",
    "\n",
    "#         # Wait for the page to load\n",
    "#         sleep(5)\n",
    "\n",
    "#         # Extract the data from the current page\n",
    "#         # ...\n",
    "#     except NoSuchWindowException:\n",
    "#         # Handle the exception here, e.g. by breaking out of the loop\n",
    "#         break\n",
    "\n",
    "# # Close the browser\n",
    "# driver.quit()"
   ]
  },
  {
   "cell_type": "code",
   "execution_count": 89,
   "id": "1ff73abb",
   "metadata": {},
   "outputs": [],
   "source": [
    "# from selenium import webdriver\n",
    "\n",
    "# # Set up Selenium environment\n",
    "# driver = webdriver.Chrome()\n",
    "\n",
    "# # Navigate to the page with the link\n",
    "# driver.get('https://www.themcba.com/member_search.php')\n",
    "\n",
    "# # Find the link by its class name and onclick attribute\n",
    "# #link = driver.find_element(By.CSS_SELECTOR,'a.page.gradient[onclick=\"sendRequest(\\'fp_ContentMain\\',\\'0\\',\\'\\',\\'-1\\');\"]')\n",
    "# #link = driver.find_element(By.CSS_SELECTOR,'#pageList > div > a:nth-child(2))\n",
    "\n",
    "# # Click the link\n",
    "# link.click()\n",
    "\n",
    "# # Close the browser\n",
    "# driver.quit()"
   ]
  },
  {
   "cell_type": "code",
   "execution_count": 95,
   "id": "693326fd",
   "metadata": {},
   "outputs": [],
   "source": [
    "# # import necessary modules\n",
    "# from selenium import webdriver\n",
    "# import time\n",
    "\n",
    "# # set up webdriver\n",
    "# driver = webdriver.Chrome()\n",
    "# url = 'https://www.themcba.com/member_search.php'\n",
    "# driver.get(url)\n",
    "\n",
    "# # get total number of pages\n",
    "# last_page_link = driver.find_element(By.XPATH,\".//a[contains(@class,'page gradient') and contains(text(),'last')]\")\n",
    "# last_page_num = int(last_page_link.get_attribute(\"onclick\").split(\",\")[1])\n",
    "\n",
    "# # loop through each page and scrape data\n",
    "# for page_num in range(1, last_page_num+1):\n",
    "#     # navigate to next page\n",
    "#     page_link = driver.find_elements(By.XPATH,\".//a[contains(@class,'page gradient') and contains(text(),'%s')]\" % page_num)\n",
    "#     page_link.click()\n",
    "#     time.sleep(2) # wait for page to load\n",
    "\n",
    "#     # scrape data from current page\n",
    "#     # code to scrape data goes here\n",
    "\n",
    "# # close webdriver\n",
    "# driver.quit()"
   ]
  },
  {
   "cell_type": "code",
   "execution_count": 100,
   "id": "7afda0f3",
   "metadata": {},
   "outputs": [
    {
     "ename": "NoSuchElementException",
     "evalue": "Message: no such element: Unable to locate element: {\"method\":\"css selector\",\"selector\":\"[name=\"letter\"]\"}\n  (Session info: chrome=112.0.5615.138)\nStacktrace:\nBacktrace:\n\tGetHandleVerifier [0x0078DCE3+50899]\n\t(No symbol) [0x0071E111]\n\t(No symbol) [0x00625588]\n\t(No symbol) [0x006508F9]\n\t(No symbol) [0x00650AFB]\n\t(No symbol) [0x0067F902]\n\t(No symbol) [0x0066B944]\n\t(No symbol) [0x0067E01C]\n\t(No symbol) [0x0066B6F6]\n\t(No symbol) [0x00647708]\n\t(No symbol) [0x0064886D]\n\tGetHandleVerifier [0x009F3EAE+2566302]\n\tGetHandleVerifier [0x00A292B1+2784417]\n\tGetHandleVerifier [0x00A2327C+2759788]\n\tGetHandleVerifier [0x00825740+672048]\n\t(No symbol) [0x00728872]\n\t(No symbol) [0x007241C8]\n\t(No symbol) [0x007242AB]\n\t(No symbol) [0x007171B7]\n\tBaseThreadInitThunk [0x74EF7D49+25]\n\tRtlInitializeExceptionChain [0x7721B74B+107]\n\tRtlClearBits [0x7721B6CF+191]\n",
     "output_type": "error",
     "traceback": [
      "\u001b[1;31m---------------------------------------------------------------------------\u001b[0m",
      "\u001b[1;31mNoSuchElementException\u001b[0m                    Traceback (most recent call last)",
      "Cell \u001b[1;32mIn[100], line 10\u001b[0m\n\u001b[0;32m      7\u001b[0m driver\u001b[38;5;241m.\u001b[39mget(\u001b[38;5;124m'\u001b[39m\u001b[38;5;124mhttps://www.themcba.com/member_search.php\u001b[39m\u001b[38;5;124m'\u001b[39m)\n\u001b[0;32m      9\u001b[0m \u001b[38;5;66;03m# get the input box to enter the first letter of the member's last name\u001b[39;00m\n\u001b[1;32m---> 10\u001b[0m letter_input \u001b[38;5;241m=\u001b[39m \u001b[43mdriver\u001b[49m\u001b[38;5;241;43m.\u001b[39;49m\u001b[43mfind_element\u001b[49m\u001b[43m(\u001b[49m\u001b[43mBy\u001b[49m\u001b[38;5;241;43m.\u001b[39;49m\u001b[43mNAME\u001b[49m\u001b[43m,\u001b[49m\u001b[38;5;124;43m'\u001b[39;49m\u001b[38;5;124;43mletter\u001b[39;49m\u001b[38;5;124;43m'\u001b[39;49m\u001b[43m)\u001b[49m\n\u001b[0;32m     12\u001b[0m \u001b[38;5;66;03m# get all the letters from A-Z\u001b[39;00m\n\u001b[0;32m     13\u001b[0m letters \u001b[38;5;241m=\u001b[39m [option\u001b[38;5;241m.\u001b[39mget_attribute(\u001b[38;5;124m'\u001b[39m\u001b[38;5;124mvalue\u001b[39m\u001b[38;5;124m'\u001b[39m) \u001b[38;5;28;01mfor\u001b[39;00m option \u001b[38;5;129;01min\u001b[39;00m letter_input\u001b[38;5;241m.\u001b[39mfind_elements(By\u001b[38;5;241m.\u001b[39mTAG_NAME,\u001b[38;5;124m'\u001b[39m\u001b[38;5;124moption\u001b[39m\u001b[38;5;124m'\u001b[39m)]\n",
      "File \u001b[1;32m~\\anaconda3\\envs\\web_scapping\\lib\\site-packages\\selenium\\webdriver\\remote\\webdriver.py:831\u001b[0m, in \u001b[0;36mWebDriver.find_element\u001b[1;34m(self, by, value)\u001b[0m\n\u001b[0;32m    828\u001b[0m     by \u001b[38;5;241m=\u001b[39m By\u001b[38;5;241m.\u001b[39mCSS_SELECTOR\n\u001b[0;32m    829\u001b[0m     value \u001b[38;5;241m=\u001b[39m \u001b[38;5;124mf\u001b[39m\u001b[38;5;124m'\u001b[39m\u001b[38;5;124m[name=\u001b[39m\u001b[38;5;124m\"\u001b[39m\u001b[38;5;132;01m{\u001b[39;00mvalue\u001b[38;5;132;01m}\u001b[39;00m\u001b[38;5;124m\"\u001b[39m\u001b[38;5;124m]\u001b[39m\u001b[38;5;124m'\u001b[39m\n\u001b[1;32m--> 831\u001b[0m \u001b[38;5;28;01mreturn\u001b[39;00m \u001b[38;5;28;43mself\u001b[39;49m\u001b[38;5;241;43m.\u001b[39;49m\u001b[43mexecute\u001b[49m\u001b[43m(\u001b[49m\u001b[43mCommand\u001b[49m\u001b[38;5;241;43m.\u001b[39;49m\u001b[43mFIND_ELEMENT\u001b[49m\u001b[43m,\u001b[49m\u001b[43m \u001b[49m\u001b[43m{\u001b[49m\u001b[38;5;124;43m\"\u001b[39;49m\u001b[38;5;124;43musing\u001b[39;49m\u001b[38;5;124;43m\"\u001b[39;49m\u001b[43m:\u001b[49m\u001b[43m \u001b[49m\u001b[43mby\u001b[49m\u001b[43m,\u001b[49m\u001b[43m \u001b[49m\u001b[38;5;124;43m\"\u001b[39;49m\u001b[38;5;124;43mvalue\u001b[39;49m\u001b[38;5;124;43m\"\u001b[39;49m\u001b[43m:\u001b[49m\u001b[43m \u001b[49m\u001b[43mvalue\u001b[49m\u001b[43m}\u001b[49m\u001b[43m)\u001b[49m[\u001b[38;5;124m\"\u001b[39m\u001b[38;5;124mvalue\u001b[39m\u001b[38;5;124m\"\u001b[39m]\n",
      "File \u001b[1;32m~\\anaconda3\\envs\\web_scapping\\lib\\site-packages\\selenium\\webdriver\\remote\\webdriver.py:440\u001b[0m, in \u001b[0;36mWebDriver.execute\u001b[1;34m(self, driver_command, params)\u001b[0m\n\u001b[0;32m    438\u001b[0m response \u001b[38;5;241m=\u001b[39m \u001b[38;5;28mself\u001b[39m\u001b[38;5;241m.\u001b[39mcommand_executor\u001b[38;5;241m.\u001b[39mexecute(driver_command, params)\n\u001b[0;32m    439\u001b[0m \u001b[38;5;28;01mif\u001b[39;00m response:\n\u001b[1;32m--> 440\u001b[0m     \u001b[38;5;28;43mself\u001b[39;49m\u001b[38;5;241;43m.\u001b[39;49m\u001b[43merror_handler\u001b[49m\u001b[38;5;241;43m.\u001b[39;49m\u001b[43mcheck_response\u001b[49m\u001b[43m(\u001b[49m\u001b[43mresponse\u001b[49m\u001b[43m)\u001b[49m\n\u001b[0;32m    441\u001b[0m     response[\u001b[38;5;124m\"\u001b[39m\u001b[38;5;124mvalue\u001b[39m\u001b[38;5;124m\"\u001b[39m] \u001b[38;5;241m=\u001b[39m \u001b[38;5;28mself\u001b[39m\u001b[38;5;241m.\u001b[39m_unwrap_value(response\u001b[38;5;241m.\u001b[39mget(\u001b[38;5;124m\"\u001b[39m\u001b[38;5;124mvalue\u001b[39m\u001b[38;5;124m\"\u001b[39m, \u001b[38;5;28;01mNone\u001b[39;00m))\n\u001b[0;32m    442\u001b[0m     \u001b[38;5;28;01mreturn\u001b[39;00m response\n",
      "File \u001b[1;32m~\\anaconda3\\envs\\web_scapping\\lib\\site-packages\\selenium\\webdriver\\remote\\errorhandler.py:245\u001b[0m, in \u001b[0;36mErrorHandler.check_response\u001b[1;34m(self, response)\u001b[0m\n\u001b[0;32m    243\u001b[0m         alert_text \u001b[38;5;241m=\u001b[39m value[\u001b[38;5;124m\"\u001b[39m\u001b[38;5;124malert\u001b[39m\u001b[38;5;124m\"\u001b[39m]\u001b[38;5;241m.\u001b[39mget(\u001b[38;5;124m\"\u001b[39m\u001b[38;5;124mtext\u001b[39m\u001b[38;5;124m\"\u001b[39m)\n\u001b[0;32m    244\u001b[0m     \u001b[38;5;28;01mraise\u001b[39;00m exception_class(message, screen, stacktrace, alert_text)  \u001b[38;5;66;03m# type: ignore[call-arg]  # mypy is not smart enough here\u001b[39;00m\n\u001b[1;32m--> 245\u001b[0m \u001b[38;5;28;01mraise\u001b[39;00m exception_class(message, screen, stacktrace)\n",
      "\u001b[1;31mNoSuchElementException\u001b[0m: Message: no such element: Unable to locate element: {\"method\":\"css selector\",\"selector\":\"[name=\"letter\"]\"}\n  (Session info: chrome=112.0.5615.138)\nStacktrace:\nBacktrace:\n\tGetHandleVerifier [0x0078DCE3+50899]\n\t(No symbol) [0x0071E111]\n\t(No symbol) [0x00625588]\n\t(No symbol) [0x006508F9]\n\t(No symbol) [0x00650AFB]\n\t(No symbol) [0x0067F902]\n\t(No symbol) [0x0066B944]\n\t(No symbol) [0x0067E01C]\n\t(No symbol) [0x0066B6F6]\n\t(No symbol) [0x00647708]\n\t(No symbol) [0x0064886D]\n\tGetHandleVerifier [0x009F3EAE+2566302]\n\tGetHandleVerifier [0x00A292B1+2784417]\n\tGetHandleVerifier [0x00A2327C+2759788]\n\tGetHandleVerifier [0x00825740+672048]\n\t(No symbol) [0x00728872]\n\t(No symbol) [0x007241C8]\n\t(No symbol) [0x007242AB]\n\t(No symbol) [0x007171B7]\n\tBaseThreadInitThunk [0x74EF7D49+25]\n\tRtlInitializeExceptionChain [0x7721B74B+107]\n\tRtlClearBits [0x7721B6CF+191]\n"
     ]
    }
   ],
   "source": [
    "from selenium import webdriver\n",
    "\n",
    "# specify the webdriver path\n",
    "driver = webdriver.Chrome()\n",
    "\n",
    "# open the website\n",
    "driver.get('https://www.themcba.com/member_search.php')\n",
    "\n",
    "# get the input box to enter the first letter of the member's last name\n",
    "letter_input = driver.find_element(By.NAME,'letter')\n",
    "\n",
    "# get all the letters from A-Z\n",
    "letters = [option.get_attribute('value') for option in letter_input.find_elements(By.TAG_NAME,'option')]\n",
    "\n",
    "# create an empty list to store member details\n",
    "members_list = []\n",
    "\n",
    "# loop through all the letters\n",
    "for letter in letters:\n",
    "    # select the letter in the input box\n",
    "    letter_input.send_keys(letter)\n",
    "\n",
    "    # click the search button\n",
    "    search_button = driver.find_element(By.NAME,'search')\n",
    "    search_button.click()\n",
    "\n",
    "    # get all the member rows in the table\n",
    "    member_rows = driver.find_elements_by_xpath('//table[@class=\"memberSearchTable\"]/tbody/tr')\n",
    "\n",
    "    # loop through all the member rows\n",
    "    for row in member_rows:\n",
    "        # get the member details\n",
    "        name = row.find_element_by_xpath('./td[1]').text\n",
    "        address = row.find_element_by_xpath('./td[2]').text\n",
    "        phone = row.find_element_by_xpath('./td[3]').text\n",
    "\n",
    "        # append the member details to the list\n",
    "        members_list.append({'name': name, 'address': address, 'phone': phone})\n",
    "\n",
    "    # clear the input box to select the next letter\n",
    "    letter_input.clear()\n",
    "\n",
    "# print the list of member details\n",
    "print(members_list)\n",
    "\n",
    "# close the webdriver\n",
    "driver.quit()"
   ]
  },
  {
   "cell_type": "code",
   "execution_count": null,
   "id": "82abe446",
   "metadata": {},
   "outputs": [],
   "source": []
  }
 ],
 "metadata": {
  "kernelspec": {
   "display_name": "web_scapping",
   "language": "python",
   "name": "web_scapping"
  },
  "language_info": {
   "codemirror_mode": {
    "name": "ipython",
    "version": 3
   },
   "file_extension": ".py",
   "mimetype": "text/x-python",
   "name": "python",
   "nbconvert_exporter": "python",
   "pygments_lexer": "ipython3",
   "version": "3.10.10"
  }
 },
 "nbformat": 4,
 "nbformat_minor": 5
}
