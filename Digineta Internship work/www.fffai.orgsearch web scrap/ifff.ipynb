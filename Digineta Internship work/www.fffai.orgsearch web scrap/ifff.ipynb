{
 "cells": [
  {
   "cell_type": "code",
   "execution_count": 22,
   "id": "ca477e73",
   "metadata": {},
   "outputs": [],
   "source": [
    "# import pandas as pd\n",
    "# import requests\n",
    "# from selenium import webdriver\n",
    "# from selenium.webdriver.common.by import By\n",
    "# from time import sleep\n",
    "# from selenium.webdriver.chrome.service import Service\n",
    "# from selenium.webdriver.support.ui import WebDriverWait\n",
    "# from selenium.webdriver.support import expected_conditions as Ec\n",
    "# from webdriver_manager.chrome import ChromeDriverManager\n"
   ]
  },
  {
   "cell_type": "code",
   "execution_count": 23,
   "id": "9f819712",
   "metadata": {},
   "outputs": [],
   "source": [
    "# driver=webdriver.Chrome(service=Service(ChromeDriverManager().install()))\n",
    "# wait = WebDriverWait(driver,10)"
   ]
  },
  {
   "cell_type": "code",
   "execution_count": 24,
   "id": "5887b2ae",
   "metadata": {},
   "outputs": [],
   "source": [
    "# url='https://www.fffai.org/user/membership/membership-search'\n",
    "# driver.get(url)\n",
    "# driver.maximize_window()\n",
    "# sleep(3)"
   ]
  },
  {
   "cell_type": "code",
   "execution_count": 34,
   "id": "6253c50f",
   "metadata": {},
   "outputs": [],
   "source": [
    "import requests\n",
    "import json\n",
    "import bs4\n",
    "import pandas as pd\n",
    "import os\n",
    "import csv\n",
    "import time\n",
    "import sys\n",
    "import urllib.request\n",
    "from datetime import date\n",
    "#from htmldate import find_date\n",
    "from dotenv import load_dotenv\n",
    "from selenium import webdriver\n",
    "from webdriver_manager.chrome import ChromeDriverManager\n",
    "from selenium.webdriver.chrome.options import Options\n",
    "from selenium.webdriver.common.by import By\n",
    "from selenium.webdriver.support.ui import WebDriverWait\n",
    "from selenium.webdriver.support import expected_conditions as EC\n",
    "from selenium.common.exceptions import NoSuchElementException\n",
    "from selenium.common.exceptions import StaleElementReferenceException\n",
    "from json import JSONDecoder\n",
    "from fake_useragent import UserAgent\n",
    "#from user_agent import random_header"
   ]
  },
  {
   "cell_type": "code",
   "execution_count": null,
   "id": "c36e82d9",
   "metadata": {},
   "outputs": [],
   "source": []
  },
  {
   "cell_type": "code",
   "execution_count": 60,
   "id": "29f9130d",
   "metadata": {},
   "outputs": [],
   "source": [
    "# url = 'https://www.fffai.org/user/membership/membership-search'\n",
    "\n",
    "# # call open browser function\n",
    "# chrome_options = Options()\n",
    "# chrome_options.add_argument(\"--window-size=1920,1080\")\n",
    "# chrome_options.headless = True\n",
    "# chrome_options.add_argument(\"--disable-dev-shm-usage\")\n",
    "# chrome_options.add_argument(\"--no-sandbox\")\n",
    "# prefs = {\"profile.managed_default_content_settings.images\": 2}\n",
    "# chrome_options.add_experimental_option(\"prefs\", prefs)\n",
    "# ua = UserAgent()\n",
    "# userAgent = ua.random\n",
    "# chrome_options.add_argument(f'user-agent={userAgent}')\n",
    "# driver = webdriver.Chrome(ChromeDriverManager().install(), options=chrome_options)\n",
    "# WebDriverWait(driver,10)\n",
    "# driver.get(url)\n",
    "\n",
    "# # login to website\n",
    "# username_input=driver.find_elements(By.XPATH,'.//input[@name=\"username\"]')\n",
    "# password_input=driver.find_elements(By.XPATH,'.//input[@name=\"password\"]')\n",
    "\n",
    "# username_input.send_keys('sunil.siddhientp@gmail.com')\n",
    "# password_input.send_keys('$Siddhani1')\n",
    "\n",
    "# driver.find_element_by_xpath(\"//*[@type='submit']\").click()\n",
    "# time.sleep(2)"
   ]
  },
  {
   "cell_type": "code",
   "execution_count": 63,
   "id": "2d63fbd8",
   "metadata": {},
   "outputs": [],
   "source": [
    "# from selenium import webdriver\n",
    "# from selenium.webdriver.common.by import By\n",
    "# from selenium.webdriver.common.keys import Keys\n",
    "# from selenium.webdriver.chrome.options import Options\n",
    "# from selenium.webdriver.support.ui import WebDriverWait\n",
    "# from webdriver_manager.chrome import ChromeDriverManager\n",
    "# import time\n",
    "\n",
    "# # Set up options to run Chrome browser in headless mode\n",
    "# chrome_options = Options()\n",
    "# chrome_options.add_argument(\"--window-size=1920,1080\")\n",
    "# chrome_options.headless = True\n",
    "# chrome_options.add_argument(\"--disable-dev-shm-usage\")\n",
    "# chrome_options.add_argument(\"--no-sandbox\")\n",
    "# prefs = {\"profile.managed_default_content_settings.images\": 2}\n",
    "# chrome_options.add_experimental_option(\"prefs\", prefs)\n",
    "\n",
    "# # Set up a random User Agent string\n",
    "# ua = UserAgent()\n",
    "# userAgent = ua.random\n",
    "# chrome_options.add_argument(f'user-agent={userAgent}')\n",
    "\n",
    "# # Create a new Chrome browser instance and navigate to the login page\n",
    "# driver = webdriver.Chrome(ChromeDriverManager().install(), options=chrome_options)\n",
    "# wait = WebDriverWait(driver, 10)\n",
    "# url = 'https://www.fffai.org/user/membership/membership-search'\n",
    "# driver.get(url)\n",
    "\n",
    "# # Find the username and password input fields and enter your credentials\n",
    "# username_input = wait.until(\n",
    "#     lambda driver: driver.find_element(By.NAME, 'username'))\n",
    "# password_input = wait.until(\n",
    "#     lambda driver: driver.find_element(By.NAME, 'password'))\n",
    "# username_input.send_keys('sunil.siddhientp@gmail.com')\n",
    "# password_input.send_keys('$Siddhani1')\n",
    "\n",
    "# # Submit the login form by pressing Enter on the password field\n",
    "# password_input.send_keys(Keys.RETURN)\n",
    "\n",
    "# # Wait for the page to load after logging in and start scraping\n",
    "# time.sleep(2)\n",
    "# # Your scraping code goes here"
   ]
  },
  {
   "cell_type": "code",
   "execution_count": 70,
   "id": "dee67e02",
   "metadata": {},
   "outputs": [
    {
     "name": "stderr",
     "output_type": "stream",
     "text": [
      "C:\\Users\\Admin\\AppData\\Local\\Temp\\ipykernel_7968\\500050779.py:13: DeprecationWarning: headless property is deprecated, instead use add_argument('--headless') or add_argument('--headless=new')\n",
      "  chrome_options.headless = True\n",
      "C:\\Users\\Admin\\AppData\\Local\\Temp\\ipykernel_7968\\500050779.py:25: DeprecationWarning: executable_path has been deprecated, please pass in a Service object\n",
      "  driver = webdriver.Chrome(ChromeDriverManager().install(), options=chrome_options)\n"
     ]
    },
    {
     "name": "stdout",
     "output_type": "stream",
     "text": [
      "[]\n",
      "[]\n"
     ]
    }
   ],
   "source": [
    "from selenium import webdriver\n",
    "from selenium.webdriver.common.by import By\n",
    "from selenium.webdriver.common.keys import Keys\n",
    "from selenium.webdriver.chrome.options import Options\n",
    "from selenium.webdriver.support.ui import WebDriverWait\n",
    "from selenium.webdriver.support import expected_conditions as EC\n",
    "from webdriver_manager.chrome import ChromeDriverManager\n",
    "import time\n",
    "\n",
    "# Set up options to run Chrome browser in headless mode\n",
    "chrome_options = Options()\n",
    "chrome_options.add_argument(\"--window-size=1920,1080\")\n",
    "chrome_options.headless = True\n",
    "chrome_options.add_argument(\"--disable-dev-shm-usage\")\n",
    "chrome_options.add_argument(\"--no-sandbox\")\n",
    "prefs = {\"profile.managed_default_content_settings.images\": 2}\n",
    "chrome_options.add_experimental_option(\"prefs\", prefs)\n",
    "\n",
    "# Set up a random User Agent string\n",
    "ua = UserAgent()\n",
    "userAgent = ua.random\n",
    "chrome_options.add_argument(f'user-agent={userAgent}')\n",
    "\n",
    "# Create a new Chrome browser instance and navigate to the login page\n",
    "driver = webdriver.Chrome(ChromeDriverManager().install(), options=chrome_options)\n",
    "wait = WebDriverWait(driver, 20)  # Wait for up to 20 seconds for the elements to be located\n",
    "url = 'https://www.fffai.org/user/membership/membership-search'\n",
    "driver.get(url)\n",
    "\n",
    "# Find the username and password input fields and enter your credentials\n",
    "username_input=driver.find_elements(By.XPATH,'.//input[@name=\"username\"]')\n",
    "password_input=driver.find_elements(By.XPATH,'.//input[@name=\"password\"]')\n",
    "\n",
    "print(username_input)\n",
    "print(password_input)\n",
    "\n",
    "# username_input.send_keys('sunil.siddhientp@gmail.com')\n",
    "# password_input.send_keys('$Siddhani1')\n",
    "\n",
    "# # Submit the login form by pressing Enter on the password field\n",
    "# password_input.send_keys(Keys.RETURN)\n",
    "\n",
    "# Wait for the page to load after logging in and start scraping\n",
    "time.sleep(2)\n",
    "# Your scraping code goes here"
   ]
  },
  {
   "cell_type": "code",
   "execution_count": null,
   "id": "89653611",
   "metadata": {},
   "outputs": [],
   "source": []
  }
 ],
 "metadata": {
  "kernelspec": {
   "display_name": "web_scapping",
   "language": "python",
   "name": "web_scapping"
  },
  "language_info": {
   "codemirror_mode": {
    "name": "ipython",
    "version": 3
   },
   "file_extension": ".py",
   "mimetype": "text/x-python",
   "name": "python",
   "nbconvert_exporter": "python",
   "pygments_lexer": "ipython3",
   "version": "3.10.10"
  }
 },
 "nbformat": 4,
 "nbformat_minor": 5
}
