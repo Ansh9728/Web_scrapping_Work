{
 "cells": [
  {
   "cell_type": "code",
   "execution_count": 4,
   "id": "20455196",
   "metadata": {},
   "outputs": [],
   "source": [
    "from time import sleep\n",
    "from selenium import webdriver\n",
    "from selenium.webdriver.common.by import By\n",
    "from selenium.webdriver.chrome.service import Service\n",
    "from webdriver_manager.chrome import ChromeDriverManager\n",
    "from selenium.webdriver.support.ui import WebDriverWait\n",
    "from selenium.webdriver.support import expected_conditions as EC\n",
    "import urllib.request\n",
    "import urllib\n",
    "import csv\n",
    "import os\n",
    "import sys\n",
    "import numpy as np\n",
    "import pandas as pd\n",
    "import re"
   ]
  },
  {
   "cell_type": "code",
   "execution_count": 5,
   "id": "e5f08c5f",
   "metadata": {},
   "outputs": [],
   "source": [
    "#user_id= 'sunil.siddhientp@gmail.com'\n",
    "#pw = '$Siddhani1'"
   ]
  },
  {
   "cell_type": "code",
   "execution_count": 6,
   "id": "3a2bdd68",
   "metadata": {},
   "outputs": [
    {
     "ename": "NameError",
     "evalue": "name 'driver' is not defined",
     "output_type": "error",
     "traceback": [
      "\u001b[1;31m---------------------------------------------------------------------------\u001b[0m",
      "\u001b[1;31mNameError\u001b[0m                                 Traceback (most recent call last)",
      "Cell \u001b[1;32mIn[6], line 1\u001b[0m\n\u001b[1;32m----> 1\u001b[0m x \u001b[38;5;241m=\u001b[39m \u001b[43mdriver\u001b[49m\u001b[38;5;241m.\u001b[39mfind_element(By\u001b[38;5;241m.\u001b[39mXPATH,\u001b[38;5;124m\"\u001b[39m\u001b[38;5;124m//input[@class=\u001b[39m\u001b[38;5;124m'\u001b[39m\u001b[38;5;124mform-control\u001b[39m\u001b[38;5;124m'\u001b[39m\u001b[38;5;124m]\u001b[39m\u001b[38;5;124m\"\u001b[39m)\n\u001b[0;32m      2\u001b[0m x\n",
      "\u001b[1;31mNameError\u001b[0m: name 'driver' is not defined"
     ]
    }
   ],
   "source": [
    "x = driver.find_element(By.XPATH,\"//input[@class='form-control']\")\n",
    "x"
   ]
  },
  {
   "cell_type": "code",
   "execution_count": 7,
   "id": "eabdf0a3",
   "metadata": {},
   "outputs": [
    {
     "name": "stderr",
     "output_type": "stream",
     "text": [
      "[WDM] - Downloading: 100%|████████████████████████████████████████████████████████| 6.80M/6.80M [00:02<00:00, 2.65MB/s]\n",
      "C:\\Users\\Admin\\AppData\\Local\\Temp\\ipykernel_10676\\2403965775.py:1: DeprecationWarning: executable_path has been deprecated, please pass in a Service object\n",
      "  driver = webdriver.Chrome((ChromeDriverManager().install()))\n"
     ]
    }
   ],
   "source": [
    "driver = webdriver.Chrome((ChromeDriverManager().install()))\n",
    "wait = WebDriverWait(driver,10)\n",
    "driver.get(\"https://www.fffai.org/\")\n",
    "#driver.get('https://www.fffai.org/user/membership/membership-search?membership_type=3')\n",
    "driver.maximize_window()\n",
    "sleep(3)"
   ]
  },
  {
   "cell_type": "code",
   "execution_count": 8,
   "id": "3e9d878d",
   "metadata": {},
   "outputs": [],
   "source": [
    "#driver.get(\"https://www.fffai.org/\")\n",
    "import requests\n",
    "from bs4 import BeautifulSoup\n",
    "for i in range (1, 27):\n",
    "    url = f'https://www.fffai.org/user/membership/membership-search?membership_type=3/1'\n",
    "    response = requests.get(url)\n",
    "    soup = BeautifulSoup(response.content,'html.parser')"
   ]
  },
  {
   "cell_type": "code",
   "execution_count": 11,
   "id": "cf1493c0",
   "metadata": {},
   "outputs": [
    {
     "ename": "NoSuchElementException",
     "evalue": "Message: no such element: Unable to locate element: {\"method\":\"xpath\",\"selector\":\"//div[@class='login-frm-4 login-1 mt-4']\"}\n  (Session info: chrome=112.0.5615.139)\nStacktrace:\nBacktrace:\n\tGetHandleVerifier [0x0105DCE3+50899]\n\t(No symbol) [0x00FEE111]\n\t(No symbol) [0x00EF5588]\n\t(No symbol) [0x00F208F9]\n\t(No symbol) [0x00F20AFB]\n\t(No symbol) [0x00F4F902]\n\t(No symbol) [0x00F3B944]\n\t(No symbol) [0x00F4E01C]\n\t(No symbol) [0x00F3B6F6]\n\t(No symbol) [0x00F17708]\n\t(No symbol) [0x00F1886D]\n\tGetHandleVerifier [0x012C3EAE+2566302]\n\tGetHandleVerifier [0x012F92B1+2784417]\n\tGetHandleVerifier [0x012F327C+2759788]\n\tGetHandleVerifier [0x010F5740+672048]\n\t(No symbol) [0x00FF8872]\n\t(No symbol) [0x00FF41C8]\n\t(No symbol) [0x00FF42AB]\n\t(No symbol) [0x00FE71B7]\n\tBaseThreadInitThunk [0x74EF7D49+25]\n\tRtlInitializeExceptionChain [0x7721B74B+107]\n\tRtlClearBits [0x7721B6CF+191]\n",
     "output_type": "error",
     "traceback": [
      "\u001b[1;31m---------------------------------------------------------------------------\u001b[0m",
      "\u001b[1;31mNoSuchElementException\u001b[0m                    Traceback (most recent call last)",
      "Cell \u001b[1;32mIn[11], line 1\u001b[0m\n\u001b[1;32m----> 1\u001b[0m box \u001b[38;5;241m=\u001b[39m \u001b[43mdriver\u001b[49m\u001b[38;5;241;43m.\u001b[39;49m\u001b[43mfind_element\u001b[49m\u001b[43m(\u001b[49m\u001b[43mBy\u001b[49m\u001b[38;5;241;43m.\u001b[39;49m\u001b[43mXPATH\u001b[49m\u001b[43m,\u001b[49m\u001b[38;5;124;43m\"\u001b[39;49m\u001b[38;5;124;43m//div[@class=\u001b[39;49m\u001b[38;5;124;43m'\u001b[39;49m\u001b[38;5;124;43mlogin-frm-4 login-1 mt-4\u001b[39;49m\u001b[38;5;124;43m'\u001b[39;49m\u001b[38;5;124;43m]\u001b[39;49m\u001b[38;5;124;43m\"\u001b[39;49m\u001b[43m)\u001b[49m\n\u001b[0;32m      2\u001b[0m box\n",
      "File \u001b[1;32m~\\anaconda3\\envs\\web_scapping\\lib\\site-packages\\selenium\\webdriver\\remote\\webdriver.py:831\u001b[0m, in \u001b[0;36mWebDriver.find_element\u001b[1;34m(self, by, value)\u001b[0m\n\u001b[0;32m    828\u001b[0m     by \u001b[38;5;241m=\u001b[39m By\u001b[38;5;241m.\u001b[39mCSS_SELECTOR\n\u001b[0;32m    829\u001b[0m     value \u001b[38;5;241m=\u001b[39m \u001b[38;5;124mf\u001b[39m\u001b[38;5;124m'\u001b[39m\u001b[38;5;124m[name=\u001b[39m\u001b[38;5;124m\"\u001b[39m\u001b[38;5;132;01m{\u001b[39;00mvalue\u001b[38;5;132;01m}\u001b[39;00m\u001b[38;5;124m\"\u001b[39m\u001b[38;5;124m]\u001b[39m\u001b[38;5;124m'\u001b[39m\n\u001b[1;32m--> 831\u001b[0m \u001b[38;5;28;01mreturn\u001b[39;00m \u001b[38;5;28;43mself\u001b[39;49m\u001b[38;5;241;43m.\u001b[39;49m\u001b[43mexecute\u001b[49m\u001b[43m(\u001b[49m\u001b[43mCommand\u001b[49m\u001b[38;5;241;43m.\u001b[39;49m\u001b[43mFIND_ELEMENT\u001b[49m\u001b[43m,\u001b[49m\u001b[43m \u001b[49m\u001b[43m{\u001b[49m\u001b[38;5;124;43m\"\u001b[39;49m\u001b[38;5;124;43musing\u001b[39;49m\u001b[38;5;124;43m\"\u001b[39;49m\u001b[43m:\u001b[49m\u001b[43m \u001b[49m\u001b[43mby\u001b[49m\u001b[43m,\u001b[49m\u001b[43m \u001b[49m\u001b[38;5;124;43m\"\u001b[39;49m\u001b[38;5;124;43mvalue\u001b[39;49m\u001b[38;5;124;43m\"\u001b[39;49m\u001b[43m:\u001b[49m\u001b[43m \u001b[49m\u001b[43mvalue\u001b[49m\u001b[43m}\u001b[49m\u001b[43m)\u001b[49m[\u001b[38;5;124m\"\u001b[39m\u001b[38;5;124mvalue\u001b[39m\u001b[38;5;124m\"\u001b[39m]\n",
      "File \u001b[1;32m~\\anaconda3\\envs\\web_scapping\\lib\\site-packages\\selenium\\webdriver\\remote\\webdriver.py:440\u001b[0m, in \u001b[0;36mWebDriver.execute\u001b[1;34m(self, driver_command, params)\u001b[0m\n\u001b[0;32m    438\u001b[0m response \u001b[38;5;241m=\u001b[39m \u001b[38;5;28mself\u001b[39m\u001b[38;5;241m.\u001b[39mcommand_executor\u001b[38;5;241m.\u001b[39mexecute(driver_command, params)\n\u001b[0;32m    439\u001b[0m \u001b[38;5;28;01mif\u001b[39;00m response:\n\u001b[1;32m--> 440\u001b[0m     \u001b[38;5;28;43mself\u001b[39;49m\u001b[38;5;241;43m.\u001b[39;49m\u001b[43merror_handler\u001b[49m\u001b[38;5;241;43m.\u001b[39;49m\u001b[43mcheck_response\u001b[49m\u001b[43m(\u001b[49m\u001b[43mresponse\u001b[49m\u001b[43m)\u001b[49m\n\u001b[0;32m    441\u001b[0m     response[\u001b[38;5;124m\"\u001b[39m\u001b[38;5;124mvalue\u001b[39m\u001b[38;5;124m\"\u001b[39m] \u001b[38;5;241m=\u001b[39m \u001b[38;5;28mself\u001b[39m\u001b[38;5;241m.\u001b[39m_unwrap_value(response\u001b[38;5;241m.\u001b[39mget(\u001b[38;5;124m\"\u001b[39m\u001b[38;5;124mvalue\u001b[39m\u001b[38;5;124m\"\u001b[39m, \u001b[38;5;28;01mNone\u001b[39;00m))\n\u001b[0;32m    442\u001b[0m     \u001b[38;5;28;01mreturn\u001b[39;00m response\n",
      "File \u001b[1;32m~\\anaconda3\\envs\\web_scapping\\lib\\site-packages\\selenium\\webdriver\\remote\\errorhandler.py:245\u001b[0m, in \u001b[0;36mErrorHandler.check_response\u001b[1;34m(self, response)\u001b[0m\n\u001b[0;32m    243\u001b[0m         alert_text \u001b[38;5;241m=\u001b[39m value[\u001b[38;5;124m\"\u001b[39m\u001b[38;5;124malert\u001b[39m\u001b[38;5;124m\"\u001b[39m]\u001b[38;5;241m.\u001b[39mget(\u001b[38;5;124m\"\u001b[39m\u001b[38;5;124mtext\u001b[39m\u001b[38;5;124m\"\u001b[39m)\n\u001b[0;32m    244\u001b[0m     \u001b[38;5;28;01mraise\u001b[39;00m exception_class(message, screen, stacktrace, alert_text)  \u001b[38;5;66;03m# type: ignore[call-arg]  # mypy is not smart enough here\u001b[39;00m\n\u001b[1;32m--> 245\u001b[0m \u001b[38;5;28;01mraise\u001b[39;00m exception_class(message, screen, stacktrace)\n",
      "\u001b[1;31mNoSuchElementException\u001b[0m: Message: no such element: Unable to locate element: {\"method\":\"xpath\",\"selector\":\"//div[@class='login-frm-4 login-1 mt-4']\"}\n  (Session info: chrome=112.0.5615.139)\nStacktrace:\nBacktrace:\n\tGetHandleVerifier [0x0105DCE3+50899]\n\t(No symbol) [0x00FEE111]\n\t(No symbol) [0x00EF5588]\n\t(No symbol) [0x00F208F9]\n\t(No symbol) [0x00F20AFB]\n\t(No symbol) [0x00F4F902]\n\t(No symbol) [0x00F3B944]\n\t(No symbol) [0x00F4E01C]\n\t(No symbol) [0x00F3B6F6]\n\t(No symbol) [0x00F17708]\n\t(No symbol) [0x00F1886D]\n\tGetHandleVerifier [0x012C3EAE+2566302]\n\tGetHandleVerifier [0x012F92B1+2784417]\n\tGetHandleVerifier [0x012F327C+2759788]\n\tGetHandleVerifier [0x010F5740+672048]\n\t(No symbol) [0x00FF8872]\n\t(No symbol) [0x00FF41C8]\n\t(No symbol) [0x00FF42AB]\n\t(No symbol) [0x00FE71B7]\n\tBaseThreadInitThunk [0x74EF7D49+25]\n\tRtlInitializeExceptionChain [0x7721B74B+107]\n\tRtlClearBits [0x7721B6CF+191]\n"
     ]
    }
   ],
   "source": [
    "box = driver.find_element(By.XPATH,\"//div[@class='login-frm-4 login-1 mt-4']\")\n",
    "box"
   ]
  },
  {
   "cell_type": "code",
   "execution_count": 12,
   "id": "577bce80",
   "metadata": {},
   "outputs": [
    {
     "data": {
      "text/plain": [
       "[]"
      ]
     },
     "execution_count": 12,
     "metadata": {},
     "output_type": "execute_result"
    }
   ],
   "source": [
    "boxes = driver.find_elements(By.XPATH,\".//div[@class='info1-box']\")\n",
    "boxes"
   ]
  },
  {
   "cell_type": "code",
   "execution_count": 13,
   "id": "f4e7226f",
   "metadata": {},
   "outputs": [],
   "source": [
    "col=[\"NAME\",\"ADDRESS\"]\n",
    "#cols = []\n",
    "#col.extend(cols)"
   ]
  },
  {
   "cell_type": "code",
   "execution_count": 14,
   "id": "92a42314",
   "metadata": {},
   "outputs": [],
   "source": [
    "col=[\"NAME\",\"ADDRESS\"]#\"MOB_NO\",\"TEL_NO\",\"Email\",\"Authorised_person\"]\n",
    "cols = [\"Column1\", \"Column2\", \"Column3\", \"Column4\"]  # Define the desired column names\n",
    "df1 = pd.DataFrame(columns=col)  # Initialize the dataframe with the column names\n",
    "\n",
    "from selenium.common.exceptions import NoSuchElementException\n",
    "\n",
    "for i in boxes:\n",
    "    try:\n",
    "        # Click the search button in the box\n",
    "        search_btn = i.find_element(By.XPATH, \".//a[@class='btn-search-4 collapsed']\")\n",
    "        search_btn.click()\n",
    "        sleep(2)\n",
    "\n",
    "        # Get the name, address, and additional info from the box\n",
    "        name = i.find_element(By.XPATH, \".//p[@class='nm mb-2']\").text\n",
    "        Address = i.find_element(By.XPATH, \".//p[@class='info']\").text\n",
    "        info = i.find_element(By.XPATH, \".//div[@class='info-dt collapse show']\").text\n",
    "        lst = info.split('\\n')\n",
    "\n",
    "        # Create a dataframe with the name, address, and additional info\n",
    "        value = [name, Address]\n",
    "        for j, v in enumerate(lst):\n",
    "            if j % 2 == 0:\n",
    "                cols.append(v)\n",
    "            else:\n",
    "                value.append(v)\n",
    "        sleep(2)\n",
    "        df = pd.DataFrame(value).T\n",
    "        df.columns = cols\n",
    "        df1 = pd.concat([df1, df], ignore_index=True)\n",
    "\n",
    "    except NoSuchElementException:\n",
    "        # Handle the exception if the search button is not found in the box\n",
    "        print(\"Search button not found in the box.\")\n"
   ]
  },
  {
   "cell_type": "code",
   "execution_count": 15,
   "id": "2223b4f2",
   "metadata": {},
   "outputs": [],
   "source": [
    "from selenium.common.exceptions import NoSuchElementException\n",
    "for i in boxes:\n",
    "    try:\n",
    "        # Click the search button in the box\n",
    "        search_btn = i.find_element(By.XPATH, \".//a[@class='btn-search-4 collapsed']\")\n",
    "        search_btn.click()\n",
    "        sleep(2)\n",
    "\n",
    "        # Get the name, address, and additional info from the box\n",
    "        name = i.find_element(By.XPATH, \".//p[@class='nm mb-2']\").text\n",
    "        Address = i.find_element(By.XPATH, \".//p[@class='info']\").text\n",
    "        info = i.find_element(By.XPATH, \".//div[@class='info-dt collapse show']\").text\n",
    "        lst = info.split('\\n')\n",
    "\n",
    "        # Create a dataframe with the name, address, and additional info\n",
    "        value = [name, Address]\n",
    "        for j, v in enumerate(lst):\n",
    "            if j % 2 == 0:\n",
    "                cols.append(v)\n",
    "            else:\n",
    "                value.append(v)\n",
    "        sleep(2)\n",
    "        df = pd.DataFrame(value).T\n",
    "        df.columns = cols\n",
    "        df1 = pd.concat([df1, df], ignore_index=True)\n",
    "\n",
    "    except NoSuchElementException:\n",
    "        # Handle the exception if the search button is not found in the box\n",
    "        print(\"Search button not found in the box.\")\n"
   ]
  },
  {
   "cell_type": "code",
   "execution_count": 16,
   "id": "d5c56cee",
   "metadata": {},
   "outputs": [],
   "source": [
    "for i in boxes:\n",
    "    i.find_element(By.XPATH,\".//a[@class='btn-search-4']\").click()\n",
    "    sleep(2)\n",
    "    name=i.find_element(By.XPATH,\".//p[@class='nm mb-2']\").text\n",
    "    Address=i.find_element(By.XPATH,\".//p[@class='info']\").text\n",
    "    #element = wait.until(EC.visibility_of_element_located((BY.XPATH,\".//div[@class='info-dt collapse show']\"))) \n",
    "    #a = element.text\n",
    "    a=i.find_element(By.XPATH,\".//div[@class='info-dt collapse show']\").text\n",
    "    lst=a.split('\\n')\n",
    "    \n",
    "    #cols=[]\n",
    "    value=[name,Address]\n",
    "    for i,v in enumerate(lst):\n",
    "        if i%2 == 0:\n",
    "            cols.append(v)\n",
    "        else:\n",
    "            value.append(v)\n",
    "    sleep(2)\n",
    "    df = pd.DataFrame(value).T\n",
    "    df.columns = col\n",
    "    df1 = pd.concat([df1,df],ignore_index=True)\n",
    "    \n",
    "    \n",
    "\n",
    "\n",
    "# wait for the element to be visible\n",
    "#wait = WebDriverWait(driver, 10)\n",
    "#element = wait.until(EC.visibility_of_element_located((By.XPATH, \".//div[@class='info-dt collapse show']\")))\n",
    "\n",
    "# access the element\n",
    "#a = element.text\n",
    "   \n",
    "    \n",
    "     # cols = []\n",
    "    #vals = [name,addrs]\n",
    "    #for i,v in enumerate(lst):\n",
    "     #   if i%2 == 0:\n",
    "       #     cols.append(v)\n",
    "      #  else:\n",
    "        #    vals.append(v)\n",
    "    #sleep(1)\n",
    "    #df=pd.DataFrame(vals).T\n",
    "    #df.columns = col\n",
    "    #df1 = pd.concat([df1,df],ignore_index=True)\n",
    "    "
   ]
  },
  {
   "cell_type": "code",
   "execution_count": null,
   "id": "940aa74f",
   "metadata": {},
   "outputs": [],
   "source": [
    "\n"
   ]
  },
  {
   "cell_type": "code",
   "execution_count": 17,
   "id": "94da7a0f",
   "metadata": {},
   "outputs": [],
   "source": [
    "import requests\n",
    "from bs4 import BeautifulSoup\n",
    "\n",
    "for page_num in range(1, 11):\n",
    "    url = f'https://example.com/page/{page_num}'\n",
    "    response = requests.get(url)\n",
    "    soup = BeautifulSoup(response.content, 'html.parser')\n",
    "    # Extract the relevant data from the HTML using Beautiful Soup\n",
    "    # Store the data in a suitable format, such as a CSV or a database\n"
   ]
  },
  {
   "cell_type": "code",
   "execution_count": 18,
   "id": "cb431f6e",
   "metadata": {},
   "outputs": [
    {
     "data": {
      "text/plain": [
       "<Response [200]>"
      ]
     },
     "execution_count": 18,
     "metadata": {},
     "output_type": "execute_result"
    }
   ],
   "source": [
    "import requests \n",
    "url = f'https://www.fffai.org/user/membership/membership-search?membership_type=3'\n",
    "requests.get(url)"
   ]
  },
  {
   "cell_type": "code",
   "execution_count": 19,
   "id": "b405208b",
   "metadata": {},
   "outputs": [
    {
     "name": "stderr",
     "output_type": "stream",
     "text": [
      "C:\\Users\\Admin\\AppData\\Local\\Temp\\ipykernel_10676\\1857272471.py:9: DeprecationWarning: executable_path has been deprecated, please pass in a Service object\n",
      "  driver = webdriver.Chrome(ChromeDriverManager().install())\n"
     ]
    },
    {
     "ename": "NoSuchElementException",
     "evalue": "Message: no such element: Unable to locate element: {\"method\":\"css selector\",\"selector\":\"[id=\"username\"]\"}\n  (Session info: chrome=112.0.5615.139)\nStacktrace:\nBacktrace:\n\tGetHandleVerifier [0x0105DCE3+50899]\n\t(No symbol) [0x00FEE111]\n\t(No symbol) [0x00EF5588]\n\t(No symbol) [0x00F208F9]\n\t(No symbol) [0x00F20AFB]\n\t(No symbol) [0x00F4F902]\n\t(No symbol) [0x00F3B944]\n\t(No symbol) [0x00F4E01C]\n\t(No symbol) [0x00F3B6F6]\n\t(No symbol) [0x00F17708]\n\t(No symbol) [0x00F1886D]\n\tGetHandleVerifier [0x012C3EAE+2566302]\n\tGetHandleVerifier [0x012F92B1+2784417]\n\tGetHandleVerifier [0x012F327C+2759788]\n\tGetHandleVerifier [0x010F5740+672048]\n\t(No symbol) [0x00FF8872]\n\t(No symbol) [0x00FF41C8]\n\t(No symbol) [0x00FF42AB]\n\t(No symbol) [0x00FE71B7]\n\tBaseThreadInitThunk [0x74EF7D49+25]\n\tRtlInitializeExceptionChain [0x7721B74B+107]\n\tRtlClearBits [0x7721B6CF+191]\n",
     "output_type": "error",
     "traceback": [
      "\u001b[1;31m---------------------------------------------------------------------------\u001b[0m",
      "\u001b[1;31mNoSuchElementException\u001b[0m                    Traceback (most recent call last)",
      "Cell \u001b[1;32mIn[19], line 18\u001b[0m\n\u001b[0;32m     15\u001b[0m sleep(\u001b[38;5;241m3\u001b[39m)\n\u001b[0;32m     17\u001b[0m \u001b[38;5;66;03m# Fill in the login form and submit it\u001b[39;00m\n\u001b[1;32m---> 18\u001b[0m username_field \u001b[38;5;241m=\u001b[39m \u001b[43mdriver\u001b[49m\u001b[38;5;241;43m.\u001b[39;49m\u001b[43mfind_element\u001b[49m\u001b[43m(\u001b[49m\u001b[43mBy\u001b[49m\u001b[38;5;241;43m.\u001b[39;49m\u001b[43mID\u001b[49m\u001b[43m,\u001b[49m\u001b[43m \u001b[49m\u001b[38;5;124;43m'\u001b[39;49m\u001b[38;5;124;43musername\u001b[39;49m\u001b[38;5;124;43m'\u001b[39;49m\u001b[43m)\u001b[49m\n\u001b[0;32m     19\u001b[0m password_field \u001b[38;5;241m=\u001b[39m driver\u001b[38;5;241m.\u001b[39mfind_element(By\u001b[38;5;241m.\u001b[39mID, \u001b[38;5;124m'\u001b[39m\u001b[38;5;124mpassword\u001b[39m\u001b[38;5;124m'\u001b[39m)\n\u001b[0;32m     20\u001b[0m submit_button \u001b[38;5;241m=\u001b[39m driver\u001b[38;5;241m.\u001b[39mfind_element(By\u001b[38;5;241m.\u001b[39mID, \u001b[38;5;124m'\u001b[39m\u001b[38;5;124msubmit\u001b[39m\u001b[38;5;124m'\u001b[39m)\n",
      "File \u001b[1;32m~\\anaconda3\\envs\\web_scapping\\lib\\site-packages\\selenium\\webdriver\\remote\\webdriver.py:831\u001b[0m, in \u001b[0;36mWebDriver.find_element\u001b[1;34m(self, by, value)\u001b[0m\n\u001b[0;32m    828\u001b[0m     by \u001b[38;5;241m=\u001b[39m By\u001b[38;5;241m.\u001b[39mCSS_SELECTOR\n\u001b[0;32m    829\u001b[0m     value \u001b[38;5;241m=\u001b[39m \u001b[38;5;124mf\u001b[39m\u001b[38;5;124m'\u001b[39m\u001b[38;5;124m[name=\u001b[39m\u001b[38;5;124m\"\u001b[39m\u001b[38;5;132;01m{\u001b[39;00mvalue\u001b[38;5;132;01m}\u001b[39;00m\u001b[38;5;124m\"\u001b[39m\u001b[38;5;124m]\u001b[39m\u001b[38;5;124m'\u001b[39m\n\u001b[1;32m--> 831\u001b[0m \u001b[38;5;28;01mreturn\u001b[39;00m \u001b[38;5;28;43mself\u001b[39;49m\u001b[38;5;241;43m.\u001b[39;49m\u001b[43mexecute\u001b[49m\u001b[43m(\u001b[49m\u001b[43mCommand\u001b[49m\u001b[38;5;241;43m.\u001b[39;49m\u001b[43mFIND_ELEMENT\u001b[49m\u001b[43m,\u001b[49m\u001b[43m \u001b[49m\u001b[43m{\u001b[49m\u001b[38;5;124;43m\"\u001b[39;49m\u001b[38;5;124;43musing\u001b[39;49m\u001b[38;5;124;43m\"\u001b[39;49m\u001b[43m:\u001b[49m\u001b[43m \u001b[49m\u001b[43mby\u001b[49m\u001b[43m,\u001b[49m\u001b[43m \u001b[49m\u001b[38;5;124;43m\"\u001b[39;49m\u001b[38;5;124;43mvalue\u001b[39;49m\u001b[38;5;124;43m\"\u001b[39;49m\u001b[43m:\u001b[49m\u001b[43m \u001b[49m\u001b[43mvalue\u001b[49m\u001b[43m}\u001b[49m\u001b[43m)\u001b[49m[\u001b[38;5;124m\"\u001b[39m\u001b[38;5;124mvalue\u001b[39m\u001b[38;5;124m\"\u001b[39m]\n",
      "File \u001b[1;32m~\\anaconda3\\envs\\web_scapping\\lib\\site-packages\\selenium\\webdriver\\remote\\webdriver.py:440\u001b[0m, in \u001b[0;36mWebDriver.execute\u001b[1;34m(self, driver_command, params)\u001b[0m\n\u001b[0;32m    438\u001b[0m response \u001b[38;5;241m=\u001b[39m \u001b[38;5;28mself\u001b[39m\u001b[38;5;241m.\u001b[39mcommand_executor\u001b[38;5;241m.\u001b[39mexecute(driver_command, params)\n\u001b[0;32m    439\u001b[0m \u001b[38;5;28;01mif\u001b[39;00m response:\n\u001b[1;32m--> 440\u001b[0m     \u001b[38;5;28;43mself\u001b[39;49m\u001b[38;5;241;43m.\u001b[39;49m\u001b[43merror_handler\u001b[49m\u001b[38;5;241;43m.\u001b[39;49m\u001b[43mcheck_response\u001b[49m\u001b[43m(\u001b[49m\u001b[43mresponse\u001b[49m\u001b[43m)\u001b[49m\n\u001b[0;32m    441\u001b[0m     response[\u001b[38;5;124m\"\u001b[39m\u001b[38;5;124mvalue\u001b[39m\u001b[38;5;124m\"\u001b[39m] \u001b[38;5;241m=\u001b[39m \u001b[38;5;28mself\u001b[39m\u001b[38;5;241m.\u001b[39m_unwrap_value(response\u001b[38;5;241m.\u001b[39mget(\u001b[38;5;124m\"\u001b[39m\u001b[38;5;124mvalue\u001b[39m\u001b[38;5;124m\"\u001b[39m, \u001b[38;5;28;01mNone\u001b[39;00m))\n\u001b[0;32m    442\u001b[0m     \u001b[38;5;28;01mreturn\u001b[39;00m response\n",
      "File \u001b[1;32m~\\anaconda3\\envs\\web_scapping\\lib\\site-packages\\selenium\\webdriver\\remote\\errorhandler.py:245\u001b[0m, in \u001b[0;36mErrorHandler.check_response\u001b[1;34m(self, response)\u001b[0m\n\u001b[0;32m    243\u001b[0m         alert_text \u001b[38;5;241m=\u001b[39m value[\u001b[38;5;124m\"\u001b[39m\u001b[38;5;124malert\u001b[39m\u001b[38;5;124m\"\u001b[39m]\u001b[38;5;241m.\u001b[39mget(\u001b[38;5;124m\"\u001b[39m\u001b[38;5;124mtext\u001b[39m\u001b[38;5;124m\"\u001b[39m)\n\u001b[0;32m    244\u001b[0m     \u001b[38;5;28;01mraise\u001b[39;00m exception_class(message, screen, stacktrace, alert_text)  \u001b[38;5;66;03m# type: ignore[call-arg]  # mypy is not smart enough here\u001b[39;00m\n\u001b[1;32m--> 245\u001b[0m \u001b[38;5;28;01mraise\u001b[39;00m exception_class(message, screen, stacktrace)\n",
      "\u001b[1;31mNoSuchElementException\u001b[0m: Message: no such element: Unable to locate element: {\"method\":\"css selector\",\"selector\":\"[id=\"username\"]\"}\n  (Session info: chrome=112.0.5615.139)\nStacktrace:\nBacktrace:\n\tGetHandleVerifier [0x0105DCE3+50899]\n\t(No symbol) [0x00FEE111]\n\t(No symbol) [0x00EF5588]\n\t(No symbol) [0x00F208F9]\n\t(No symbol) [0x00F20AFB]\n\t(No symbol) [0x00F4F902]\n\t(No symbol) [0x00F3B944]\n\t(No symbol) [0x00F4E01C]\n\t(No symbol) [0x00F3B6F6]\n\t(No symbol) [0x00F17708]\n\t(No symbol) [0x00F1886D]\n\tGetHandleVerifier [0x012C3EAE+2566302]\n\tGetHandleVerifier [0x012F92B1+2784417]\n\tGetHandleVerifier [0x012F327C+2759788]\n\tGetHandleVerifier [0x010F5740+672048]\n\t(No symbol) [0x00FF8872]\n\t(No symbol) [0x00FF41C8]\n\t(No symbol) [0x00FF42AB]\n\t(No symbol) [0x00FE71B7]\n\tBaseThreadInitThunk [0x74EF7D49+25]\n\tRtlInitializeExceptionChain [0x7721B74B+107]\n\tRtlClearBits [0x7721B6CF+191]\n"
     ]
    }
   ],
   "source": [
    "from selenium import webdriver\n",
    "from webdriver_manager.chrome import ChromeDriverManager\n",
    "from selenium.webdriver.common.by import By\n",
    "from selenium.webdriver.support.ui import WebDriverWait\n",
    "from selenium.webdriver.support import expected_conditions as EC\n",
    "from time import sleep\n",
    "\n",
    "# Set up the Selenium driver\n",
    "driver = webdriver.Chrome(ChromeDriverManager().install())\n",
    "wait = WebDriverWait(driver, 10)\n",
    "\n",
    "# Navigate to the login page\n",
    "driver.get('https://www.fffai.org/')\n",
    "driver.maximize_window()\n",
    "sleep(3)\n",
    "\n",
    "# Fill in the login form and submit it\n",
    "username_field = driver.find_element(By.ID, 'username')\n",
    "password_field = driver.find_element(By.ID, 'password')\n",
    "submit_button = driver.find_element(By.ID, 'submit')\n",
    "\n",
    "username_field.send_keys('your_username')\n",
    "password_field.send_keys('your_password')\n",
    "submit_button.click()\n",
    "\n",
    "# Wait for the page to load after submitting the login form\n",
    "wait.until(EC.url_to_be('https://www.example.com/dashboard'))\n",
    "\n",
    "# Navigate to the page you want to scrape\n",
    "driver.get('https://www.example.com/data')\n",
    "\n",
    "# Wait for the page to load\n",
    "wait.until(EC.visibility_of_element_located((By.XPATH, \"//table[@id='data-table']\")))\n",
    "\n",
    "# Scrape the data from the page\n",
    "data = []\n",
    "rows = driver.find_elements(By.XPATH, \"//table[@id='data-table']//tr\")\n",
    "for row in rows:\n",
    "    columns = row.find_elements(By.XPATH, \".//td\")\n",
    "    data.append([column.text for column in columns])\n",
    "\n",
    "# Print the data to the console\n",
    "for d in data:\n",
    "    print(d)\n"
   ]
  },
  {
   "cell_type": "code",
   "execution_count": null,
   "id": "4c9a5c46",
   "metadata": {},
   "outputs": [],
   "source": [
    "from selenium import webdriver\n",
    "from webdriver_manager.chrome import ChromeDriverManager\n",
    "from selenium.webdriver.common.by import By\n",
    "from selenium.webdriver.support.ui import WebDriverWait\n",
    "from selenium.webdriver.support import expected_conditions as EC\n",
    "from time import sleep\n",
    "\n",
    "# Set up the Selenium driver\n",
    "driver = webdriver.Chrome(ChromeDriverManager().install())\n",
    "wait = WebDriverWait(driver, 10)\n",
    "\n",
    "# Navigate to the website you want to scrape\n",
    "driver.get('https://www.fffai.org/')\n",
    "driver.maximize_window()\n",
    "sleep(3)\n",
    "\n",
    "# Click the \"I Agree\" button to accept the website's cookies (if applicable)\n",
    "try:\n",
    "    agree_button = driver.find_element(By.ID, 'btnAccept')\n",
    "    agree_button.click()\n",
    "    sleep(3)\n",
    "except:\n",
    "    pass\n",
    "\n",
    "# Click the \"Login\" button to go to the login page\n",
    "login_button = driver.find_element(By.XPATH, \"//a[@class='login']\")\n",
    "login_button.click()\n",
    "\n",
    "# Fill in the login form and submit it\n",
    "login_form = driver.find_element(By.XPATH, \"//form[@id='login-form']\")\n",
    "login_form.find_element(By.NAME, 'email').send_keys('your_email_address')\n",
    "login_form.find_element(By.NAME, 'password').send_keys('your_password')\n",
    "login_form.submit()\n",
    "\n",
    "# Wait for the login to complete and the dashboard page to load\n",
    "wait.until(EC.visibility_of_element_located((By.XPATH, \"//div[@class='dashboard-inner-content']\")))\n",
    "\n",
    "# Navigate to the \"Member Association\" page\n",
    "member_association_link = driver.find_element(By.XPATH, \"//a[contains(text(),'Member Association')]\")\n",
    "member_association_link.click()\n",
    "\n",
    "# Wait for the Member Association page to load\n",
    "wait.until(EC.visibility_of_element_located((By.XPATH, \"//div[@class='ma-search-container']\")))\n",
    "\n",
    "# Scrape data from the Member Association page\n",
    "# ...\n",
    "\n",
    "# Close the browser\n",
    "driver.quit()\n"
   ]
  },
  {
   "cell_type": "code",
   "execution_count": 20,
   "id": "569476d0",
   "metadata": {},
   "outputs": [
    {
     "name": "stderr",
     "output_type": "stream",
     "text": [
      "C:\\Users\\Admin\\AppData\\Local\\Temp\\ipykernel_10676\\2850873377.py:10: DeprecationWarning: executable_path has been deprecated, please pass in a Service object\n",
      "  driver = webdriver.Chrome(ChromeDriverManager().install())\n"
     ]
    },
    {
     "ename": "NoSuchElementException",
     "evalue": "Message: no such element: Unable to locate element: {\"method\":\"css selector\",\"selector\":\"[name=\"email\"]\"}\n  (Session info: chrome=112.0.5615.139)\nStacktrace:\nBacktrace:\n\tGetHandleVerifier [0x0105DCE3+50899]\n\t(No symbol) [0x00FEE111]\n\t(No symbol) [0x00EF5588]\n\t(No symbol) [0x00F208F9]\n\t(No symbol) [0x00F20AFB]\n\t(No symbol) [0x00F18F71]\n\t(No symbol) [0x00F3B944]\n\t(No symbol) [0x00F18EC6]\n\t(No symbol) [0x00F3BC54]\n\t(No symbol) [0x00F4E01C]\n\t(No symbol) [0x00F3B6F6]\n\t(No symbol) [0x00F17708]\n\t(No symbol) [0x00F1886D]\n\tGetHandleVerifier [0x012C3EAE+2566302]\n\tGetHandleVerifier [0x012F92B1+2784417]\n\tGetHandleVerifier [0x012F327C+2759788]\n\tGetHandleVerifier [0x010F5740+672048]\n\t(No symbol) [0x00FF8872]\n\t(No symbol) [0x00FF41C8]\n\t(No symbol) [0x00FF42AB]\n\t(No symbol) [0x00FE71B7]\n\tBaseThreadInitThunk [0x74EF7D49+25]\n\tRtlInitializeExceptionChain [0x7721B74B+107]\n\tRtlClearBits [0x7721B6CF+191]\n",
     "output_type": "error",
     "traceback": [
      "\u001b[1;31m---------------------------------------------------------------------------\u001b[0m",
      "\u001b[1;31mNoSuchElementException\u001b[0m                    Traceback (most recent call last)",
      "Cell \u001b[1;32mIn[20], line 32\u001b[0m\n\u001b[0;32m     18\u001b[0m \u001b[38;5;66;03m# Click the \"I Agree\" button to accept the website's cookies (if applicable)\u001b[39;00m\n\u001b[0;32m     19\u001b[0m \u001b[38;5;66;03m#try:\u001b[39;00m\n\u001b[0;32m     20\u001b[0m   \u001b[38;5;66;03m#  agree_button = driver.find_element(By.ID, 'btnAccept')\u001b[39;00m\n\u001b[1;32m   (...)\u001b[0m\n\u001b[0;32m     29\u001b[0m \n\u001b[0;32m     30\u001b[0m \u001b[38;5;66;03m# Fill in the login form and submit it\u001b[39;00m\n\u001b[0;32m     31\u001b[0m login_form \u001b[38;5;241m=\u001b[39m driver\u001b[38;5;241m.\u001b[39mfind_element(By\u001b[38;5;241m.\u001b[39mXPATH, \u001b[38;5;124m\"\u001b[39m\u001b[38;5;124m//input[@name=\u001b[39m\u001b[38;5;124m'\u001b[39m\u001b[38;5;124musername\u001b[39m\u001b[38;5;124m'\u001b[39m\u001b[38;5;124m]\u001b[39m\u001b[38;5;124m\"\u001b[39m)\n\u001b[1;32m---> 32\u001b[0m \u001b[43mlogin_form\u001b[49m\u001b[38;5;241;43m.\u001b[39;49m\u001b[43mfind_element\u001b[49m\u001b[43m(\u001b[49m\u001b[43mBy\u001b[49m\u001b[38;5;241;43m.\u001b[39;49m\u001b[43mNAME\u001b[49m\u001b[43m,\u001b[49m\u001b[43m \u001b[49m\u001b[38;5;124;43m'\u001b[39;49m\u001b[38;5;124;43memail\u001b[39;49m\u001b[38;5;124;43m'\u001b[39;49m\u001b[43m)\u001b[49m\u001b[38;5;241m.\u001b[39msend_keys(\u001b[38;5;124m'\u001b[39m\u001b[38;5;124m sunil.siddhientp@gmail.com\u001b[39m\u001b[38;5;124m'\u001b[39m)\n\u001b[0;32m     33\u001b[0m login_form\u001b[38;5;241m.\u001b[39mfind_element(By\u001b[38;5;241m.\u001b[39mNAME, \u001b[38;5;124m'\u001b[39m\u001b[38;5;124mpassword\u001b[39m\u001b[38;5;124m'\u001b[39m)\u001b[38;5;241m.\u001b[39msend_keys(\u001b[38;5;124m'\u001b[39m\u001b[38;5;124m$Siddhani1\u001b[39m\u001b[38;5;124m'\u001b[39m)\n\u001b[0;32m     34\u001b[0m login_form\u001b[38;5;241m.\u001b[39msubmit()\n",
      "File \u001b[1;32m~\\anaconda3\\envs\\web_scapping\\lib\\site-packages\\selenium\\webdriver\\remote\\webelement.py:425\u001b[0m, in \u001b[0;36mWebElement.find_element\u001b[1;34m(self, by, value)\u001b[0m\n\u001b[0;32m    422\u001b[0m     by \u001b[38;5;241m=\u001b[39m By\u001b[38;5;241m.\u001b[39mCSS_SELECTOR\n\u001b[0;32m    423\u001b[0m     value \u001b[38;5;241m=\u001b[39m \u001b[38;5;124mf\u001b[39m\u001b[38;5;124m'\u001b[39m\u001b[38;5;124m[name=\u001b[39m\u001b[38;5;124m\"\u001b[39m\u001b[38;5;132;01m{\u001b[39;00mvalue\u001b[38;5;132;01m}\u001b[39;00m\u001b[38;5;124m\"\u001b[39m\u001b[38;5;124m]\u001b[39m\u001b[38;5;124m'\u001b[39m\n\u001b[1;32m--> 425\u001b[0m \u001b[38;5;28;01mreturn\u001b[39;00m \u001b[38;5;28;43mself\u001b[39;49m\u001b[38;5;241;43m.\u001b[39;49m\u001b[43m_execute\u001b[49m\u001b[43m(\u001b[49m\u001b[43mCommand\u001b[49m\u001b[38;5;241;43m.\u001b[39;49m\u001b[43mFIND_CHILD_ELEMENT\u001b[49m\u001b[43m,\u001b[49m\u001b[43m \u001b[49m\u001b[43m{\u001b[49m\u001b[38;5;124;43m\"\u001b[39;49m\u001b[38;5;124;43musing\u001b[39;49m\u001b[38;5;124;43m\"\u001b[39;49m\u001b[43m:\u001b[49m\u001b[43m \u001b[49m\u001b[43mby\u001b[49m\u001b[43m,\u001b[49m\u001b[43m \u001b[49m\u001b[38;5;124;43m\"\u001b[39;49m\u001b[38;5;124;43mvalue\u001b[39;49m\u001b[38;5;124;43m\"\u001b[39;49m\u001b[43m:\u001b[49m\u001b[43m \u001b[49m\u001b[43mvalue\u001b[49m\u001b[43m}\u001b[49m\u001b[43m)\u001b[49m[\u001b[38;5;124m\"\u001b[39m\u001b[38;5;124mvalue\u001b[39m\u001b[38;5;124m\"\u001b[39m]\n",
      "File \u001b[1;32m~\\anaconda3\\envs\\web_scapping\\lib\\site-packages\\selenium\\webdriver\\remote\\webelement.py:403\u001b[0m, in \u001b[0;36mWebElement._execute\u001b[1;34m(self, command, params)\u001b[0m\n\u001b[0;32m    401\u001b[0m     params \u001b[38;5;241m=\u001b[39m {}\n\u001b[0;32m    402\u001b[0m params[\u001b[38;5;124m\"\u001b[39m\u001b[38;5;124mid\u001b[39m\u001b[38;5;124m\"\u001b[39m] \u001b[38;5;241m=\u001b[39m \u001b[38;5;28mself\u001b[39m\u001b[38;5;241m.\u001b[39m_id\n\u001b[1;32m--> 403\u001b[0m \u001b[38;5;28;01mreturn\u001b[39;00m \u001b[38;5;28;43mself\u001b[39;49m\u001b[38;5;241;43m.\u001b[39;49m\u001b[43m_parent\u001b[49m\u001b[38;5;241;43m.\u001b[39;49m\u001b[43mexecute\u001b[49m\u001b[43m(\u001b[49m\u001b[43mcommand\u001b[49m\u001b[43m,\u001b[49m\u001b[43m \u001b[49m\u001b[43mparams\u001b[49m\u001b[43m)\u001b[49m\n",
      "File \u001b[1;32m~\\anaconda3\\envs\\web_scapping\\lib\\site-packages\\selenium\\webdriver\\remote\\webdriver.py:440\u001b[0m, in \u001b[0;36mWebDriver.execute\u001b[1;34m(self, driver_command, params)\u001b[0m\n\u001b[0;32m    438\u001b[0m response \u001b[38;5;241m=\u001b[39m \u001b[38;5;28mself\u001b[39m\u001b[38;5;241m.\u001b[39mcommand_executor\u001b[38;5;241m.\u001b[39mexecute(driver_command, params)\n\u001b[0;32m    439\u001b[0m \u001b[38;5;28;01mif\u001b[39;00m response:\n\u001b[1;32m--> 440\u001b[0m     \u001b[38;5;28;43mself\u001b[39;49m\u001b[38;5;241;43m.\u001b[39;49m\u001b[43merror_handler\u001b[49m\u001b[38;5;241;43m.\u001b[39;49m\u001b[43mcheck_response\u001b[49m\u001b[43m(\u001b[49m\u001b[43mresponse\u001b[49m\u001b[43m)\u001b[49m\n\u001b[0;32m    441\u001b[0m     response[\u001b[38;5;124m\"\u001b[39m\u001b[38;5;124mvalue\u001b[39m\u001b[38;5;124m\"\u001b[39m] \u001b[38;5;241m=\u001b[39m \u001b[38;5;28mself\u001b[39m\u001b[38;5;241m.\u001b[39m_unwrap_value(response\u001b[38;5;241m.\u001b[39mget(\u001b[38;5;124m\"\u001b[39m\u001b[38;5;124mvalue\u001b[39m\u001b[38;5;124m\"\u001b[39m, \u001b[38;5;28;01mNone\u001b[39;00m))\n\u001b[0;32m    442\u001b[0m     \u001b[38;5;28;01mreturn\u001b[39;00m response\n",
      "File \u001b[1;32m~\\anaconda3\\envs\\web_scapping\\lib\\site-packages\\selenium\\webdriver\\remote\\errorhandler.py:245\u001b[0m, in \u001b[0;36mErrorHandler.check_response\u001b[1;34m(self, response)\u001b[0m\n\u001b[0;32m    243\u001b[0m         alert_text \u001b[38;5;241m=\u001b[39m value[\u001b[38;5;124m\"\u001b[39m\u001b[38;5;124malert\u001b[39m\u001b[38;5;124m\"\u001b[39m]\u001b[38;5;241m.\u001b[39mget(\u001b[38;5;124m\"\u001b[39m\u001b[38;5;124mtext\u001b[39m\u001b[38;5;124m\"\u001b[39m)\n\u001b[0;32m    244\u001b[0m     \u001b[38;5;28;01mraise\u001b[39;00m exception_class(message, screen, stacktrace, alert_text)  \u001b[38;5;66;03m# type: ignore[call-arg]  # mypy is not smart enough here\u001b[39;00m\n\u001b[1;32m--> 245\u001b[0m \u001b[38;5;28;01mraise\u001b[39;00m exception_class(message, screen, stacktrace)\n",
      "\u001b[1;31mNoSuchElementException\u001b[0m: Message: no such element: Unable to locate element: {\"method\":\"css selector\",\"selector\":\"[name=\"email\"]\"}\n  (Session info: chrome=112.0.5615.139)\nStacktrace:\nBacktrace:\n\tGetHandleVerifier [0x0105DCE3+50899]\n\t(No symbol) [0x00FEE111]\n\t(No symbol) [0x00EF5588]\n\t(No symbol) [0x00F208F9]\n\t(No symbol) [0x00F20AFB]\n\t(No symbol) [0x00F18F71]\n\t(No symbol) [0x00F3B944]\n\t(No symbol) [0x00F18EC6]\n\t(No symbol) [0x00F3BC54]\n\t(No symbol) [0x00F4E01C]\n\t(No symbol) [0x00F3B6F6]\n\t(No symbol) [0x00F17708]\n\t(No symbol) [0x00F1886D]\n\tGetHandleVerifier [0x012C3EAE+2566302]\n\tGetHandleVerifier [0x012F92B1+2784417]\n\tGetHandleVerifier [0x012F327C+2759788]\n\tGetHandleVerifier [0x010F5740+672048]\n\t(No symbol) [0x00FF8872]\n\t(No symbol) [0x00FF41C8]\n\t(No symbol) [0x00FF42AB]\n\t(No symbol) [0x00FE71B7]\n\tBaseThreadInitThunk [0x74EF7D49+25]\n\tRtlInitializeExceptionChain [0x7721B74B+107]\n\tRtlClearBits [0x7721B6CF+191]\n"
     ]
    }
   ],
   "source": [
    "#Run\n",
    "from selenium import webdriver\n",
    "from webdriver_manager.chrome import ChromeDriverManager\n",
    "from selenium.webdriver.common.by import By\n",
    "from selenium.webdriver.support.ui import WebDriverWait\n",
    "from selenium.webdriver.support import expected_conditions as EC\n",
    "from time import sleep\n",
    "\n",
    "# Set up the Selenium driver\n",
    "driver = webdriver.Chrome(ChromeDriverManager().install())\n",
    "wait = WebDriverWait(driver, 10)\n",
    "\n",
    "# Navigate to the website you want to scrape\n",
    "driver.get('https://www.fffai.org/')\n",
    "driver.maximize_window()\n",
    "sleep(3)\n",
    "\n",
    "# Click the \"I Agree\" button to accept the website's cookies (if applicable)\n",
    "#try:\n",
    "  #  agree_button = driver.find_element(By.ID, 'btnAccept')\n",
    "#    agree_button.click()\n",
    "#    sleep(3)\n",
    "#except:\n",
    "#    pass\n",
    "\n",
    "# Click the \"Login\" button to go to the login page\n",
    "#login_button = driver.find_element(By.XPATH, \"//a[@class='login']\")\n",
    "#login_button.click()\n",
    "\n",
    "# Fill in the login form and submit it\n",
    "login_form = driver.find_element(By.XPATH, \"//input[@name='username']\")\n",
    "login_form.find_element(By.NAME, 'email').send_keys(' sunil.siddhientp@gmail.com')\n",
    "login_form.find_element(By.NAME, 'password').send_keys('$Siddhani1')\n",
    "login_form.submit()\n",
    "driver.find_element(By.XPATH,\"//button[@class='btn-search']\").click()\n",
    "\n",
    "# Wait for the login to complete and the dashboard page to load\n",
    "#wait.until(EC.visibility_of_element_located((By.XPATH, \"//div[@class='dashboard-inner-content']\")))\n",
    "\n",
    "# Navigate to the \"Member Association\" page\n",
    "#member_association_link = driver.find_element(By.XPATH, \"//a[contains(text(),'Member Association')]\")\n",
    "#member_association_link.click()\n",
    "\n",
    "# Wait for the Member Association page to load\n",
    "#wait.until(EC.visibility_of_element_located((By.XPATH, \"//div[@class='ma-search-container']\")))\n",
    "\n",
    "# Scrape data from the Member Association page\n",
    "#data_rows = driver.find_elements(By.XPATH, \"//div[@class='company_searched_box']\")\n",
    "#for row in data_rows:\n",
    "#    name = row.find_element(By.XPATH, \".//div[@class='col-sm-3 pl-0']\")\n",
    " #   address = row.find_element(By.XPATH, \".//div[@class='col-sm-3']\")\n",
    "  #  email = row.find_element(By.XPATH, \".//div[@class='col-sm-2']\")\n",
    "   # phone = row.find_element(By.XPATH, \".//div[@class='col-sm-2']\")\n",
    "    #print(name.text, address.text, email.text, phone.text)\n",
    "\n",
    "# Close the browser\n",
    "#driver.quit()\n"
   ]
  },
  {
   "cell_type": "code",
   "execution_count": 1,
   "id": "3625d988",
   "metadata": {},
   "outputs": [],
   "source": [
    "#Runnnn\n",
    "from time import sleep\n",
    "from selenium import webdriver\n",
    "from selenium.webdriver.common.by import By\n",
    "from selenium.webdriver.chrome.service import Service\n",
    "from webdriver_manager.chrome import ChromeDriverManager\n",
    "from selenium.webdriver.support.ui import WebDriverWait\n",
    "from selenium.webdriver.support import expected_conditions as EC\n",
    "import urllib.request\n",
    "import urllib\n",
    "import csv\n",
    "import os\n",
    "import sys\n",
    "import numpy as np\n",
    "import pandas as pd\n",
    "import re"
   ]
  },
  {
   "cell_type": "code",
   "execution_count": 2,
   "id": "e38cf8c6",
   "metadata": {},
   "outputs": [
    {
     "name": "stderr",
     "output_type": "stream",
     "text": [
      "C:\\Users\\Admin\\AppData\\Local\\Temp\\ipykernel_17432\\2403965775.py:1: DeprecationWarning: executable_path has been deprecated, please pass in a Service object\n",
      "  driver = webdriver.Chrome((ChromeDriverManager().install()))\n"
     ]
    }
   ],
   "source": [
    "driver = webdriver.Chrome((ChromeDriverManager().install()))\n",
    "wait = WebDriverWait(driver,10)\n",
    "driver.get(\"https://www.fffai.org/\")\n",
    "#driver.get('https://www.fffai.org/user/membership/membership-search?membership_type=3')\n",
    "driver.maximize_window()\n",
    "sleep(3)"
   ]
  },
  {
   "cell_type": "code",
   "execution_count": 3,
   "id": "46b5916a",
   "metadata": {},
   "outputs": [],
   "source": [
    "login_id =driver.find_element(By.XPATH,\".//input[@name='username']\")\n",
    "login_id.send_keys('sunil.siddhientp@gmail.com')\n",
    "login_pass = driver.find_element(By.XPATH,\".//input[@name='password']\")\n",
    "login_pass.send_keys('$Siddhani1')"
   ]
  },
  {
   "cell_type": "code",
   "execution_count": 4,
   "id": "21b84294",
   "metadata": {},
   "outputs": [],
   "source": [
    "login_button = driver.find_element(By.XPATH,\".//button[@class='btn-search']\").click()"
   ]
  },
  {
   "cell_type": "code",
   "execution_count": 5,
   "id": "9f5bb290",
   "metadata": {},
   "outputs": [
    {
     "ename": "StaleElementReferenceException",
     "evalue": "Message: stale element reference: element is not attached to the page document\n  (Session info: chrome=112.0.5615.139)\nStacktrace:\nBacktrace:\n\tGetHandleVerifier [0x00F9DCE3+50899]\n\t(No symbol) [0x00F2E111]\n\t(No symbol) [0x00E35588]\n\t(No symbol) [0x00E37EDB]\n\t(No symbol) [0x00E37DB0]\n\t(No symbol) [0x00E38030]\n\t(No symbol) [0x00E61E3D]\n\t(No symbol) [0x00E592ED]\n\t(No symbol) [0x00E7B8FC]\n\t(No symbol) [0x00E58EC6]\n\t(No symbol) [0x00E7BC54]\n\t(No symbol) [0x00E8E01C]\n\t(No symbol) [0x00E7B6F6]\n\t(No symbol) [0x00E57708]\n\t(No symbol) [0x00E5886D]\n\tGetHandleVerifier [0x01203EAE+2566302]\n\tGetHandleVerifier [0x012392B1+2784417]\n\tGetHandleVerifier [0x0123327C+2759788]\n\tGetHandleVerifier [0x01035740+672048]\n\t(No symbol) [0x00F38872]\n\t(No symbol) [0x00F341C8]\n\t(No symbol) [0x00F342AB]\n\t(No symbol) [0x00F271B7]\n\tBaseThreadInitThunk [0x74EF7D49+25]\n\tRtlInitializeExceptionChain [0x7721B74B+107]\n\tRtlClearBits [0x7721B6CF+191]\n",
     "output_type": "error",
     "traceback": [
      "\u001b[1;31m---------------------------------------------------------------------------\u001b[0m",
      "\u001b[1;31mStaleElementReferenceException\u001b[0m            Traceback (most recent call last)",
      "Cell \u001b[1;32mIn[5], line 1\u001b[0m\n\u001b[1;32m----> 1\u001b[0m memb_Associn\u001b[38;5;241m=\u001b[39m\u001b[43mdriver\u001b[49m\u001b[38;5;241;43m.\u001b[39;49m\u001b[43mfind_element\u001b[49m\u001b[43m(\u001b[49m\u001b[43mBy\u001b[49m\u001b[38;5;241;43m.\u001b[39;49m\u001b[43mXPATH\u001b[49m\u001b[43m,\u001b[49m\u001b[38;5;124;43m\"\u001b[39;49m\u001b[38;5;124;43m.//p[@class=\u001b[39;49m\u001b[38;5;124;43m'\u001b[39;49m\u001b[38;5;124;43mmp-nm\u001b[39;49m\u001b[38;5;124;43m'\u001b[39;49m\u001b[38;5;124;43m]\u001b[39;49m\u001b[38;5;124;43m\"\u001b[39;49m\u001b[43m)\u001b[49m\u001b[38;5;241;43m.\u001b[39;49m\u001b[43mclick\u001b[49m\u001b[43m(\u001b[49m\u001b[43m)\u001b[49m\n",
      "File \u001b[1;32m~\\anaconda3\\envs\\web_scapping\\lib\\site-packages\\selenium\\webdriver\\remote\\webelement.py:94\u001b[0m, in \u001b[0;36mWebElement.click\u001b[1;34m(self)\u001b[0m\n\u001b[0;32m     92\u001b[0m \u001b[38;5;28;01mdef\u001b[39;00m \u001b[38;5;21mclick\u001b[39m(\u001b[38;5;28mself\u001b[39m) \u001b[38;5;241m-\u001b[39m\u001b[38;5;241m>\u001b[39m \u001b[38;5;28;01mNone\u001b[39;00m:\n\u001b[0;32m     93\u001b[0m \u001b[38;5;250m    \u001b[39m\u001b[38;5;124;03m\"\"\"Clicks the element.\"\"\"\u001b[39;00m\n\u001b[1;32m---> 94\u001b[0m     \u001b[38;5;28;43mself\u001b[39;49m\u001b[38;5;241;43m.\u001b[39;49m\u001b[43m_execute\u001b[49m\u001b[43m(\u001b[49m\u001b[43mCommand\u001b[49m\u001b[38;5;241;43m.\u001b[39;49m\u001b[43mCLICK_ELEMENT\u001b[49m\u001b[43m)\u001b[49m\n",
      "File \u001b[1;32m~\\anaconda3\\envs\\web_scapping\\lib\\site-packages\\selenium\\webdriver\\remote\\webelement.py:403\u001b[0m, in \u001b[0;36mWebElement._execute\u001b[1;34m(self, command, params)\u001b[0m\n\u001b[0;32m    401\u001b[0m     params \u001b[38;5;241m=\u001b[39m {}\n\u001b[0;32m    402\u001b[0m params[\u001b[38;5;124m\"\u001b[39m\u001b[38;5;124mid\u001b[39m\u001b[38;5;124m\"\u001b[39m] \u001b[38;5;241m=\u001b[39m \u001b[38;5;28mself\u001b[39m\u001b[38;5;241m.\u001b[39m_id\n\u001b[1;32m--> 403\u001b[0m \u001b[38;5;28;01mreturn\u001b[39;00m \u001b[38;5;28;43mself\u001b[39;49m\u001b[38;5;241;43m.\u001b[39;49m\u001b[43m_parent\u001b[49m\u001b[38;5;241;43m.\u001b[39;49m\u001b[43mexecute\u001b[49m\u001b[43m(\u001b[49m\u001b[43mcommand\u001b[49m\u001b[43m,\u001b[49m\u001b[43m \u001b[49m\u001b[43mparams\u001b[49m\u001b[43m)\u001b[49m\n",
      "File \u001b[1;32m~\\anaconda3\\envs\\web_scapping\\lib\\site-packages\\selenium\\webdriver\\remote\\webdriver.py:440\u001b[0m, in \u001b[0;36mWebDriver.execute\u001b[1;34m(self, driver_command, params)\u001b[0m\n\u001b[0;32m    438\u001b[0m response \u001b[38;5;241m=\u001b[39m \u001b[38;5;28mself\u001b[39m\u001b[38;5;241m.\u001b[39mcommand_executor\u001b[38;5;241m.\u001b[39mexecute(driver_command, params)\n\u001b[0;32m    439\u001b[0m \u001b[38;5;28;01mif\u001b[39;00m response:\n\u001b[1;32m--> 440\u001b[0m     \u001b[38;5;28;43mself\u001b[39;49m\u001b[38;5;241;43m.\u001b[39;49m\u001b[43merror_handler\u001b[49m\u001b[38;5;241;43m.\u001b[39;49m\u001b[43mcheck_response\u001b[49m\u001b[43m(\u001b[49m\u001b[43mresponse\u001b[49m\u001b[43m)\u001b[49m\n\u001b[0;32m    441\u001b[0m     response[\u001b[38;5;124m\"\u001b[39m\u001b[38;5;124mvalue\u001b[39m\u001b[38;5;124m\"\u001b[39m] \u001b[38;5;241m=\u001b[39m \u001b[38;5;28mself\u001b[39m\u001b[38;5;241m.\u001b[39m_unwrap_value(response\u001b[38;5;241m.\u001b[39mget(\u001b[38;5;124m\"\u001b[39m\u001b[38;5;124mvalue\u001b[39m\u001b[38;5;124m\"\u001b[39m, \u001b[38;5;28;01mNone\u001b[39;00m))\n\u001b[0;32m    442\u001b[0m     \u001b[38;5;28;01mreturn\u001b[39;00m response\n",
      "File \u001b[1;32m~\\anaconda3\\envs\\web_scapping\\lib\\site-packages\\selenium\\webdriver\\remote\\errorhandler.py:245\u001b[0m, in \u001b[0;36mErrorHandler.check_response\u001b[1;34m(self, response)\u001b[0m\n\u001b[0;32m    243\u001b[0m         alert_text \u001b[38;5;241m=\u001b[39m value[\u001b[38;5;124m\"\u001b[39m\u001b[38;5;124malert\u001b[39m\u001b[38;5;124m\"\u001b[39m]\u001b[38;5;241m.\u001b[39mget(\u001b[38;5;124m\"\u001b[39m\u001b[38;5;124mtext\u001b[39m\u001b[38;5;124m\"\u001b[39m)\n\u001b[0;32m    244\u001b[0m     \u001b[38;5;28;01mraise\u001b[39;00m exception_class(message, screen, stacktrace, alert_text)  \u001b[38;5;66;03m# type: ignore[call-arg]  # mypy is not smart enough here\u001b[39;00m\n\u001b[1;32m--> 245\u001b[0m \u001b[38;5;28;01mraise\u001b[39;00m exception_class(message, screen, stacktrace)\n",
      "\u001b[1;31mStaleElementReferenceException\u001b[0m: Message: stale element reference: element is not attached to the page document\n  (Session info: chrome=112.0.5615.139)\nStacktrace:\nBacktrace:\n\tGetHandleVerifier [0x00F9DCE3+50899]\n\t(No symbol) [0x00F2E111]\n\t(No symbol) [0x00E35588]\n\t(No symbol) [0x00E37EDB]\n\t(No symbol) [0x00E37DB0]\n\t(No symbol) [0x00E38030]\n\t(No symbol) [0x00E61E3D]\n\t(No symbol) [0x00E592ED]\n\t(No symbol) [0x00E7B8FC]\n\t(No symbol) [0x00E58EC6]\n\t(No symbol) [0x00E7BC54]\n\t(No symbol) [0x00E8E01C]\n\t(No symbol) [0x00E7B6F6]\n\t(No symbol) [0x00E57708]\n\t(No symbol) [0x00E5886D]\n\tGetHandleVerifier [0x01203EAE+2566302]\n\tGetHandleVerifier [0x012392B1+2784417]\n\tGetHandleVerifier [0x0123327C+2759788]\n\tGetHandleVerifier [0x01035740+672048]\n\t(No symbol) [0x00F38872]\n\t(No symbol) [0x00F341C8]\n\t(No symbol) [0x00F342AB]\n\t(No symbol) [0x00F271B7]\n\tBaseThreadInitThunk [0x74EF7D49+25]\n\tRtlInitializeExceptionChain [0x7721B74B+107]\n\tRtlClearBits [0x7721B6CF+191]\n"
     ]
    }
   ],
   "source": [
    "memb_Associn=driver.find_element(By.XPATH,\".//p[@class='mp-nm']\").click()"
   ]
  },
  {
   "cell_type": "code",
   "execution_count": 28,
   "id": "5981201d",
   "metadata": {},
   "outputs": [],
   "source": [
    "box =  driver.find_element(By.XPATH,\"//div[@class='login-frm-4 login-1']\")"
   ]
  },
  {
   "cell_type": "code",
   "execution_count": 27,
   "id": "bebeb40e",
   "metadata": {},
   "outputs": [],
   "source": [
    "from selenium.webdriver.support.ui import Select\n",
    "dropdown = Select(driver.find_element(By.ID,\"membership-type\"))\n",
    "dropdown.select_by_value('1')\n",
    "#my_element = driver.find_element(By.ID, \"my_element\")"
   ]
  },
  {
   "cell_type": "code",
   "execution_count": 53,
   "id": "911b6b9d",
   "metadata": {
    "scrolled": true
   },
   "outputs": [],
   "source": [
    "Submit_button = driver.find_element(By.XPATH,\".//button[@class='btn-search-3']\").click()"
   ]
  },
  {
   "cell_type": "code",
   "execution_count": 55,
   "id": "406ca901",
   "metadata": {},
   "outputs": [],
   "source": [
    "#boxes = driver.find_elements(By.XPATH,\"//div[@class='login-frm-4 login-1 mt-4']\")\n",
    "#y=x.find_elements(By.XPATH,\"//div[@class='col-sm-3 pl-0']\")\n",
    "#y[0].click()\n",
    "#for i in boxes:\n",
    " #   i.find_elements(By.XPATH,\".//a[@class='btn-search-4']\").click()\n",
    "  #  c_name = i.find_elements(By.XPATH,\".//p[@class='nm mb-2']\").text\n",
    "   # Address = i.find_elements(By.XPATH,\"./p[@class='info']\").text\n",
    "    "
   ]
  },
  {
   "cell_type": "code",
   "execution_count": 70,
   "id": "fe401e51",
   "metadata": {},
   "outputs": [
    {
     "data": {
      "text/plain": [
       "9"
      ]
     },
     "execution_count": 70,
     "metadata": {},
     "output_type": "execute_result"
    }
   ],
   "source": [
    "len(btn_search)"
   ]
  },
  {
   "cell_type": "code",
   "execution_count": 29,
   "id": "b1d9cf5b",
   "metadata": {},
   "outputs": [
    {
     "name": "stdout",
     "output_type": "stream",
     "text": [
      "20 Cube Logistics Pvt Ltd.,\n",
      "No.52/15, Seelan Plaza,Muniasamypuram, 2nd Street,Tuticorin 628 003\n",
      "Tel No :\n",
      "4614004013\n",
      "Mob No :\n",
      "9566544940\n",
      "Email :\n",
      "tut5way@gmail.com      \n",
      "Authorised person :\n",
      "Shri N. Murugesan\n",
      "20 Cube Logistics Pvt. Ltd.\n",
      "Navins WSS Towers, 9th floor, 107/108, Haris Road, Pudupet Chennai-600 002 India\n",
      "Tel No :\n",
      "914443933002\n",
      "Mob No :\n",
      "98403 55204\n",
      "21st Century Relocations\n",
      "C-232, Antop Hill Warehousing Complex, V.I.T Road, Wadala (East), Mumbai-400 037\n",
      "Tel No :\n",
      "022 24172121\n",
      "Mob No :\n",
      "9820520777\n",
      "Email :\n",
      "info@21stcenturyrelocations.com      \n",
      "24 x 7 Logistics Private Limited\n",
      "C-232, Antop Hill Warehousing Company Ltd. V.I.T. Road, Wadala (East),Mumbai 400 037\n",
      "Tel No :\n",
      "091-22-24172407\n",
      "Mob No :\n",
      "9819403232\n",
      "Email :\n",
      "info@24x7logistics.com      \n",
      "Authorised person :\n",
      "Mr. Chandrakant J. Thakker\n",
      "3VB Shipptrans\n",
      "2nd Floor,Office No.B,Dbzsouth160,Gandhidham-370201\n",
      "Tel No :\n",
      "8401111655\n",
      "Mob No :\n",
      "9173943336\n",
      "4 Square Logistics\n",
      "Agarwal Trade Centre, B Wing, 7th Floor Office No. 76 Plot no. 62, Sector 11 CBD Belapur,Navi Mumbai - 400614\n",
      "Tel No :\n",
      "919820373985\n",
      "Mob No :\n",
      "919820373985\n",
      "Email :\n",
      "freight.4square@gmail.com      \n",
      "Authorised person :\n",
      "Machinder M Gadge\n",
      "4S Logistics Solutions Pvt. Ltd.\n",
      "No.510, on The 5th Floor,Kukreja Plaza Co-operative Society Ltd.,, A Wing, Plot No.46,47 & 55 Sector-11, Belapur, Navi Mumbai-400 705\n",
      "Tel No :\n",
      "022 49702080\n",
      "Mob No :\n",
      "7400413786\n",
      "Email :\n",
      "mumbai@4slogistics.com      \n",
      "Authorised person :\n",
      "Mr. C. Sathyanarayan\n",
      "5 Way Logistics Solutions (India) Pvt. Ltd.\n",
      "205762/ 04.10.2017 Vijaya Bank\n",
      "Tel No :\n",
      "022 26452767\n",
      "Mob No :\n",
      "9819967243\n",
      "Email :\n",
      "5waymumbai@gmail.com      \n",
      "Authorised person :\n",
      "Mr. M.G. Mohamed Amzad Rabbani\n",
      "5 Way Logistics Solutions Pvt Ltd\n",
      "No.19/61, 4th floor, Moore Street, Mannady, Chennai-600001\n",
      "Tel No :\n",
      "091-44-2523722\n",
      "Mob No :\n",
      "988 44 82722\n",
      "Email :\n",
      "mohamed.amzad@5way.org      \n",
      "Authorised person :\n",
      "Mr. M.G. Mohamed\n",
      "A .V. Global Corporation Pvt. Ltd.\n",
      "204/205, Atlanta Tower, Sahar Airport Road, Andheri (East), Mumbai-400099\n",
      "Tel No :\n",
      "091-22-28368623\n",
      "Mob No :\n",
      "9920748909\n",
      "Email :\n",
      "anil.sharma@bom.avglobal.in      \n",
      "Mr. Anil Sharma\n"
     ]
    }
   ],
   "source": [
    "boxes = driver.find_elements(By.XPATH,\"//div[@class='login-frm-4 login-1 mt-4']\")\n",
    "for i in boxes:\n",
    "    n=1\n",
    "    Each_box=0\n",
    "    btn_search = i.find_elements(By.XPATH,\".//a[@class='btn-search-4']\")\n",
    "    for btn in btn_search:\n",
    "\n",
    "        if len(btn_search) > 0:\n",
    "            btn.click()\n",
    "            info = driver.find_elements(By.XPATH,\"//div[@class='ln-in']\")[Each_box].text\n",
    "            print(info)\n",
    "            \n",
    "\n",
    "#             c_name = i.find_elements(By.XPATH,\".//p[@class='nm mb-2']\")\n",
    "#             if len(c_name) > 0:\n",
    "#                 c_name = c_name[1].text\n",
    "#             else:\n",
    "#                 c_name = \"N/A\"\n",
    "\n",
    "\n",
    "#             address = i.find_elements(By.XPATH,\".//p[@class='info']\")\n",
    "#             if len(address) > 0:\n",
    "#                 address = address[1].text\n",
    "#             else:\n",
    "#                 address = \"N/A\"\n",
    "            Each_box+=1    \n",
    "\n",
    "          \n",
    "    n=n+1\n",
    "    \n",
    "        \n",
    "    pagination = driver.find_element(By.XPATH,\"//div[@class='paginationjs-pages']\")\n",
    "    page_no = pagination.find_element(By.XPATH,f\".//li[@data-num='{n}']\")\n",
    "    page_no.click()\n",
    "    \n",
    "    \n",
    "    \n",
    "            \n",
    "            \n",
    "     \n",
    "            \n",
    "            \n",
    "            \n",
    "            #print(f\"Company Name: {c_name}\\nAddress: {address}\\n\")\n",
    "        #else:\n",
    "            #print(\"Button not found\")\n"
   ]
  },
  {
   "cell_type": "code",
   "execution_count": 30,
   "id": "15de8783",
   "metadata": {},
   "outputs": [],
   "source": [
    "for n in range(1,10):\n",
    "    \n",
    "    pagination = driver.find_element(By.XPATH,\"//div[@class='paginationjs-pages']\")\n",
    "    page_no = pagination.find_element(By.XPATH,f\".//li[@data-num='{n}']\")\n",
    "    page_no.click()\n",
    "    sleep(2)\n"
   ]
  },
  {
   "cell_type": "code",
   "execution_count": null,
   "id": "ab575e82",
   "metadata": {},
   "outputs": [],
   "source": []
  },
  {
   "cell_type": "code",
   "execution_count": null,
   "id": "5e6c76e4",
   "metadata": {},
   "outputs": [],
   "source": []
  },
  {
   "cell_type": "code",
   "execution_count": null,
   "id": "42a66179",
   "metadata": {},
   "outputs": [],
   "source": []
  },
  {
   "cell_type": "code",
   "execution_count": 31,
   "id": "83e3a501",
   "metadata": {},
   "outputs": [
    {
     "name": "stderr",
     "output_type": "stream",
     "text": [
      "C:\\Users\\Admin\\AppData\\Local\\Temp\\ipykernel_10676\\4268744071.py:6: DeprecationWarning: executable_path has been deprecated, please pass in a Service object\n",
      "  driver = webdriver.Chrome((ChromeDriverManager().install()))\n"
     ]
    },
    {
     "ename": "NoSuchElementException",
     "evalue": "Message: no such element: Unable to locate element: {\"method\":\"xpath\",\"selector\":\"//div[@class='login-frm-4 login-1']\"}\n  (Session info: chrome=112.0.5615.139)\nStacktrace:\nBacktrace:\n\tGetHandleVerifier [0x0105DCE3+50899]\n\t(No symbol) [0x00FEE111]\n\t(No symbol) [0x00EF5588]\n\t(No symbol) [0x00F208F9]\n\t(No symbol) [0x00F20AFB]\n\t(No symbol) [0x00F4F902]\n\t(No symbol) [0x00F3B944]\n\t(No symbol) [0x00F4E01C]\n\t(No symbol) [0x00F3B6F6]\n\t(No symbol) [0x00F17708]\n\t(No symbol) [0x00F1886D]\n\tGetHandleVerifier [0x012C3EAE+2566302]\n\tGetHandleVerifier [0x012F92B1+2784417]\n\tGetHandleVerifier [0x012F327C+2759788]\n\tGetHandleVerifier [0x010F5740+672048]\n\t(No symbol) [0x00FF8872]\n\t(No symbol) [0x00FF41C8]\n\t(No symbol) [0x00FF42AB]\n\t(No symbol) [0x00FE71B7]\n\tBaseThreadInitThunk [0x74EF7D49+25]\n\tRtlInitializeExceptionChain [0x7721B74B+107]\n\tRtlClearBits [0x7721B6CF+191]\n",
     "output_type": "error",
     "traceback": [
      "\u001b[1;31m---------------------------------------------------------------------------\u001b[0m",
      "\u001b[1;31mNoSuchElementException\u001b[0m                    Traceback (most recent call last)",
      "Cell \u001b[1;32mIn[31], line 22\u001b[0m\n\u001b[0;32m     18\u001b[0m login_button \u001b[38;5;241m=\u001b[39m driver\u001b[38;5;241m.\u001b[39mfind_element(By\u001b[38;5;241m.\u001b[39mXPATH,\u001b[38;5;124m\"\u001b[39m\u001b[38;5;124m.//button[@class=\u001b[39m\u001b[38;5;124m'\u001b[39m\u001b[38;5;124mbtn-search\u001b[39m\u001b[38;5;124m'\u001b[39m\u001b[38;5;124m]\u001b[39m\u001b[38;5;124m\"\u001b[39m)\u001b[38;5;241m.\u001b[39mclick()\n\u001b[0;32m     20\u001b[0m memb_Associn\u001b[38;5;241m=\u001b[39mdriver\u001b[38;5;241m.\u001b[39mfind_element(By\u001b[38;5;241m.\u001b[39mXPATH,\u001b[38;5;124m\"\u001b[39m\u001b[38;5;124m.//p[@class=\u001b[39m\u001b[38;5;124m'\u001b[39m\u001b[38;5;124mmp-nm\u001b[39m\u001b[38;5;124m'\u001b[39m\u001b[38;5;124m]\u001b[39m\u001b[38;5;124m\"\u001b[39m)\u001b[38;5;241m.\u001b[39mclick()\n\u001b[1;32m---> 22\u001b[0m box \u001b[38;5;241m=\u001b[39m  \u001b[43mdriver\u001b[49m\u001b[38;5;241;43m.\u001b[39;49m\u001b[43mfind_element\u001b[49m\u001b[43m(\u001b[49m\u001b[43mBy\u001b[49m\u001b[38;5;241;43m.\u001b[39;49m\u001b[43mXPATH\u001b[49m\u001b[43m,\u001b[49m\u001b[38;5;124;43m\"\u001b[39;49m\u001b[38;5;124;43m//div[@class=\u001b[39;49m\u001b[38;5;124;43m'\u001b[39;49m\u001b[38;5;124;43mlogin-frm-4 login-1\u001b[39;49m\u001b[38;5;124;43m'\u001b[39;49m\u001b[38;5;124;43m]\u001b[39;49m\u001b[38;5;124;43m\"\u001b[39;49m\u001b[43m)\u001b[49m\n\u001b[0;32m     24\u001b[0m \u001b[38;5;28;01mfrom\u001b[39;00m \u001b[38;5;21;01mselenium\u001b[39;00m\u001b[38;5;21;01m.\u001b[39;00m\u001b[38;5;21;01mwebdriver\u001b[39;00m\u001b[38;5;21;01m.\u001b[39;00m\u001b[38;5;21;01msupport\u001b[39;00m\u001b[38;5;21;01m.\u001b[39;00m\u001b[38;5;21;01mui\u001b[39;00m \u001b[38;5;28;01mimport\u001b[39;00m Select\n\u001b[0;32m     25\u001b[0m dropdown \u001b[38;5;241m=\u001b[39m Select(driver\u001b[38;5;241m.\u001b[39mfind_element(By\u001b[38;5;241m.\u001b[39mID,\u001b[38;5;124m\"\u001b[39m\u001b[38;5;124mmembership-type\u001b[39m\u001b[38;5;124m\"\u001b[39m))\n",
      "File \u001b[1;32m~\\anaconda3\\envs\\web_scapping\\lib\\site-packages\\selenium\\webdriver\\remote\\webdriver.py:831\u001b[0m, in \u001b[0;36mWebDriver.find_element\u001b[1;34m(self, by, value)\u001b[0m\n\u001b[0;32m    828\u001b[0m     by \u001b[38;5;241m=\u001b[39m By\u001b[38;5;241m.\u001b[39mCSS_SELECTOR\n\u001b[0;32m    829\u001b[0m     value \u001b[38;5;241m=\u001b[39m \u001b[38;5;124mf\u001b[39m\u001b[38;5;124m'\u001b[39m\u001b[38;5;124m[name=\u001b[39m\u001b[38;5;124m\"\u001b[39m\u001b[38;5;132;01m{\u001b[39;00mvalue\u001b[38;5;132;01m}\u001b[39;00m\u001b[38;5;124m\"\u001b[39m\u001b[38;5;124m]\u001b[39m\u001b[38;5;124m'\u001b[39m\n\u001b[1;32m--> 831\u001b[0m \u001b[38;5;28;01mreturn\u001b[39;00m \u001b[38;5;28;43mself\u001b[39;49m\u001b[38;5;241;43m.\u001b[39;49m\u001b[43mexecute\u001b[49m\u001b[43m(\u001b[49m\u001b[43mCommand\u001b[49m\u001b[38;5;241;43m.\u001b[39;49m\u001b[43mFIND_ELEMENT\u001b[49m\u001b[43m,\u001b[49m\u001b[43m \u001b[49m\u001b[43m{\u001b[49m\u001b[38;5;124;43m\"\u001b[39;49m\u001b[38;5;124;43musing\u001b[39;49m\u001b[38;5;124;43m\"\u001b[39;49m\u001b[43m:\u001b[49m\u001b[43m \u001b[49m\u001b[43mby\u001b[49m\u001b[43m,\u001b[49m\u001b[43m \u001b[49m\u001b[38;5;124;43m\"\u001b[39;49m\u001b[38;5;124;43mvalue\u001b[39;49m\u001b[38;5;124;43m\"\u001b[39;49m\u001b[43m:\u001b[49m\u001b[43m \u001b[49m\u001b[43mvalue\u001b[49m\u001b[43m}\u001b[49m\u001b[43m)\u001b[49m[\u001b[38;5;124m\"\u001b[39m\u001b[38;5;124mvalue\u001b[39m\u001b[38;5;124m\"\u001b[39m]\n",
      "File \u001b[1;32m~\\anaconda3\\envs\\web_scapping\\lib\\site-packages\\selenium\\webdriver\\remote\\webdriver.py:440\u001b[0m, in \u001b[0;36mWebDriver.execute\u001b[1;34m(self, driver_command, params)\u001b[0m\n\u001b[0;32m    438\u001b[0m response \u001b[38;5;241m=\u001b[39m \u001b[38;5;28mself\u001b[39m\u001b[38;5;241m.\u001b[39mcommand_executor\u001b[38;5;241m.\u001b[39mexecute(driver_command, params)\n\u001b[0;32m    439\u001b[0m \u001b[38;5;28;01mif\u001b[39;00m response:\n\u001b[1;32m--> 440\u001b[0m     \u001b[38;5;28;43mself\u001b[39;49m\u001b[38;5;241;43m.\u001b[39;49m\u001b[43merror_handler\u001b[49m\u001b[38;5;241;43m.\u001b[39;49m\u001b[43mcheck_response\u001b[49m\u001b[43m(\u001b[49m\u001b[43mresponse\u001b[49m\u001b[43m)\u001b[49m\n\u001b[0;32m    441\u001b[0m     response[\u001b[38;5;124m\"\u001b[39m\u001b[38;5;124mvalue\u001b[39m\u001b[38;5;124m\"\u001b[39m] \u001b[38;5;241m=\u001b[39m \u001b[38;5;28mself\u001b[39m\u001b[38;5;241m.\u001b[39m_unwrap_value(response\u001b[38;5;241m.\u001b[39mget(\u001b[38;5;124m\"\u001b[39m\u001b[38;5;124mvalue\u001b[39m\u001b[38;5;124m\"\u001b[39m, \u001b[38;5;28;01mNone\u001b[39;00m))\n\u001b[0;32m    442\u001b[0m     \u001b[38;5;28;01mreturn\u001b[39;00m response\n",
      "File \u001b[1;32m~\\anaconda3\\envs\\web_scapping\\lib\\site-packages\\selenium\\webdriver\\remote\\errorhandler.py:245\u001b[0m, in \u001b[0;36mErrorHandler.check_response\u001b[1;34m(self, response)\u001b[0m\n\u001b[0;32m    243\u001b[0m         alert_text \u001b[38;5;241m=\u001b[39m value[\u001b[38;5;124m\"\u001b[39m\u001b[38;5;124malert\u001b[39m\u001b[38;5;124m\"\u001b[39m]\u001b[38;5;241m.\u001b[39mget(\u001b[38;5;124m\"\u001b[39m\u001b[38;5;124mtext\u001b[39m\u001b[38;5;124m\"\u001b[39m)\n\u001b[0;32m    244\u001b[0m     \u001b[38;5;28;01mraise\u001b[39;00m exception_class(message, screen, stacktrace, alert_text)  \u001b[38;5;66;03m# type: ignore[call-arg]  # mypy is not smart enough here\u001b[39;00m\n\u001b[1;32m--> 245\u001b[0m \u001b[38;5;28;01mraise\u001b[39;00m exception_class(message, screen, stacktrace)\n",
      "\u001b[1;31mNoSuchElementException\u001b[0m: Message: no such element: Unable to locate element: {\"method\":\"xpath\",\"selector\":\"//div[@class='login-frm-4 login-1']\"}\n  (Session info: chrome=112.0.5615.139)\nStacktrace:\nBacktrace:\n\tGetHandleVerifier [0x0105DCE3+50899]\n\t(No symbol) [0x00FEE111]\n\t(No symbol) [0x00EF5588]\n\t(No symbol) [0x00F208F9]\n\t(No symbol) [0x00F20AFB]\n\t(No symbol) [0x00F4F902]\n\t(No symbol) [0x00F3B944]\n\t(No symbol) [0x00F4E01C]\n\t(No symbol) [0x00F3B6F6]\n\t(No symbol) [0x00F17708]\n\t(No symbol) [0x00F1886D]\n\tGetHandleVerifier [0x012C3EAE+2566302]\n\tGetHandleVerifier [0x012F92B1+2784417]\n\tGetHandleVerifier [0x012F327C+2759788]\n\tGetHandleVerifier [0x010F5740+672048]\n\t(No symbol) [0x00FF8872]\n\t(No symbol) [0x00FF41C8]\n\t(No symbol) [0x00FF42AB]\n\t(No symbol) [0x00FE71B7]\n\tBaseThreadInitThunk [0x74EF7D49+25]\n\tRtlInitializeExceptionChain [0x7721B74B+107]\n\tRtlClearBits [0x7721B6CF+191]\n"
     ]
    }
   ],
   "source": [
    "from selenium import webdriver\n",
    "from selenium.webdriver.common.by import By\n",
    "from selenium.webdriver.support.ui import WebDriverWait\n",
    "from selenium.webdriver.support import expected_conditions as EC\n",
    "\n",
    "driver = webdriver.Chrome((ChromeDriverManager().install()))\n",
    "wait = WebDriverWait(driver,10)\n",
    "driver.get(\"https://www.fffai.org/\")\n",
    "#driver.get('https://www.fffai.org/user/membership/membership-search?membership_type=3')\n",
    "driver.maximize_window()\n",
    "sleep(3)\n",
    "\n",
    "login_id =driver.find_element(By.XPATH,\".//input[@name='username']\")\n",
    "login_id.send_keys('sunil.siddhientp@gmail.com')\n",
    "login_pass = driver.find_element(By.XPATH,\".//input[@name='password']\")\n",
    "login_pass.send_keys('$Siddhani1')\n",
    "\n",
    "login_button = driver.find_element(By.XPATH,\".//button[@class='btn-search']\").click()\n",
    "\n",
    "memb_Associn=driver.find_element(By.XPATH,\".//p[@class='mp-nm']\").click()\n",
    "\n",
    "box =  driver.find_element(By.XPATH,\"//div[@class='login-frm-4 login-1']\")\n",
    "\n",
    "from selenium.webdriver.support.ui import Select\n",
    "dropdown = Select(driver.find_element(By.ID,\"membership-type\"))\n",
    "dropdown.select_by_value('1')\n",
    "#my_element = driver.find_element(By.ID, \"my_element\")\n",
    "\n",
    "Submit_button = driver.find_element(By.XPATH,\".//button[@class='btn-search-3']\").click()\n",
    "\n",
    "\n",
    "\n",
    "\n",
    "# set up the driver\n",
    "#driver = webdriver.Chrome()\n",
    "#driver.get(\"https://www.fffai.org/user/membership/membership-search?membership_type=3\")\n",
    "\n",
    "# wait for the page to load\n",
    "WebDriverWait(driver, 10).until(EC.presence_of_element_located((By.XPATH, \"//div[@class='login-frm-4 login-1 mt-4']\")))\n",
    "\n",
    "# find the box containing the company information\n",
    "boxes = driver.find_elements(By.XPATH,\"//div[@class='login-frm-4 login-1 mt-4']\")\n",
    "\n",
    "for i in boxes:\n",
    "    # locate the \"View Contact Details\" button\n",
    "    btn_search = i.find_elements(By.XPATH,\".//a[@class='btn-search-4']\")\n",
    "    if len(btn_search) > 0:\n",
    "        btn_search[0].click()\n",
    "        \n",
    "        # wait for the new page to load\n",
    "        WebDriverWait(driver, 10).until(EC.number_of_windows_to_be(2))\n",
    "        \n",
    "        # switch to the new window\n",
    "        driver.switch_to.window(driver.window_handles[1])\n",
    "        \n",
    "        # scrape the required information\n",
    "        tel_no = driver.find_element(By.XPATH, \"//div[contains(text(), 'Tel No')]/following-sibling::div\").text\n",
    "        mob_no = driver.find_element(By.XPATH, \"//div[contains(text(), 'Mob No')]/following-sibling::div\").text\n",
    "        email = driver.find_element(By.XPATH, \"//div[contains(text(), 'Email')]/following-sibling::div\").text\n",
    "        authorised_person = driver.find_element(By.XPATH, \"//div[contains(text(), 'Authorised Person')]/following-sibling::div\").text\n",
    "        \n",
    "        # print the scraped information\n",
    "        print(f\"Company: 3VB Shipptrans\")\n",
    "        print(f\"Address: 2nd Floor, Office No.B, Dbzsouth160, Gandhidham-370201\")\n",
    "        print(f\"Tel No: {tel_no}\")\n",
    "        print(f\"Mob No: {mob_no}\")\n",
    "        print(f\"Email: {email}\")\n",
    "        print(f\"Authorised Person: {authorised_person}\")\n",
    "        \n",
    "        # close the new window\n",
    "        driver.close()\n",
    "        \n",
    "        # switch back to the original window\n",
    "        driver.switch_to.window(driver.window_handles[0])\n",
    "        \n",
    "   \n",
    "\n",
    "    \n",
    "   \n"
   ]
  },
  {
   "cell_type": "code",
   "execution_count": null,
   "id": "b8a84169",
   "metadata": {},
   "outputs": [],
   "source": []
  }
 ],
 "metadata": {
  "kernelspec": {
   "display_name": "web_scapping",
   "language": "python",
   "name": "web_scapping"
  },
  "language_info": {
   "codemirror_mode": {
    "name": "ipython",
    "version": 3
   },
   "file_extension": ".py",
   "mimetype": "text/x-python",
   "name": "python",
   "nbconvert_exporter": "python",
   "pygments_lexer": "ipython3",
   "version": "3.10.10"
  }
 },
 "nbformat": 4,
 "nbformat_minor": 5
}
